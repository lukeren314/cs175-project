{
 "cells": [
  {
   "cell_type": "markdown",
   "metadata": {},
   "source": [
    "# CS Project 175 Phase 1"
   ]
  },
  {
   "cell_type": "code",
   "execution_count": null,
   "metadata": {},
   "outputs": [],
   "source": [
    "!pip install pandas\n",
    "!pip install scikit-learn\n",
    "!pip install matplotlib\n",
    "!pip install seaborn\n",
    "!pip install nltk"
   ]
  },
  {
   "cell_type": "code",
   "execution_count": 1,
   "metadata": {},
   "outputs": [],
   "source": [
    "import pandas as pd\n",
    "import numpy as np\n",
    "\n",
    "from nltk import word_tokenize\n",
    "from sklearn.feature_extraction.text import CountVectorizer\n",
    "from sklearn.model_selection import train_test_split\n",
    "from sklearn import linear_model \n",
    "from sklearn import metrics \n",
    "from sklearn import preprocessing\n",
    "\n",
    "import seaborn"
   ]
  },
  {
   "cell_type": "markdown",
   "metadata": {},
   "source": [
    "# Analyzing the Data"
   ]
  },
  {
   "cell_type": "code",
   "execution_count": 2,
   "metadata": {},
   "outputs": [
    {
     "data": {
      "text/html": [
       "<div>\n",
       "<style scoped>\n",
       "    .dataframe tbody tr th:only-of-type {\n",
       "        vertical-align: middle;\n",
       "    }\n",
       "\n",
       "    .dataframe tbody tr th {\n",
       "        vertical-align: top;\n",
       "    }\n",
       "\n",
       "    .dataframe thead th {\n",
       "        text-align: right;\n",
       "    }\n",
       "</style>\n",
       "<table border=\"1\" class=\"dataframe\">\n",
       "  <thead>\n",
       "    <tr style=\"text-align: right;\">\n",
       "      <th></th>\n",
       "      <th>title</th>\n",
       "      <th>genre</th>\n",
       "      <th>lyrics</th>\n",
       "    </tr>\n",
       "  </thead>\n",
       "  <tbody>\n",
       "    <tr>\n",
       "      <th>0</th>\n",
       "      <td>the number of the beast</td>\n",
       "      <td>metal</td>\n",
       "      <td>woe to you o'er earth and sea\\r\\nfor the devil...</td>\n",
       "    </tr>\n",
       "    <tr>\n",
       "      <th>1</th>\n",
       "      <td>fear of the dark</td>\n",
       "      <td>metal</td>\n",
       "      <td>i am a man who walks alone\\r\\nand when i'm wal...</td>\n",
       "    </tr>\n",
       "    <tr>\n",
       "      <th>2</th>\n",
       "      <td>the trooper</td>\n",
       "      <td>metal</td>\n",
       "      <td>you'll take my life but i'll take yours too\\r\\...</td>\n",
       "    </tr>\n",
       "    <tr>\n",
       "      <th>3</th>\n",
       "      <td>hallowed be thy name</td>\n",
       "      <td>metal</td>\n",
       "      <td>i'm waiting in my cold cell when the bell begi...</td>\n",
       "    </tr>\n",
       "    <tr>\n",
       "      <th>4</th>\n",
       "      <td>run to the hills</td>\n",
       "      <td>metal</td>\n",
       "      <td>white man came across the sea\\r\\nhe brought us...</td>\n",
       "    </tr>\n",
       "  </tbody>\n",
       "</table>\n",
       "</div>"
      ],
      "text/plain": [
       "                     title  genre  \\\n",
       "0  the number of the beast  metal   \n",
       "1         fear of the dark  metal   \n",
       "2              the trooper  metal   \n",
       "3     hallowed be thy name  metal   \n",
       "4         run to the hills  metal   \n",
       "\n",
       "                                              lyrics  \n",
       "0  woe to you o'er earth and sea\\r\\nfor the devil...  \n",
       "1  i am a man who walks alone\\r\\nand when i'm wal...  \n",
       "2  you'll take my life but i'll take yours too\\r\\...  \n",
       "3  i'm waiting in my cold cell when the bell begi...  \n",
       "4  white man came across the sea\\r\\nhe brought us...  "
      ]
     },
     "execution_count": 2,
     "metadata": {},
     "output_type": "execute_result"
    }
   ],
   "source": [
    "data = pd.read_csv('./data/data.csv')\n",
    "del data['Unnamed: 0']\n",
    "data.head()"
   ]
  },
  {
   "cell_type": "code",
   "execution_count": 3,
   "metadata": {},
   "outputs": [
    {
     "name": "stdout",
     "output_type": "stream",
     "text": [
      "Num of rows 295288\n",
      "biggest class:  118834\n",
      "smallest class:  7630\n"
     ]
    },
    {
     "data": {
      "image/png": "[encoded data removed]",
      "text/plain": [
       "<Figure size 432x288 with 1 Axes>"
      ]
     },
     "metadata": {
      "needs_background": "light"
     },
     "output_type": "display_data"
    }
   ],
   "source": [
    "# plot labels\n",
    "print('Num of rows', len(data))\n",
    "seaborn.countplot(data, x='genre')\n",
    "print('biggest class: ', (data['genre'] == data['genre'].value_counts().idxmax()).sum())\n",
    "print('smallest class: ', (data['genre'] == data['genre'].value_counts().idxmin()).sum())\n"
   ]
  },
  {
   "cell_type": "markdown",
   "metadata": {},
   "source": [
    "## Building the Pipeline"
   ]
  },
  {
   "cell_type": "code",
   "execution_count": 10,
   "metadata": {},
   "outputs": [],
   "source": [
    "RANDOM_STATE = 42\n",
    "\n",
    "def gather_data():\n",
    "    data = pd.read_csv('./data/data.csv')\n",
    "    return data['lyrics'], data['genre']\n",
    "\n",
    "def vectorize_labels(labels, classes=None):\n",
    "    '''\n",
    "    Vectorizes the labels.\n",
    "    Returns as (indexes, labels)\n",
    "    '''\n",
    "    if classes is None:\n",
    "        return pd.factorize(labels)\n",
    "    return pd.Categorical(labels, categories=classes).codes, classes\n",
    "\n",
    "def features_bow(data):\n",
    "    vectorizer = CountVectorizer(stop_words='english', min_df=0.01, ngram_range=(1, 2))\n",
    "    text = data.to_list()\n",
    "    X = vectorizer.fit_transform(text)\n",
    "    return X, vectorizer\n",
    "\n",
    "def train_model_logistic(X, Y):\n",
    "    classifier = linear_model.LogisticRegression(penalty='l2', multi_class='multinomial', random_state=RANDOM_STATE, fit_intercept=True)\n",
    "    classifier.fit(X, Y)\n",
    "    return classifier\n",
    "\n",
    "def evaluate_logistic_model(model, X_train, Y_train, X_test, Y_test):\n",
    "    train_accuracy = model.score(X_train, Y_train)\n",
    "    print('\\nTraining:')\n",
    "    print(' accuracy:',format( 100*train_accuracy , '.2f') ) \n",
    "\n",
    "    # Compute and print accuracy on the test data\n",
    "    print('\\nTesting: ')\n",
    "    test_accuracy = model.score(X_test, Y_test)\n",
    "    print(' accuracy:', format( 100*test_accuracy , '.2f') )\n",
    "\n",
    "    # Compute and print AUC on the test data\n",
    "    class_probabilities = model.predict_proba(X_test)\n",
    "    test_auc_score = metrics.roc_auc_score(Y_test, class_probabilities, multi_class='ovo')\n",
    "    print(' AUC value:', format( 100*test_auc_score , '.2f') )"
   ]
  },
  {
   "cell_type": "markdown",
   "metadata": {},
   "source": [
    "## Executing the Pipeline"
   ]
  },
  {
   "cell_type": "code",
   "execution_count": 5,
   "metadata": {},
   "outputs": [],
   "source": [
    "# Phase 1 pipeline\n",
    "inputs, labels = gather_data()\n"
   ]
  },
  {
   "cell_type": "code",
   "execution_count": 6,
   "metadata": {},
   "outputs": [],
   "source": [
    "# convert to features\n",
    "Y, classes = vectorize_labels(labels)\n",
    "X, vectorizer = features_bow(inputs)"
   ]
  },
  {
   "cell_type": "code",
   "execution_count": 7,
   "metadata": {},
   "outputs": [],
   "source": [
    "# split into training and test\n",
    "X_train, X_test, Y_train, Y_test = train_test_split(X, Y, test_size = 0.2, random_state=RANDOM_STATE)"
   ]
  },
  {
   "cell_type": "code",
   "execution_count": 11,
   "metadata": {},
   "outputs": [
    {
     "name": "stderr",
     "output_type": "stream",
     "text": [
      "c:\\Users\\luker\\AppData\\Local\\Programs\\Python\\Python310\\lib\\site-packages\\sklearn\\linear_model\\_logistic.py:444: ConvergenceWarning: lbfgs failed to converge (status=1):\n",
      "STOP: TOTAL NO. of ITERATIONS REACHED LIMIT.\n",
      "\n",
      "Increase the number of iterations (max_iter) or scale the data as shown in:\n",
      "    https://scikit-learn.org/stable/modules/preprocessing.html\n",
      "Please also refer to the documentation for alternative solver options:\n",
      "    https://scikit-learn.org/stable/modules/linear_model.html#logistic-regression\n",
      "  n_iter_i = _check_optimize_result(\n"
     ]
    }
   ],
   "source": [
    "# train model\n",
    "model = train_model_logistic(X_train, Y_train)"
   ]
  },
  {
   "cell_type": "markdown",
   "metadata": {},
   "source": [
    "## Evaluating the Model"
   ]
  },
  {
   "cell_type": "code",
   "execution_count": 12,
   "metadata": {},
   "outputs": [
    {
     "name": "stdout",
     "output_type": "stream",
     "text": [
      "\n",
      "Training:\n",
      " accuracy: 57.30\n",
      "\n",
      "Testing: \n",
      " accuracy: 56.16\n",
      " AUC value: 81.16\n"
     ]
    }
   ],
   "source": [
    "evaluate_logistic_model(model, X_train, Y_train, X_test, Y_test)"
   ]
  },
  {
   "cell_type": "code",
   "execution_count": null,
   "metadata": {},
   "outputs": [],
   "source": [
    "def most_significant_terms(weights, vectorizer, K):\n",
    "    pos_indices = np.argpartition(weights, -K)[-K:] # gather the K most positive indices\n",
    "    pos_indices = pos_indices[np.argsort(-weights[pos_indices])] # sort the indices\n",
    "\n",
    "    neg_indices = np.argpartition(weights, K)[:K] # gather the K most negative indices\n",
    "    neg_indices = neg_indices[np.argsort(weights[neg_indices])] # sort the indices\n",
    "\n",
    "    topK_pos_weights = weights[pos_indices]\n",
    "    topK_neg_weights = weights[neg_indices]\n",
    "\n",
    "    # gather the associated terms\n",
    "    terms = vectorizer.get_feature_names_out()\n",
    "    topK_pos_terms = terms[pos_indices]\n",
    "    topK_neg_terms = terms[neg_indices]\n",
    "        \n",
    "    # print the positive weights and terms\n",
    "    print('Top positive weights:')\n",
    "    for i in range(len(topK_pos_weights)):\n",
    "        print(format(topK_pos_weights[i], '.3f'), topK_pos_terms[i])\n",
    "    \n",
    "    # print the negative weights and terms\n",
    "    print('Most negative weights:')\n",
    "    for i in range(len(topK_neg_weights)):\n",
    "        print(format(topK_neg_weights[i], '.3f'), topK_neg_terms[i])\n",
    "\n"
   ]
  },
  {
   "cell_type": "code",
   "execution_count": null,
   "metadata": {},
   "outputs": [],
   "source": [
    "classes"
   ]
  },
  {
   "cell_type": "code",
   "execution_count": null,
   "metadata": {},
   "outputs": [],
   "source": [
    "for i in range(len(classes)):\n",
    "    print('Most Significant Terms for Class: \"' + classes[i] + '\"')\n",
    "    most_significant_terms(model.coef_[i], vectorizer, 5)\n",
    "    print()"
   ]
  },
  {
   "cell_type": "code",
   "execution_count": null,
   "metadata": {},
   "outputs": [],
   "source": [
    "\n",
    "predictions = model.predict(X_test)\n",
    "probabilities = model.predict_proba(X_test)\n",
    "\n",
    "np.random.seed(RANDOM_STATE)\n",
    "NUM_EXAMPLES = 10\n",
    "for _ in range(NUM_EXAMPLES):\n",
    "    i = np.random.choice(np.where(predictions != Y_test)[0])\n",
    "    print(\"Song Title:\", data['title'][i])\n",
    "    print('Predicted:', classes[predictions[i]], 'Actual:', classes[Y_test[i]])\n",
    "    print('Probability:', probabilities[i][predictions[i]])\n",
    "    print(\"Lyrics: \")\n",
    "    print('\"' + data['lyrics'][i][:100] + '...\"')\n",
    "    print()\n"
   ]
  },
  {
   "cell_type": "code",
   "execution_count": 52,
   "metadata": {},
   "outputs": [
    {
     "data": {
      "text/plain": [
       "<AxesSubplot:xlabel='genre', ylabel='count'>"
      ]
     },
     "execution_count": 52,
     "metadata": {},
     "output_type": "execute_result"
    },
    {
     "data": {
      "image/png": "[encoded data removed]",
      "text/plain": [
       "<Figure size 432x288 with 1 Axes>"
      ]
     },
     "metadata": {
      "needs_background": "light"
     },
     "output_type": "display_data"
    }
   ],
   "source": [
    "# Plot predictions to see distribution and if there is bias\n",
    "test_predictions = [classes[i] for i in predictions]\n",
    "test_predictions_df = pd.DataFrame(data=test_predictions, columns=[\"genre\"])\n",
    "seaborn.countplot(test_predictions_df, x=\"genre\")"
   ]
  },
  {
   "cell_type": "code",
   "execution_count": 53,
   "metadata": {},
   "outputs": [
    {
     "data": {
      "text/plain": [
       "<AxesSubplot:xlabel='genre', ylabel='count'>"
      ]
     },
     "execution_count": 53,
     "metadata": {},
     "output_type": "execute_result"
    },
    {
     "data": {
      "image/png": "[encoded data removed]",
      "text/plain": [
       "<Figure size 432x288 with 1 Axes>"
      ]
     },
     "metadata": {
      "needs_background": "light"
     },
     "output_type": "display_data"
    }
   ],
   "source": [
    "# Visualize the actual distribution of the test data\n",
    "test_actuals = [classes[i] for i in Y_test]\n",
    "seaborn.countplot(pd.DataFrame(data=test_actuals, columns=[\"genre\"]), x=\"genre\")"
   ]
  },
  {
   "cell_type": "markdown",
   "metadata": {},
   "source": [
    "## Fixing the Skew"
   ]
  },
  {
   "cell_type": "code",
   "execution_count": null,
   "metadata": {},
   "outputs": [],
   "source": [
    "min(np.bincount(Y))"
   ]
  },
  {
   "cell_type": "code",
   "execution_count": 54,
   "metadata": {},
   "outputs": [],
   "source": [
    "from sklearn.utils import resample\n",
    "\n",
    "def undersample(X, Y):\n",
    "    return resample(X, Y, n_samples=min(np.bincount(Y)), random_state=RANDOM_STATE)\n",
    "\n",
    "def oversample(X, Y):\n",
    "    return resample(X, Y, n_samples=max(np.bincount(Y)), random_state=RANDOM_STATE)\n",
    "\n",
    "def midsample(X, Y):\n",
    "    return resample(X, Y, n_samples=(min(np.bincount(Y)) + max(np.bincount(Y))) // 2, random_state=RANDOM_STATE)"
   ]
  },
  {
   "cell_type": "code",
   "execution_count": null,
   "metadata": {},
   "outputs": [],
   "source": [
    "undersampled_X_train, undersampled_Y_train = undersample(X_train, Y_train)\n",
    "# train model\n",
    "model = train_model_logistic(undersampled_X_train, undersampled_Y_train)\n",
    "## Evaluating the Model\n",
    "evaluate_logistic_model(model, undersampled_X_train, undersampled_Y_train, X_test, Y_test)"
   ]
  },
  {
   "cell_type": "code",
   "execution_count": null,
   "metadata": {},
   "outputs": [],
   "source": [
    "oversampled_X_train, oversampled_Y_train = oversample(X_train, Y_train)\n",
    "# train model\n",
    "model = train_model_logistic(oversampled_X_train, oversampled_Y_train)\n",
    "## Evaluating the Model\n",
    "evaluate_logistic_model(model, oversampled_X_train, oversampled_Y_train, X_test, Y_test)"
   ]
  },
  {
   "cell_type": "code",
   "execution_count": 55,
   "metadata": {},
   "outputs": [
    {
     "name": "stderr",
     "output_type": "stream",
     "text": [
      "c:\\Users\\luker\\AppData\\Local\\Programs\\Python\\Python310\\lib\\site-packages\\sklearn\\linear_model\\_logistic.py:444: ConvergenceWarning: lbfgs failed to converge (status=1):\n",
      "STOP: TOTAL NO. of ITERATIONS REACHED LIMIT.\n",
      "\n",
      "Increase the number of iterations (max_iter) or scale the data as shown in:\n",
      "    https://scikit-learn.org/stable/modules/preprocessing.html\n",
      "Please also refer to the documentation for alternative solver options:\n",
      "    https://scikit-learn.org/stable/modules/linear_model.html#logistic-regression\n",
      "  n_iter_i = _check_optimize_result(\n"
     ]
    },
    {
     "name": "stdout",
     "output_type": "stream",
     "text": [
      "\n",
      "Training:\n",
      " accuracy: 59.58\n",
      "\n",
      "Testing: \n",
      " accuracy: 54.59\n",
      " AUC value: 78.64\n"
     ]
    }
   ],
   "source": [
    "midsampled_X_train, midsampled_Y_train = midsample(X_train, Y_train)\n",
    "# train model\n",
    "model = train_model_logistic(midsampled_X_train, midsampled_Y_train)\n",
    "## Evaluating the Model\n",
    "evaluate_logistic_model(model, midsampled_X_train, midsampled_Y_train, X_test, Y_test)"
   ]
  },
  {
   "cell_type": "code",
   "execution_count": null,
   "metadata": {},
   "outputs": [],
   "source": []
  }
 ],
 "metadata": {
  "kernelspec": {
   "display_name": "Python 3.10.6 64-bit",
   "language": "python",
   "name": "python3"
  },
  "language_info": {
   "codemirror_mode": {
    "name": "ipython",
    "version": 3
   },
   "file_extension": ".py",
   "mimetype": "text/x-python",
   "name": "python",
   "nbconvert_exporter": "python",
   "pygments_lexer": "ipython3",
   "version": "3.10.6"
  },
  "vscode": {
   "interpreter": {
    "hash": "7b2bee90d55464e0a4d3dee92f2ce936a28fa0d3744538f61c264101b3bf2266"
   }
  }
 },
 "nbformat": 4,
 "nbformat_minor": 4
}
