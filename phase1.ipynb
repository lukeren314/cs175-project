{
 "cells": [
  {
   "cell_type": "markdown",
   "metadata": {},
   "source": [
    "# CS Project 175 Phase 1"
   ]
  },
  {
   "cell_type": "code",
   "execution_count": 1,
   "metadata": {},
   "outputs": [
    {
     "name": "stdout",
     "output_type": "stream",
     "text": [
      "Requirement already satisfied: pandas in c:\\users\\ajiev\\anaconda3\\envs\\venv\\lib\\site-packages (1.5.1)\n",
      "Requirement already satisfied: pytz>=2020.1 in c:\\users\\ajiev\\anaconda3\\envs\\venv\\lib\\site-packages (from pandas) (2022.5)\n",
      "Requirement already satisfied: python-dateutil>=2.8.1 in c:\\users\\ajiev\\anaconda3\\envs\\venv\\lib\\site-packages (from pandas) (2.8.2)\n",
      "Requirement already satisfied: numpy>=1.20.3 in c:\\users\\ajiev\\anaconda3\\envs\\venv\\lib\\site-packages (from pandas) (1.23.4)\n",
      "Requirement already satisfied: six>=1.5 in c:\\users\\ajiev\\anaconda3\\envs\\venv\\lib\\site-packages (from python-dateutil>=2.8.1->pandas) (1.16.0)\n",
      "Requirement already satisfied: scikit-learn in c:\\users\\ajiev\\anaconda3\\envs\\venv\\lib\\site-packages (1.1.2)\n",
      "Requirement already satisfied: numpy>=1.17.3 in c:\\users\\ajiev\\anaconda3\\envs\\venv\\lib\\site-packages (from scikit-learn) (1.23.4)\n",
      "Requirement already satisfied: threadpoolctl>=2.0.0 in c:\\users\\ajiev\\anaconda3\\envs\\venv\\lib\\site-packages (from scikit-learn) (3.1.0)\n",
      "Requirement already satisfied: joblib>=1.0.0 in c:\\users\\ajiev\\anaconda3\\envs\\venv\\lib\\site-packages (from scikit-learn) (1.2.0)\n",
      "Requirement already satisfied: scipy>=1.3.2 in c:\\users\\ajiev\\anaconda3\\envs\\venv\\lib\\site-packages (from scikit-learn) (1.9.3)\n",
      "Requirement already satisfied: matplotlib in c:\\users\\ajiev\\anaconda3\\envs\\venv\\lib\\site-packages (3.6.0)\n",
      "Requirement already satisfied: pillow>=6.2.0 in c:\\users\\ajiev\\anaconda3\\envs\\venv\\lib\\site-packages (from matplotlib) (9.2.0)\n",
      "Requirement already satisfied: numpy>=1.19 in c:\\users\\ajiev\\anaconda3\\envs\\venv\\lib\\site-packages (from matplotlib) (1.23.4)\n",
      "Requirement already satisfied: packaging>=20.0 in c:\\users\\ajiev\\anaconda3\\envs\\venv\\lib\\site-packages (from matplotlib) (21.3)\n",
      "Requirement already satisfied: contourpy>=1.0.1 in c:\\users\\ajiev\\anaconda3\\envs\\venv\\lib\\site-packages (from matplotlib) (1.0.5)\n",
      "Requirement already satisfied: fonttools>=4.22.0 in c:\\users\\ajiev\\anaconda3\\envs\\venv\\lib\\site-packages (from matplotlib) (4.37.4)\n",
      "Requirement already satisfied: cycler>=0.10 in c:\\users\\ajiev\\anaconda3\\envs\\venv\\lib\\site-packages (from matplotlib) (0.11.0)\n",
      "Requirement already satisfied: pyparsing>=2.2.1 in c:\\users\\ajiev\\anaconda3\\envs\\venv\\lib\\site-packages (from matplotlib) (3.0.9)\n",
      "Requirement already satisfied: kiwisolver>=1.0.1 in c:\\users\\ajiev\\anaconda3\\envs\\venv\\lib\\site-packages (from matplotlib) (1.4.4)\n",
      "Requirement already satisfied: python-dateutil>=2.7 in c:\\users\\ajiev\\anaconda3\\envs\\venv\\lib\\site-packages (from matplotlib) (2.8.2)\n",
      "Requirement already satisfied: six>=1.5 in c:\\users\\ajiev\\anaconda3\\envs\\venv\\lib\\site-packages (from python-dateutil>=2.7->matplotlib) (1.16.0)\n",
      "Requirement already satisfied: seaborn in c:\\users\\ajiev\\anaconda3\\envs\\venv\\lib\\site-packages (0.12.1)\n",
      "Requirement already satisfied: numpy>=1.17 in c:\\users\\ajiev\\anaconda3\\envs\\venv\\lib\\site-packages (from seaborn) (1.23.4)\n",
      "Requirement already satisfied: matplotlib!=3.6.1,>=3.1 in c:\\users\\ajiev\\anaconda3\\envs\\venv\\lib\\site-packages (from seaborn) (3.6.0)\n",
      "Requirement already satisfied: pandas>=0.25 in c:\\users\\ajiev\\anaconda3\\envs\\venv\\lib\\site-packages (from seaborn) (1.5.1)\n",
      "Requirement already satisfied: fonttools>=4.22.0 in c:\\users\\ajiev\\anaconda3\\envs\\venv\\lib\\site-packages (from matplotlib!=3.6.1,>=3.1->seaborn) (4.37.4)\n",
      "Requirement already satisfied: packaging>=20.0 in c:\\users\\ajiev\\anaconda3\\envs\\venv\\lib\\site-packages (from matplotlib!=3.6.1,>=3.1->seaborn) (21.3)\n",
      "Requirement already satisfied: contourpy>=1.0.1 in c:\\users\\ajiev\\anaconda3\\envs\\venv\\lib\\site-packages (from matplotlib!=3.6.1,>=3.1->seaborn) (1.0.5)\n",
      "Requirement already satisfied: pillow>=6.2.0 in c:\\users\\ajiev\\anaconda3\\envs\\venv\\lib\\site-packages (from matplotlib!=3.6.1,>=3.1->seaborn) (9.2.0)\n",
      "Requirement already satisfied: cycler>=0.10 in c:\\users\\ajiev\\anaconda3\\envs\\venv\\lib\\site-packages (from matplotlib!=3.6.1,>=3.1->seaborn) (0.11.0)\n",
      "Requirement already satisfied: kiwisolver>=1.0.1 in c:\\users\\ajiev\\anaconda3\\envs\\venv\\lib\\site-packages (from matplotlib!=3.6.1,>=3.1->seaborn) (1.4.4)\n",
      "Requirement already satisfied: python-dateutil>=2.7 in c:\\users\\ajiev\\anaconda3\\envs\\venv\\lib\\site-packages (from matplotlib!=3.6.1,>=3.1->seaborn) (2.8.2)\n",
      "Requirement already satisfied: pyparsing>=2.2.1 in c:\\users\\ajiev\\anaconda3\\envs\\venv\\lib\\site-packages (from matplotlib!=3.6.1,>=3.1->seaborn) (3.0.9)\n",
      "Requirement already satisfied: pytz>=2020.1 in c:\\users\\ajiev\\anaconda3\\envs\\venv\\lib\\site-packages (from pandas>=0.25->seaborn) (2022.5)\n",
      "Requirement already satisfied: six>=1.5 in c:\\users\\ajiev\\anaconda3\\envs\\venv\\lib\\site-packages (from python-dateutil>=2.7->matplotlib!=3.6.1,>=3.1->seaborn) (1.16.0)\n",
      "Requirement already satisfied: nltk in c:\\users\\ajiev\\anaconda3\\envs\\venv\\lib\\site-packages (3.7)\n",
      "Requirement already satisfied: regex>=2021.8.3 in c:\\users\\ajiev\\anaconda3\\envs\\venv\\lib\\site-packages (from nltk) (2022.9.13)\n",
      "Requirement already satisfied: tqdm in c:\\users\\ajiev\\anaconda3\\envs\\venv\\lib\\site-packages (from nltk) (4.64.1)\n",
      "Requirement already satisfied: joblib in c:\\users\\ajiev\\anaconda3\\envs\\venv\\lib\\site-packages (from nltk) (1.2.0)\n",
      "Requirement already satisfied: click in c:\\users\\ajiev\\anaconda3\\envs\\venv\\lib\\site-packages (from nltk) (8.1.3)\n",
      "Requirement already satisfied: colorama in c:\\users\\ajiev\\anaconda3\\envs\\venv\\lib\\site-packages (from click->nltk) (0.4.5)\n",
      "Requirement already satisfied: langdetect in c:\\users\\ajiev\\anaconda3\\envs\\venv\\lib\\site-packages (1.0.9)\n",
      "Requirement already satisfied: six in c:\\users\\ajiev\\anaconda3\\envs\\venv\\lib\\site-packages (from langdetect) (1.16.0)\n"
     ]
    }
   ],
   "source": [
    "!pip install pandas\n",
    "!pip install scikit-learn\n",
    "!pip install matplotlib\n",
    "!pip install seaborn\n",
    "!pip install nltk\n",
    "!pip install langdetect"
   ]
  },
  {
   "cell_type": "code",
   "execution_count": 2,
   "metadata": {},
   "outputs": [],
   "source": [
    "import pandas as pd\n",
    "import numpy as np\n",
    "\n",
    "from nltk import word_tokenize\n",
    "from sklearn.feature_extraction.text import CountVectorizer\n",
    "from sklearn.model_selection import train_test_split\n",
    "from sklearn import linear_model \n",
    "from sklearn import metrics \n",
    "from sklearn import preprocessing\n",
    "\n",
    "import seaborn"
   ]
  },
  {
   "cell_type": "markdown",
   "metadata": {},
   "source": [
    "# Analyzing the Data"
   ]
  },
  {
   "cell_type": "code",
   "execution_count": 3,
   "metadata": {},
   "outputs": [
    {
     "data": {
      "text/html": [
       "<div>\n",
       "<style scoped>\n",
       "    .dataframe tbody tr th:only-of-type {\n",
       "        vertical-align: middle;\n",
       "    }\n",
       "\n",
       "    .dataframe tbody tr th {\n",
       "        vertical-align: top;\n",
       "    }\n",
       "\n",
       "    .dataframe thead th {\n",
       "        text-align: right;\n",
       "    }\n",
       "</style>\n",
       "<table border=\"1\" class=\"dataframe\">\n",
       "  <thead>\n",
       "    <tr style=\"text-align: right;\">\n",
       "      <th></th>\n",
       "      <th>title</th>\n",
       "      <th>genre</th>\n",
       "      <th>lyrics</th>\n",
       "    </tr>\n",
       "  </thead>\n",
       "  <tbody>\n",
       "    <tr>\n",
       "      <th>0</th>\n",
       "      <td>the number of the beast</td>\n",
       "      <td>metal</td>\n",
       "      <td>woe to you o'er earth and sea\\r\\nfor the devil...</td>\n",
       "    </tr>\n",
       "    <tr>\n",
       "      <th>1</th>\n",
       "      <td>fear of the dark</td>\n",
       "      <td>metal</td>\n",
       "      <td>i am a man who walks alone\\r\\nand when i'm wal...</td>\n",
       "    </tr>\n",
       "    <tr>\n",
       "      <th>2</th>\n",
       "      <td>the trooper</td>\n",
       "      <td>metal</td>\n",
       "      <td>you'll take my life but i'll take yours too\\r\\...</td>\n",
       "    </tr>\n",
       "    <tr>\n",
       "      <th>3</th>\n",
       "      <td>hallowed be thy name</td>\n",
       "      <td>metal</td>\n",
       "      <td>i'm waiting in my cold cell when the bell begi...</td>\n",
       "    </tr>\n",
       "    <tr>\n",
       "      <th>4</th>\n",
       "      <td>run to the hills</td>\n",
       "      <td>metal</td>\n",
       "      <td>white man came across the sea\\r\\nhe brought us...</td>\n",
       "    </tr>\n",
       "  </tbody>\n",
       "</table>\n",
       "</div>"
      ],
      "text/plain": [
       "                     title  genre  \\\n",
       "0  the number of the beast  metal   \n",
       "1         fear of the dark  metal   \n",
       "2              the trooper  metal   \n",
       "3     hallowed be thy name  metal   \n",
       "4         run to the hills  metal   \n",
       "\n",
       "                                              lyrics  \n",
       "0  woe to you o'er earth and sea\\r\\nfor the devil...  \n",
       "1  i am a man who walks alone\\r\\nand when i'm wal...  \n",
       "2  you'll take my life but i'll take yours too\\r\\...  \n",
       "3  i'm waiting in my cold cell when the bell begi...  \n",
       "4  white man came across the sea\\r\\nhe brought us...  "
      ]
     },
     "execution_count": 3,
     "metadata": {},
     "output_type": "execute_result"
    }
   ],
   "source": [
    "data = pd.read_csv('./data/data.csv')\n",
    "del data['Unnamed: 0']\n",
    "data.head()"
   ]
  },
  {
   "cell_type": "code",
   "execution_count": 4,
   "metadata": {},
   "outputs": [
    {
     "name": "stdout",
     "output_type": "stream",
     "text": [
      "Num of rows 295268\n",
      "biggest class:  118830\n",
      "smallest class:  12668\n"
     ]
    },
    {
     "data": {
      "image/png": "[encoded data removed]",
      "text/plain": [
       "<Figure size 640x480 with 1 Axes>"
      ]
     },
     "metadata": {},
     "output_type": "display_data"
    }
   ],
   "source": [
    "# plot labels\n",
    "print('Num of rows', len(data))\n",
    "seaborn.countplot(data, x='genre')\n",
    "print('biggest class: ', (data['genre'] == max(data['genre'])).sum())\n",
    "print('smallest class: ', (data['genre'] == min(data['genre'])).sum())\n"
   ]
  },
  {
   "cell_type": "markdown",
   "metadata": {},
   "source": [
    "## Building the Pipeline"
   ]
  },
  {
   "cell_type": "code",
   "execution_count": 5,
   "metadata": {},
   "outputs": [],
   "source": [
    "RANDOM_STATE = 42\n",
    "\n",
    "def gather_data():\n",
    "    data = pd.read_csv('./data/data.csv')\n",
    "    return data['lyrics'], data['genre']\n",
    "\n",
    "def vectorize_labels(labels, classes=None):\n",
    "    '''\n",
    "    Vectorizes the labels.\n",
    "    Returns as (indexes, labels)\n",
    "    '''\n",
    "    if classes is None:\n",
    "        return pd.factorize(labels)\n",
    "    return pd.Categorical(labels, categories=classes).codes, classes\n",
    "\n",
    "def features_bow(data):\n",
    "    vectorizer = CountVectorizer(stop_words='english', min_df=0.01, ngram_range=(1, 2))\n",
    "    text = data.to_list()\n",
    "    X = vectorizer.fit_transform(text)\n",
    "    return X, vectorizer\n",
    "\n",
    "def train_model_logistic(X, Y):\n",
    "    classifier = linear_model.LogisticRegression(penalty='l2', multi_class='multinomial', random_state=RANDOM_STATE, fit_intercept=True)\n",
    "    classifier.fit(X, Y)\n",
    "    return classifier\n",
    "\n",
    "def evaluate_logistic_model(model, X_train, Y_train, X_test, Y_test):\n",
    "    train_accuracy = model.score(X_train, Y_train)\n",
    "    print('\\nTraining:')\n",
    "    print(' accuracy:',format( 100*train_accuracy , '.2f') ) \n",
    "\n",
    "    # Compute and print accuracy on the test data\n",
    "    print('\\nTesting: ')\n",
    "    test_accuracy = model.score(X_test, Y_test)\n",
    "    print(' accuracy:', format( 100*test_accuracy , '.2f') )\n",
    "\n",
    "    # Compute and print AUC on the test data\n",
    "    class_probabilities = model.predict_proba(X_test)\n",
    "    test_auc_score = metrics.roc_auc_score(Y_test, class_probabilities, multi_class='ovo')\n",
    "    print(' AUC value:', format( 100*test_auc_score , '.2f') )"
   ]
  },
  {
   "cell_type": "markdown",
   "metadata": {},
   "source": [
    "## Executing the Pipeline"
   ]
  },
  {
   "cell_type": "code",
   "execution_count": 6,
   "metadata": {},
   "outputs": [],
   "source": [
    "# Phase 1 pipeline\n",
    "inputs, labels = gather_data()"
   ]
  },
  {
   "cell_type": "code",
   "execution_count": 7,
   "metadata": {},
   "outputs": [],
   "source": [
    "# convert to features\n",
    "Y, classes = vectorize_labels(labels)\n",
    "X, vectorizer = features_bow(inputs)"
   ]
  },
  {
   "cell_type": "code",
   "execution_count": 8,
   "metadata": {},
   "outputs": [],
   "source": [
    "# split into training and test\n",
    "X_train, X_test, Y_train, Y_test = train_test_split(X, Y, test_size = 0.2, random_state=RANDOM_STATE)"
   ]
  },
  {
   "cell_type": "code",
   "execution_count": 9,
   "metadata": {},
   "outputs": [
    {
     "name": "stderr",
     "output_type": "stream",
     "text": [
      "c:\\Users\\ajiev\\anaconda3\\envs\\venv\\lib\\site-packages\\sklearn\\linear_model\\_logistic.py:444: ConvergenceWarning: lbfgs failed to converge (status=1):\n",
      "STOP: TOTAL NO. of ITERATIONS REACHED LIMIT.\n",
      "\n",
      "Increase the number of iterations (max_iter) or scale the data as shown in:\n",
      "    https://scikit-learn.org/stable/modules/preprocessing.html\n",
      "Please also refer to the documentation for alternative solver options:\n",
      "    https://scikit-learn.org/stable/modules/linear_model.html#logistic-regression\n",
      "  n_iter_i = _check_optimize_result(\n"
     ]
    }
   ],
   "source": [
    "# train model\n",
    "model = train_model_logistic(X_train, Y_train)"
   ]
  },
  {
   "cell_type": "markdown",
   "metadata": {},
   "source": [
    "## Evaluating the Model"
   ]
  },
  {
   "cell_type": "code",
   "execution_count": 10,
   "metadata": {},
   "outputs": [
    {
     "name": "stdout",
     "output_type": "stream",
     "text": [
      "\n",
      "Training:\n",
      " accuracy: 57.21\n",
      "\n",
      "Testing: \n",
      " accuracy: 56.51\n",
      " AUC value: 81.33\n"
     ]
    }
   ],
   "source": [
    "evaluate_logistic_model(model, X_train, Y_train, X_test, Y_test)"
   ]
  },
  {
   "cell_type": "code",
   "execution_count": 11,
   "metadata": {},
   "outputs": [],
   "source": [
    "def most_significant_terms(weights, vectorizer, K):\n",
    "    pos_indices = np.argpartition(weights, -K)[-K:] # gather the K most positive indices\n",
    "    pos_indices = pos_indices[np.argsort(-weights[pos_indices])] # sort the indices\n",
    "\n",
    "    neg_indices = np.argpartition(weights, K)[:K] # gather the K most negative indices\n",
    "    neg_indices = neg_indices[np.argsort(weights[neg_indices])] # sort the indices\n",
    "\n",
    "    topK_pos_weights = weights[pos_indices]\n",
    "    topK_neg_weights = weights[neg_indices]\n",
    "\n",
    "    # gather the associated terms\n",
    "    terms = vectorizer.get_feature_names_out()\n",
    "    topK_pos_terms = terms[pos_indices]\n",
    "    topK_neg_terms = terms[neg_indices]\n",
    "        \n",
    "    # print the positive weights and terms\n",
    "    print('Top positive weights:')\n",
    "    for i in range(len(topK_pos_weights)):\n",
    "        print(format(topK_pos_weights[i], '.3f'), topK_pos_terms[i])\n",
    "    \n",
    "    # print the negative weights and terms\n",
    "    print('Most negative weights:')\n",
    "    for i in range(len(topK_neg_weights)):\n",
    "        print(format(topK_neg_weights[i], '.3f'), topK_neg_terms[i])\n"
   ]
  },
  {
   "cell_type": "code",
   "execution_count": 12,
   "metadata": {},
   "outputs": [
    {
     "data": {
      "text/plain": [
       "Index(['metal', 'hip-hop', 'rock', 'jazz', 'folk', 'pop', 'r&b'], dtype='object')"
      ]
     },
     "execution_count": 12,
     "metadata": {},
     "output_type": "execute_result"
    }
   ],
   "source": [
    "classes"
   ]
  },
  {
   "cell_type": "code",
   "execution_count": 13,
   "metadata": {},
   "outputs": [
    {
     "name": "stdout",
     "output_type": "stream",
     "text": [
      "Most Significant Terms for Class: \"metal\"\n",
      "Top positive weights:\n",
      "0.360 path\n",
      "0.350 final\n",
      "0.348 flesh\n",
      "0.290 fucking\n",
      "0.244 souls\n",
      "Most negative weights:\n",
      "-0.418 niggas\n",
      "-0.418 nigga\n",
      "-0.399 gon\n",
      "-0.364 darling\n",
      "-0.347 lovers\n",
      "\n",
      "Most Significant Terms for Class: \"hip-hop\"\n",
      "Top positive weights:\n",
      "0.421 tryna\n",
      "0.317 niggas\n",
      "0.261 gon\n",
      "0.235 lil\n",
      "0.212 probably\n",
      "Most negative weights:\n",
      "-0.272 band\n",
      "-0.238 ve got\n",
      "-0.204 sea\n",
      "-0.184 blues\n",
      "-0.183 key\n",
      "\n",
      "Most Significant Terms for Class: \"rock\"\n",
      "Top positive weights:\n",
      "0.215 cos\n",
      "0.191 guitar\n",
      "0.131 underneath\n",
      "0.123 wasted\n",
      "0.117 wife\n",
      "Most negative weights:\n",
      "-0.406 tryna\n",
      "-0.286 mma\n",
      "-0.277 niggas\n",
      "-0.272 lil\n",
      "-0.225 gon\n",
      "\n",
      "Most Significant Terms for Class: \"jazz\"\n",
      "Top positive weights:\n",
      "0.360 thrill\n",
      "0.356 folks\n",
      "0.340 romance\n",
      "0.305 kissed\n",
      "0.267 breeze\n",
      "Most negative weights:\n",
      "-0.449 blood\n",
      "-0.314 pain\n",
      "-0.301 breathe\n",
      "-0.298 hell\n",
      "-0.271 ones\n",
      "\n",
      "Most Significant Terms for Class: \"folk\"\n",
      "Top positive weights:\n",
      "0.216 sorrow\n",
      "0.213 guitar\n",
      "0.208 trees\n",
      "0.203 wife\n",
      "0.192 flowers\n",
      "Most negative weights:\n",
      "-0.314 fuck\n",
      "-0.309 shit\n",
      "-0.230 check\n",
      "-0.229 repeat\n",
      "-0.219 yea\n",
      "\n",
      "Most Significant Terms for Class: \"pop\"\n",
      "Top positive weights:\n",
      "0.305 tryna\n",
      "0.259 cos\n",
      "0.254 verse\n",
      "0.249 niggas\n",
      "0.233 cuz\n",
      "Most negative weights:\n",
      "-0.242 rhyme\n",
      "-0.220 flesh\n",
      "-0.210 passed\n",
      "-0.178 blues\n",
      "-0.155 sorrow\n",
      "\n",
      "Most Significant Terms for Class: \"r&b\"\n",
      "Top positive weights:\n",
      "0.321 hook\n",
      "0.238 gon\n",
      "0.200 darling\n",
      "0.166 nigga\n",
      "0.156 niggas\n",
      "Most negative weights:\n",
      "-0.188 breath\n",
      "-0.186 devil\n",
      "-0.178 hole\n",
      "-0.144 cos\n",
      "-0.135 fake\n",
      "\n"
     ]
    }
   ],
   "source": [
    "for i in range(len(classes)):\n",
    "    print('Most Significant Terms for Class: \"' + classes[i] + '\"')\n",
    "    most_significant_terms(model.coef_[i], vectorizer, 5)\n",
    "    print()"
   ]
  },
  {
   "cell_type": "code",
   "execution_count": 14,
   "metadata": {},
   "outputs": [
    {
     "name": "stdout",
     "output_type": "stream",
     "text": [
      "Song Title: the brouhaha\n",
      "Predicted: pop Actual: rock\n",
      "Probability: 0.5077901516295492\n",
      "Lyrics: \n",
      "\"now what the blood clot i rap a lot what you gonna do when the beat goes drop? whatcha talkin' 'bout...\"\n",
      "\n",
      "Song Title: carry me on my way\n",
      "Predicted: rock Actual: pop\n",
      "Probability: 0.4878078920069306\n",
      "Lyrics: \n",
      "\"i forget what to ask for there isn't anything i haven't been given\n",
      "how could i wish for anything mo...\"\n",
      "\n",
      "Song Title: the sound of silence\n",
      "Predicted: pop Actual: hip-hop\n",
      "Probability: 0.723721373220093\n",
      "Lyrics: \n",
      "\"hello darkness my old friend\n",
      "i've come to talk with you again\n",
      "because a vision softly creeping\n",
      "le...\"\n",
      "\n",
      "Song Title: in the flesh\n",
      "Predicted: rock Actual: r&b\n",
      "Probability: 0.5543586980012779\n",
      "Lyrics: \n",
      "\"money talk these diamonds on my cavity\n",
      "money talk\n",
      "\n",
      "money talk these diamonds on my cavity\n",
      "scoopi...\"\n",
      "\n",
      "Song Title: gender equality is a myth!\n",
      "Predicted: pop Actual: rock\n",
      "Probability: 0.4366823443492496\n",
      "Lyrics: \n",
      "\"we need to stop buying into the myth about gender equality it isn’t a reality yet today women make u...\"\n",
      "\n",
      "Song Title: born to hula\n",
      "Predicted: rock Actual: pop\n",
      "Probability: 0.6002088826059113\n",
      "Lyrics: \n",
      "\"follow trails of you to here\n",
      "every mile takes you my way\n",
      "rolling faster than we can\n",
      "tables turnin...\"\n",
      "\n",
      "Song Title: obvious bicycle\n",
      "Predicted: rock Actual: folk\n",
      "Probability: 0.5970613705375224\n",
      "Lyrics: \n",
      "\"morning’s come you watch the red sun rise\n",
      "the led still flickers in your eyes\n",
      "oh you ought to spar...\"\n",
      "\n",
      "Song Title: blind man\n",
      "Predicted: rock Actual: folk\n",
      "Probability: 0.4489975761285097\n",
      "Lyrics: \n",
      "\"i took a course in hallelujah i went to night school for the blues i took some stuff they said would...\"\n",
      "\n",
      "Song Title: i can give you more\n",
      "Predicted: rock Actual: pop\n",
      "Probability: 0.4599540676577172\n",
      "Lyrics: \n",
      "\"i seen this girl walkin' down the block\n",
      "i said wait!\n",
      "yo baby you wanna come to my crib?\n",
      "have some...\"\n",
      "\n",
      "Song Title: one more try\n",
      "Predicted: rock Actual: pop\n",
      "Probability: 0.5700571975519068\n",
      "Lyrics: \n",
      "\"baby\n",
      "\n",
      "i've had enough of danger\n",
      "and people on the streets\n",
      "i'm looking out for angels\n",
      "just tryin...\"\n",
      "\n"
     ]
    }
   ],
   "source": [
    "predictions = model.predict(X_test)\n",
    "probabilities = model.predict_proba(X_test)\n",
    "\n",
    "np.random.seed(RANDOM_STATE)\n",
    "NUM_EXAMPLES = 10\n",
    "for _ in range(NUM_EXAMPLES):\n",
    "    i = np.random.choice(np.where(predictions != Y_test)[0])\n",
    "    print(\"Song Title:\", data['title'][i])\n",
    "    print('Predicted:', classes[predictions[i]], 'Actual:', classes[Y_test[i]])\n",
    "    print('Probability:', probabilities[i][predictions[i]])\n",
    "    print(\"Lyrics: \")\n",
    "    print('\"' + data['lyrics'][i][:100] + '...\"')\n",
    "    print()\n"
   ]
  },
  {
   "cell_type": "code",
   "execution_count": 30,
   "metadata": {},
   "outputs": [
    {
     "data": {
      "text/plain": [
       "<AxesSubplot: xlabel='genre', ylabel='count'>"
      ]
     },
     "execution_count": 30,
     "metadata": {},
     "output_type": "execute_result"
    },
    {
     "data": {
      "image/png": "[encoded data removed]",
      "text/plain": [
       "<Figure size 640x480 with 1 Axes>"
      ]
     },
     "metadata": {},
     "output_type": "display_data"
    }
   ],
   "source": [
    "# Plot predictions to see distribution and if there is bias\n",
    "test_predictions = [classes[i] for i in predictions]\n",
    "test_predictions_df = pd.DataFrame(data=test_predictions, columns=[\"genre\"])\n",
    "seaborn.countplot(test_predictions_df, x=\"genre\")"
   ]
  }
 ],
 "metadata": {
  "kernelspec": {
   "display_name": "Python 3.8.13 64-bit ('venv')",
   "language": "python",
   "name": "python3"
  },
  "language_info": {
   "codemirror_mode": {
    "name": "ipython",
    "version": 3
   },
   "file_extension": ".py",
   "mimetype": "text/x-python",
   "name": "python",
   "nbconvert_exporter": "python",
   "pygments_lexer": "ipython3",
   "version": "3.8.13"
  },
  "vscode": {
   "interpreter": {
    "hash": "3d2a94407db59fdb6cbdcba5a07f0f51c9c277d36d6eec19b0864b62ced72922"
   }
  }
 },
 "nbformat": 4,
 "nbformat_minor": 4
}
