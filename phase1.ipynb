{
 "cells": [
  {
   "cell_type": "markdown",
   "metadata": {},
   "source": [
    "# CS Project 175 Phase 1"
   ]
  },
  {
   "cell_type": "code",
   "execution_count": 2,
   "metadata": {},
   "outputs": [
    {
     "name": "stdout",
     "output_type": "stream",
     "text": [
      "Requirement already satisfied: pandas in c:\\users\\luker\\documents\\school\\2022-2023\\fall2022\\cs175\\proj\\venvw\\lib\\site-packages (1.5.1)\n",
      "Requirement already satisfied: pytz>=2020.1 in c:\\users\\luker\\documents\\school\\2022-2023\\fall2022\\cs175\\proj\\venvw\\lib\\site-packages (from pandas) (2022.5)\n",
      "Requirement already satisfied: numpy>=1.21.0 in c:\\users\\luker\\documents\\school\\2022-2023\\fall2022\\cs175\\proj\\venvw\\lib\\site-packages (from pandas) (1.23.4)\n",
      "Requirement already satisfied: python-dateutil>=2.8.1 in c:\\users\\luker\\documents\\school\\2022-2023\\fall2022\\cs175\\proj\\venvw\\lib\\site-packages (from pandas) (2.8.2)\n",
      "Requirement already satisfied: six>=1.5 in c:\\users\\luker\\documents\\school\\2022-2023\\fall2022\\cs175\\proj\\venvw\\lib\\site-packages (from python-dateutil>=2.8.1->pandas) (1.16.0)\n"
     ]
    },
    {
     "name": "stderr",
     "output_type": "stream",
     "text": [
      "\n",
      "[notice] A new release of pip available: 22.2.1 -> 22.3\n",
      "[notice] To update, run: python.exe -m pip install --upgrade pip\n"
     ]
    },
    {
     "name": "stdout",
     "output_type": "stream",
     "text": [
      "Requirement already satisfied: scikit-learn in c:\\users\\luker\\documents\\school\\2022-2023\\fall2022\\cs175\\proj\\venvw\\lib\\site-packages (1.1.2)\n",
      "Requirement already satisfied: scipy>=1.3.2 in c:\\users\\luker\\documents\\school\\2022-2023\\fall2022\\cs175\\proj\\venvw\\lib\\site-packages (from scikit-learn) (1.9.3)\n",
      "Requirement already satisfied: numpy>=1.17.3 in c:\\users\\luker\\documents\\school\\2022-2023\\fall2022\\cs175\\proj\\venvw\\lib\\site-packages (from scikit-learn) (1.23.4)\n",
      "Requirement already satisfied: threadpoolctl>=2.0.0 in c:\\users\\luker\\documents\\school\\2022-2023\\fall2022\\cs175\\proj\\venvw\\lib\\site-packages (from scikit-learn) (3.1.0)\n",
      "Requirement already satisfied: joblib>=1.0.0 in c:\\users\\luker\\documents\\school\\2022-2023\\fall2022\\cs175\\proj\\venvw\\lib\\site-packages (from scikit-learn) (1.2.0)\n"
     ]
    },
    {
     "name": "stderr",
     "output_type": "stream",
     "text": [
      "\n",
      "[notice] A new release of pip available: 22.2.1 -> 22.3\n",
      "[notice] To update, run: python.exe -m pip install --upgrade pip\n"
     ]
    },
    {
     "name": "stdout",
     "output_type": "stream",
     "text": [
      "Requirement already satisfied: matplotlib in c:\\users\\luker\\documents\\school\\2022-2023\\fall2022\\cs175\\proj\\venvw\\lib\\site-packages (3.6.0)\n",
      "Requirement already satisfied: packaging>=20.0 in c:\\users\\luker\\documents\\school\\2022-2023\\fall2022\\cs175\\proj\\venvw\\lib\\site-packages (from matplotlib) (21.3)\n",
      "Requirement already satisfied: pillow>=6.2.0 in c:\\users\\luker\\documents\\school\\2022-2023\\fall2022\\cs175\\proj\\venvw\\lib\\site-packages (from matplotlib) (9.2.0)\n",
      "Requirement already satisfied: python-dateutil>=2.7 in c:\\users\\luker\\documents\\school\\2022-2023\\fall2022\\cs175\\proj\\venvw\\lib\\site-packages (from matplotlib) (2.8.2)\n",
      "Requirement already satisfied: cycler>=0.10 in c:\\users\\luker\\documents\\school\\2022-2023\\fall2022\\cs175\\proj\\venvw\\lib\\site-packages (from matplotlib) (0.11.0)\n",
      "Requirement already satisfied: fonttools>=4.22.0 in c:\\users\\luker\\documents\\school\\2022-2023\\fall2022\\cs175\\proj\\venvw\\lib\\site-packages (from matplotlib) (4.37.4)\n",
      "Requirement already satisfied: pyparsing>=2.2.1 in c:\\users\\luker\\documents\\school\\2022-2023\\fall2022\\cs175\\proj\\venvw\\lib\\site-packages (from matplotlib) (3.0.9)\n",
      "Requirement already satisfied: contourpy>=1.0.1 in c:\\users\\luker\\documents\\school\\2022-2023\\fall2022\\cs175\\proj\\venvw\\lib\\site-packages (from matplotlib) (1.0.5)\n",
      "Requirement already satisfied: numpy>=1.19 in c:\\users\\luker\\documents\\school\\2022-2023\\fall2022\\cs175\\proj\\venvw\\lib\\site-packages (from matplotlib) (1.23.4)\n",
      "Requirement already satisfied: kiwisolver>=1.0.1 in c:\\users\\luker\\documents\\school\\2022-2023\\fall2022\\cs175\\proj\\venvw\\lib\\site-packages (from matplotlib) (1.4.4)\n",
      "Requirement already satisfied: six>=1.5 in c:\\users\\luker\\documents\\school\\2022-2023\\fall2022\\cs175\\proj\\venvw\\lib\\site-packages (from python-dateutil>=2.7->matplotlib) (1.16.0)\n"
     ]
    },
    {
     "name": "stderr",
     "output_type": "stream",
     "text": [
      "\n",
      "[notice] A new release of pip available: 22.2.1 -> 22.3\n",
      "[notice] To update, run: python.exe -m pip install --upgrade pip\n"
     ]
    },
    {
     "name": "stdout",
     "output_type": "stream",
     "text": [
      "Requirement already satisfied: seaborn in c:\\users\\luker\\documents\\school\\2022-2023\\fall2022\\cs175\\proj\\venvw\\lib\\site-packages (0.12.1)\n",
      "Requirement already satisfied: pandas>=0.25 in c:\\users\\luker\\documents\\school\\2022-2023\\fall2022\\cs175\\proj\\venvw\\lib\\site-packages (from seaborn) (1.5.1)\n",
      "Requirement already satisfied: matplotlib!=3.6.1,>=3.1 in c:\\users\\luker\\documents\\school\\2022-2023\\fall2022\\cs175\\proj\\venvw\\lib\\site-packages (from seaborn) (3.6.0)\n",
      "Requirement already satisfied: numpy>=1.17 in c:\\users\\luker\\documents\\school\\2022-2023\\fall2022\\cs175\\proj\\venvw\\lib\\site-packages (from seaborn) (1.23.4)\n",
      "Requirement already satisfied: fonttools>=4.22.0 in c:\\users\\luker\\documents\\school\\2022-2023\\fall2022\\cs175\\proj\\venvw\\lib\\site-packages (from matplotlib!=3.6.1,>=3.1->seaborn) (4.37.4)\n",
      "Requirement already satisfied: python-dateutil>=2.7 in c:\\users\\luker\\documents\\school\\2022-2023\\fall2022\\cs175\\proj\\venvw\\lib\\site-packages (from matplotlib!=3.6.1,>=3.1->seaborn) (2.8.2)\n",
      "Requirement already satisfied: contourpy>=1.0.1 in c:\\users\\luker\\documents\\school\\2022-2023\\fall2022\\cs175\\proj\\venvw\\lib\\site-packages (from matplotlib!=3.6.1,>=3.1->seaborn) (1.0.5)\n",
      "Requirement already satisfied: pyparsing>=2.2.1 in c:\\users\\luker\\documents\\school\\2022-2023\\fall2022\\cs175\\proj\\venvw\\lib\\site-packages (from matplotlib!=3.6.1,>=3.1->seaborn) (3.0.9)\n",
      "Requirement already satisfied: pillow>=6.2.0 in c:\\users\\luker\\documents\\school\\2022-2023\\fall2022\\cs175\\proj\\venvw\\lib\\site-packages (from matplotlib!=3.6.1,>=3.1->seaborn) (9.2.0)\n",
      "Requirement already satisfied: cycler>=0.10 in c:\\users\\luker\\documents\\school\\2022-2023\\fall2022\\cs175\\proj\\venvw\\lib\\site-packages (from matplotlib!=3.6.1,>=3.1->seaborn) (0.11.0)\n",
      "Requirement already satisfied: kiwisolver>=1.0.1 in c:\\users\\luker\\documents\\school\\2022-2023\\fall2022\\cs175\\proj\\venvw\\lib\\site-packages (from matplotlib!=3.6.1,>=3.1->seaborn) (1.4.4)\n",
      "Requirement already satisfied: packaging>=20.0 in c:\\users\\luker\\documents\\school\\2022-2023\\fall2022\\cs175\\proj\\venvw\\lib\\site-packages (from matplotlib!=3.6.1,>=3.1->seaborn) (21.3)\n",
      "Requirement already satisfied: pytz>=2020.1 in c:\\users\\luker\\documents\\school\\2022-2023\\fall2022\\cs175\\proj\\venvw\\lib\\site-packages (from pandas>=0.25->seaborn) (2022.5)\n",
      "Requirement already satisfied: six>=1.5 in c:\\users\\luker\\documents\\school\\2022-2023\\fall2022\\cs175\\proj\\venvw\\lib\\site-packages (from python-dateutil>=2.7->matplotlib!=3.6.1,>=3.1->seaborn) (1.16.0)\n"
     ]
    },
    {
     "name": "stderr",
     "output_type": "stream",
     "text": [
      "\n",
      "[notice] A new release of pip available: 22.2.1 -> 22.3\n",
      "[notice] To update, run: python.exe -m pip install --upgrade pip\n"
     ]
    },
    {
     "name": "stdout",
     "output_type": "stream",
     "text": [
      "Requirement already satisfied: nltk in c:\\users\\luker\\documents\\school\\2022-2023\\fall2022\\cs175\\proj\\venvw\\lib\\site-packages (3.7)\n",
      "Requirement already satisfied: joblib in c:\\users\\luker\\documents\\school\\2022-2023\\fall2022\\cs175\\proj\\venvw\\lib\\site-packages (from nltk) (1.2.0)\n",
      "Requirement already satisfied: click in c:\\users\\luker\\documents\\school\\2022-2023\\fall2022\\cs175\\proj\\venvw\\lib\\site-packages (from nltk) (8.1.3)\n",
      "Requirement already satisfied: regex>=2021.8.3 in c:\\users\\luker\\documents\\school\\2022-2023\\fall2022\\cs175\\proj\\venvw\\lib\\site-packages (from nltk) (2022.9.13)\n",
      "Requirement already satisfied: tqdm in c:\\users\\luker\\documents\\school\\2022-2023\\fall2022\\cs175\\proj\\venvw\\lib\\site-packages (from nltk) (4.64.1)\n",
      "Requirement already satisfied: colorama in c:\\users\\luker\\documents\\school\\2022-2023\\fall2022\\cs175\\proj\\venvw\\lib\\site-packages (from click->nltk) (0.4.5)\n"
     ]
    },
    {
     "name": "stderr",
     "output_type": "stream",
     "text": [
      "\n",
      "[notice] A new release of pip available: 22.2.1 -> 22.3\n",
      "[notice] To update, run: python.exe -m pip install --upgrade pip\n"
     ]
    },
    {
     "name": "stdout",
     "output_type": "stream",
     "text": [
      "Requirement already satisfied: langdetect in c:\\users\\luker\\documents\\school\\2022-2023\\fall2022\\cs175\\proj\\venvw\\lib\\site-packages (1.0.9)\n",
      "Requirement already satisfied: six in c:\\users\\luker\\documents\\school\\2022-2023\\fall2022\\cs175\\proj\\venvw\\lib\\site-packages (from langdetect) (1.16.0)\n"
     ]
    },
    {
     "name": "stderr",
     "output_type": "stream",
     "text": [
      "\n",
      "[notice] A new release of pip available: 22.2.1 -> 22.3\n",
      "[notice] To update, run: python.exe -m pip install --upgrade pip\n"
     ]
    }
   ],
   "source": [
    "!pip install pandas\n",
    "!pip install scikit-learn\n",
    "!pip install matplotlib\n",
    "!pip install seaborn\n",
    "!pip install nltk\n",
    "!pip install langdetect"
   ]
  },
  {
   "cell_type": "code",
   "execution_count": 3,
   "metadata": {},
   "outputs": [],
   "source": [
    "import pandas as pd\n",
    "import numpy as np\n",
    "\n",
    "from nltk import word_tokenize\n",
    "from sklearn.feature_extraction.text import CountVectorizer\n",
    "from sklearn.model_selection import train_test_split\n",
    "from sklearn import linear_model \n",
    "from sklearn import metrics \n",
    "from sklearn import preprocessing\n",
    "\n",
    "import seaborn"
   ]
  },
  {
   "cell_type": "markdown",
   "metadata": {},
   "source": [
    "# Analyzing the Data"
   ]
  },
  {
   "cell_type": "code",
   "execution_count": 4,
   "metadata": {},
   "outputs": [
    {
     "data": {
      "text/html": [
       "<div>\n",
       "<style scoped>\n",
       "    .dataframe tbody tr th:only-of-type {\n",
       "        vertical-align: middle;\n",
       "    }\n",
       "\n",
       "    .dataframe tbody tr th {\n",
       "        vertical-align: top;\n",
       "    }\n",
       "\n",
       "    .dataframe thead th {\n",
       "        text-align: right;\n",
       "    }\n",
       "</style>\n",
       "<table border=\"1\" class=\"dataframe\">\n",
       "  <thead>\n",
       "    <tr style=\"text-align: right;\">\n",
       "      <th></th>\n",
       "      <th>title</th>\n",
       "      <th>genre</th>\n",
       "      <th>lyrics</th>\n",
       "    </tr>\n",
       "  </thead>\n",
       "  <tbody>\n",
       "    <tr>\n",
       "      <th>0</th>\n",
       "      <td>the number of the beast</td>\n",
       "      <td>metal</td>\n",
       "      <td>woe to you o'er earth and sea\\nfor the devil s...</td>\n",
       "    </tr>\n",
       "    <tr>\n",
       "      <th>1</th>\n",
       "      <td>fear of the dark</td>\n",
       "      <td>metal</td>\n",
       "      <td>i am a man who walks alone\\nand when i'm walki...</td>\n",
       "    </tr>\n",
       "    <tr>\n",
       "      <th>2</th>\n",
       "      <td>the trooper</td>\n",
       "      <td>metal</td>\n",
       "      <td>you'll take my life but i'll take yours too\\ny...</td>\n",
       "    </tr>\n",
       "    <tr>\n",
       "      <th>3</th>\n",
       "      <td>hallowed be thy name</td>\n",
       "      <td>metal</td>\n",
       "      <td>i'm waiting in my cold cell when the bell begi...</td>\n",
       "    </tr>\n",
       "    <tr>\n",
       "      <th>4</th>\n",
       "      <td>run to the hills</td>\n",
       "      <td>metal</td>\n",
       "      <td>white man came across the sea\\nhe brought us p...</td>\n",
       "    </tr>\n",
       "  </tbody>\n",
       "</table>\n",
       "</div>"
      ],
      "text/plain": [
       "                     title  genre  \\\n",
       "0  the number of the beast  metal   \n",
       "1         fear of the dark  metal   \n",
       "2              the trooper  metal   \n",
       "3     hallowed be thy name  metal   \n",
       "4         run to the hills  metal   \n",
       "\n",
       "                                              lyrics  \n",
       "0  woe to you o'er earth and sea\\nfor the devil s...  \n",
       "1  i am a man who walks alone\\nand when i'm walki...  \n",
       "2  you'll take my life but i'll take yours too\\ny...  \n",
       "3  i'm waiting in my cold cell when the bell begi...  \n",
       "4  white man came across the sea\\nhe brought us p...  "
      ]
     },
     "execution_count": 4,
     "metadata": {},
     "output_type": "execute_result"
    }
   ],
   "source": [
    "data = pd.read_csv('./data/data.csv')\n",
    "del data['Unnamed: 0']\n",
    "data.head()"
   ]
  },
  {
   "cell_type": "code",
   "execution_count": 5,
   "metadata": {},
   "outputs": [
    {
     "name": "stdout",
     "output_type": "stream",
     "text": [
      "Num of rows 295242\n",
      "biggest class:  118827\n",
      "smallest class:  12665\n"
     ]
    },
    {
     "data": {
      "image/png": "[encoded data removed]",
      "text/plain": [
       "<Figure size 640x480 with 1 Axes>"
      ]
     },
     "metadata": {},
     "output_type": "display_data"
    }
   ],
   "source": [
    "# plot labels\n",
    "print('Num of rows', len(data))\n",
    "seaborn.countplot(data, x='genre')\n",
    "print('biggest class: ', (data['genre'] == max(data['genre'])).sum())\n",
    "print('smallest class: ', (data['genre'] == min(data['genre'])).sum())\n"
   ]
  },
  {
   "cell_type": "markdown",
   "metadata": {},
   "source": [
    "## Building the Pipeline"
   ]
  },
  {
   "cell_type": "code",
   "execution_count": 6,
   "metadata": {},
   "outputs": [],
   "source": [
    "RANDOM_STATE = 42\n",
    "\n",
    "def gather_data():\n",
    "    data = pd.read_csv('./data/data.csv')\n",
    "    return data['lyrics'], data['genre']\n",
    "\n",
    "def vectorize_labels(labels, classes=None):\n",
    "    '''\n",
    "    Vectorizes the labels.\n",
    "    Returns as (indexes, labels)\n",
    "    '''\n",
    "    if classes is None:\n",
    "        return pd.factorize(labels)\n",
    "    return pd.Categorical(labels, categories=classes).codes, classes\n",
    "\n",
    "def features_bow(data):\n",
    "    vectorizer = CountVectorizer(stop_words='english', min_df=0.01, ngram_range=(1, 2))\n",
    "    text = data.to_list()\n",
    "    X = vectorizer.fit_transform(text)\n",
    "    return X, vectorizer\n",
    "\n",
    "def train_model_logistic(X, Y):\n",
    "    classifier = linear_model.LogisticRegression(penalty='l2', multi_class='multinomial', random_state=RANDOM_STATE, fit_intercept=True)\n",
    "    classifier.fit(X, Y)\n",
    "    return classifier\n",
    "\n",
    "def evaluate_logistic_model(model, X_train, Y_train, X_test, Y_test):\n",
    "    train_accuracy = model.score(X_train, Y_train)\n",
    "    print('\\nTraining:')\n",
    "    print(' accuracy:',format( 100*train_accuracy , '.2f') ) \n",
    "\n",
    "    # Compute and print accuracy on the test data\n",
    "    print('\\nTesting: ')\n",
    "    test_accuracy = model.score(X_test, Y_test)\n",
    "    print(' accuracy:', format( 100*test_accuracy , '.2f') )\n",
    "\n",
    "    # Compute and print AUC on the test data\n",
    "    class_probabilities = model.predict_proba(X_test)\n",
    "    test_auc_score = metrics.roc_auc_score(Y_test, class_probabilities, multi_class='ovo')\n",
    "    print(' AUC value:', format( 100*test_auc_score , '.2f') )"
   ]
  },
  {
   "cell_type": "markdown",
   "metadata": {},
   "source": [
    "## Executing the Pipeline"
   ]
  },
  {
   "cell_type": "code",
   "execution_count": 7,
   "metadata": {},
   "outputs": [],
   "source": [
    "# Phase 1 pipeline\n",
    "inputs, labels = gather_data()"
   ]
  },
  {
   "cell_type": "code",
   "execution_count": 8,
   "metadata": {},
   "outputs": [],
   "source": [
    "# convert to features\n",
    "Y, classes = vectorize_labels(labels)\n",
    "X, vectorizer = features_bow(inputs)"
   ]
  },
  {
   "cell_type": "code",
   "execution_count": 9,
   "metadata": {},
   "outputs": [],
   "source": [
    "# split into training and test\n",
    "X_train, X_test, Y_train, Y_test = train_test_split(X, Y, test_size = 0.2, random_state=RANDOM_STATE)"
   ]
  },
  {
   "cell_type": "code",
   "execution_count": 10,
   "metadata": {},
   "outputs": [
    {
     "name": "stderr",
     "output_type": "stream",
     "text": [
      "c:\\Users\\luker\\Documents\\School\\2022-2023\\fall2022\\CS175\\proj\\venvw\\lib\\site-packages\\sklearn\\linear_model\\_logistic.py:444: ConvergenceWarning: lbfgs failed to converge (status=1):\n",
      "STOP: TOTAL NO. of ITERATIONS REACHED LIMIT.\n",
      "\n",
      "Increase the number of iterations (max_iter) or scale the data as shown in:\n",
      "    https://scikit-learn.org/stable/modules/preprocessing.html\n",
      "Please also refer to the documentation for alternative solver options:\n",
      "    https://scikit-learn.org/stable/modules/linear_model.html#logistic-regression\n",
      "  n_iter_i = _check_optimize_result(\n"
     ]
    }
   ],
   "source": [
    "# train model\n",
    "model = train_model_logistic(X_train, Y_train)"
   ]
  },
  {
   "cell_type": "markdown",
   "metadata": {},
   "source": [
    "## Evaluating the Model"
   ]
  },
  {
   "cell_type": "code",
   "execution_count": 11,
   "metadata": {},
   "outputs": [
    {
     "name": "stdout",
     "output_type": "stream",
     "text": [
      "\n",
      "Training:\n",
      " accuracy: 57.33\n",
      "\n",
      "Testing: \n",
      " accuracy: 56.29\n",
      " AUC value: 81.26\n"
     ]
    }
   ],
   "source": [
    "evaluate_logistic_model(model, X_train, Y_train, X_test, Y_test)"
   ]
  },
  {
   "cell_type": "code",
   "execution_count": 12,
   "metadata": {},
   "outputs": [],
   "source": [
    "def most_significant_terms(weights, vectorizer, K):\n",
    "    pos_indices = np.argpartition(weights, -K)[-K:] # gather the K most positive indices\n",
    "    pos_indices = pos_indices[np.argsort(-weights[pos_indices])] # sort the indices\n",
    "\n",
    "    neg_indices = np.argpartition(weights, K)[:K] # gather the K most negative indices\n",
    "    neg_indices = neg_indices[np.argsort(weights[neg_indices])] # sort the indices\n",
    "\n",
    "    topK_pos_weights = weights[pos_indices]\n",
    "    topK_neg_weights = weights[neg_indices]\n",
    "\n",
    "    # gather the associated terms\n",
    "    terms = vectorizer.get_feature_names_out()\n",
    "    topK_pos_terms = terms[pos_indices]\n",
    "    topK_neg_terms = terms[neg_indices]\n",
    "        \n",
    "    # print the positive weights and terms\n",
    "    print('Top positive weights:')\n",
    "    for i in range(len(topK_pos_weights)):\n",
    "        print(format(topK_pos_weights[i], '.3f'), topK_pos_terms[i])\n",
    "    \n",
    "    # print the negative weights and terms\n",
    "    print('Most negative weights:')\n",
    "    for i in range(len(topK_neg_weights)):\n",
    "        print(format(topK_neg_weights[i], '.3f'), topK_neg_terms[i])\n"
   ]
  },
  {
   "cell_type": "code",
   "execution_count": 13,
   "metadata": {},
   "outputs": [
    {
     "data": {
      "text/plain": [
       "Index(['metal', 'hip-hop', 'rock', 'jazz', 'folk', 'pop', 'r&b'], dtype='object')"
      ]
     },
     "execution_count": 13,
     "metadata": {},
     "output_type": "execute_result"
    }
   ],
   "source": [
    "classes"
   ]
  },
  {
   "cell_type": "code",
   "execution_count": 14,
   "metadata": {},
   "outputs": [
    {
     "name": "stdout",
     "output_type": "stream",
     "text": [
      "Most Significant Terms for Class: \"metal\"\n",
      "Top positive weights:\n",
      "0.349 final\n",
      "0.342 flesh\n",
      "0.340 path\n",
      "0.299 fucking\n",
      "0.264 souls\n",
      "Most negative weights:\n",
      "-0.394 nigga\n",
      "-0.391 gon\n",
      "-0.368 niggas\n",
      "-0.363 lovers\n",
      "-0.321 darling\n",
      "\n",
      "Most Significant Terms for Class: \"hip-hop\"\n",
      "Top positive weights:\n",
      "0.409 tryna\n",
      "0.320 niggas\n",
      "0.269 gon\n",
      "0.227 lil\n",
      "0.226 brothers\n",
      "Most negative weights:\n",
      "-0.265 ve got\n",
      "-0.263 band\n",
      "-0.189 blues\n",
      "-0.188 sea\n",
      "-0.185 someday\n",
      "\n",
      "Most Significant Terms for Class: \"rock\"\n",
      "Top positive weights:\n",
      "0.213 cos\n",
      "0.198 guitar\n",
      "0.133 bleed\n",
      "0.124 steal\n",
      "0.116 underneath\n",
      "Most negative weights:\n",
      "-0.377 tryna\n",
      "-0.291 niggas\n",
      "-0.274 gon\n",
      "-0.264 mma\n",
      "-0.241 lil\n",
      "\n",
      "Most Significant Terms for Class: \"jazz\"\n",
      "Top positive weights:\n",
      "0.368 thrill\n",
      "0.366 folks\n",
      "0.352 romance\n",
      "0.297 kissed\n",
      "0.276 breeze\n",
      "Most negative weights:\n",
      "-0.366 blood\n",
      "-0.335 pain\n",
      "-0.287 breathe\n",
      "-0.285 darkness\n",
      "-0.285 scared\n",
      "\n",
      "Most Significant Terms for Class: \"folk\"\n",
      "Top positive weights:\n",
      "0.230 flowers\n",
      "0.208 sorrow\n",
      "0.205 yeah yeah\n",
      "0.196 wife\n",
      "0.184 guitar\n",
      "Most negative weights:\n",
      "-0.316 shit\n",
      "-0.311 fuck\n",
      "-0.246 repeat\n",
      "-0.215 check\n",
      "-0.211 straight\n",
      "\n",
      "Most Significant Terms for Class: \"pop\"\n",
      "Top positive weights:\n",
      "0.294 tryna\n",
      "0.268 verse\n",
      "0.264 cos\n",
      "0.245 niggas\n",
      "0.225 gon\n",
      "Most negative weights:\n",
      "-0.245 rhyme\n",
      "-0.228 flesh\n",
      "-0.196 passed\n",
      "-0.179 blues\n",
      "-0.146 fools\n",
      "\n",
      "Most Significant Terms for Class: \"r&b\"\n",
      "Top positive weights:\n",
      "0.285 hook\n",
      "0.231 gon\n",
      "0.194 darling\n",
      "0.158 nigga\n",
      "0.135 come true\n",
      "Most negative weights:\n",
      "-0.178 hole\n",
      "-0.174 devil\n",
      "-0.161 breath\n",
      "-0.148 cos\n",
      "-0.137 insane\n",
      "\n"
     ]
    }
   ],
   "source": [
    "for i in range(len(classes)):\n",
    "    print('Most Significant Terms for Class: \"' + classes[i] + '\"')\n",
    "    most_significant_terms(model.coef_[i], vectorizer, 5)\n",
    "    print()"
   ]
  },
  {
   "cell_type": "code",
   "execution_count": null,
   "metadata": {},
   "outputs": [],
   "source": [
    "predictions = model.predict(X_test)\n",
    "probabilities = model.predict_proba(X_test)\n",
    "\n",
    "np.random.seed(RANDOM_STATE)\n",
    "NUM_EXAMPLES = 10\n",
    "for _ in range(NUM_EXAMPLES):\n",
    "    i = np.random.choice(np.where(predictions != Y_test)[0])\n",
    "    print(\"Song Title:\", data['title'][i])\n",
    "    print('Predicted:', classes[predictions[i]], 'Actual:', classes[Y_test[i]])\n",
    "    print('Probability:', probabilities[i][predictions[i]])\n",
    "    print(\"Lyrics: \")\n",
    "    print('\"' + data['lyrics'][i][:100] + '...\"')\n",
    "    print()\n"
   ]
  },
  {
   "cell_type": "code",
   "execution_count": null,
   "metadata": {},
   "outputs": [],
   "source": []
  }
 ],
 "metadata": {
  "kernelspec": {
   "display_name": "Python 3.10.6 ('venvw': venv)",
   "language": "python",
   "name": "python3"
  },
  "language_info": {
   "codemirror_mode": {
    "name": "ipython",
    "version": 3
   },
   "file_extension": ".py",
   "mimetype": "text/x-python",
   "name": "python",
   "nbconvert_exporter": "python",
   "pygments_lexer": "ipython3",
   "version": "3.10.6"
  },
  "orig_nbformat": 4,
  "vscode": {
   "interpreter": {
    "hash": "fce2ce211d25b1e1264e30df49d6a5b3e5179c6db8ebb5f9620abc616deae471"
   }
  }
 },
 "nbformat": 4,
 "nbformat_minor": 2
}
