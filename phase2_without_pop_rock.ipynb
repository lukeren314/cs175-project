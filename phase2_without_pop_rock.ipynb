{
  "cells": [
    {
      "cell_type": "markdown",
      "metadata": {
        "id": "Uzm66KYha4Xu"
      },
      "source": [
        "# CS Project 175 Phase 2"
      ]
    },
    {
      "cell_type": "code",
      "source": [
        "from google.colab import drive\n",
        "drive.mount('/content/drive')"
      ],
      "metadata": {
        "colab": {
          "base_uri": "https://localhost:8080/"
        },
        "id": "Q0u1sPpbcM8P",
        "outputId": "6f7181cf-a883-4426-8823-b80bb4dc4b26"
      },
      "execution_count": 1,
      "outputs": [
        {
          "output_type": "stream",
          "name": "stdout",
          "text": [
            "Mounted at /content/drive\n"
          ]
        }
      ]
    },
    {
      "cell_type": "code",
      "execution_count": 2,
      "metadata": {
        "colab": {
          "base_uri": "https://localhost:8080/"
        },
        "id": "Ohi5f3Gza4Xv",
        "outputId": "cdfd7215-ce53-4d21-b48e-2e99b8ad0804"
      },
      "outputs": [
        {
          "output_type": "stream",
          "name": "stdout",
          "text": [
            "Looking in indexes: https://pypi.org/simple, https://us-python.pkg.dev/colab-wheels/public/simple/\n",
            "Requirement already satisfied: gensim in /usr/local/lib/python3.7/dist-packages (3.6.0)\n",
            "Requirement already satisfied: numpy>=1.11.3 in /usr/local/lib/python3.7/dist-packages (from gensim) (1.21.6)\n",
            "Requirement already satisfied: scipy>=0.18.1 in /usr/local/lib/python3.7/dist-packages (from gensim) (1.7.3)\n",
            "Requirement already satisfied: smart-open>=1.2.1 in /usr/local/lib/python3.7/dist-packages (from gensim) (5.2.1)\n",
            "Requirement already satisfied: six>=1.5.0 in /usr/local/lib/python3.7/dist-packages (from gensim) (1.15.0)\n"
          ]
        }
      ],
      "source": [
        "!pip install gensim"
      ]
    },
    {
      "cell_type": "code",
      "execution_count": 3,
      "metadata": {
        "id": "p4u5QXHka4Xw"
      },
      "outputs": [],
      "source": [
        "import pandas as pd\n",
        "import numpy as np\n",
        "\n",
        "from nltk import word_tokenize\n",
        "from sklearn.feature_extraction.text import CountVectorizer\n",
        "from sklearn.model_selection import train_test_split\n",
        "from sklearn import linear_model \n",
        "from sklearn import metrics \n",
        "from sklearn import preprocessing\n",
        "from gensim.utils import simple_preprocess\n",
        "from gensim.parsing.preprocessing import remove_stopwords\n",
        "\n",
        "\n",
        "import seaborn"
      ]
    },
    {
      "cell_type": "markdown",
      "metadata": {
        "id": "fsGjIJhia4Xx"
      },
      "source": [
        "## Building the Pipeline"
      ]
    },
    {
      "cell_type": "code",
      "execution_count": 4,
      "metadata": {
        "id": "KoLj8Lfxa4Xx"
      },
      "outputs": [],
      "source": [
        "RANDOM_STATE = 42\n",
        "\n",
        "def gather_data():\n",
        "    # data = pd.read_csv('./data/data.csv')\n",
        "    data = pd.read_csv('/content/drive/MyDrive/data/data.csv')\n",
        "    return data['lyrics'], data['genre']\n",
        "\n",
        "def vectorize_labels(labels, classes=None):\n",
        "    '''\n",
        "    Vectorizes the labels.\n",
        "    Returns as (indexes, labels)\n",
        "    '''\n",
        "    if classes is None:\n",
        "        return pd.factorize(labels)\n",
        "    return pd.Categorical(labels, categories=classes).codes, classes\n",
        "\n",
        "\n",
        "# PHASE 1 START ----------------------------------------------------------------\n",
        "def features_bow(data):\n",
        "    vectorizer = CountVectorizer(stop_words='english', min_df=0.01, ngram_range=(1, 2))\n",
        "    text = data.to_list()\n",
        "    X = vectorizer.fit_transform(text)\n",
        "    return X, vectorizer\n",
        "\n",
        "def train_model_logistic(X, Y):\n",
        "    classifier = linear_model.LogisticRegression(penalty='l2', multi_class='multinomial', class_weight='balanced', random_state=RANDOM_STATE, fit_intercept=True)\n",
        "    classifier.fit(X, Y)\n",
        "    return classifier\n",
        "\n",
        "def evaluate_model_logistic(model, X_train, Y_train, X_test, Y_test):\n",
        "    train_accuracy = model.score(X_train, Y_train)\n",
        "    print('\\nTraining:')\n",
        "    print(' accuracy:',format( 100*train_accuracy , '.2f') ) \n",
        "\n",
        "    # Compute and print accuracy on the test data\n",
        "    print('\\nTesting: ')\n",
        "    test_accuracy = model.score(X_test, Y_test)\n",
        "    print(' accuracy:', format( 100*test_accuracy , '.2f') )\n",
        "\n",
        "    # Compute and print AUC on the test data\n",
        "    class_probabilities = model.predict_proba(X_test)\n",
        "    test_auc_score = metrics.roc_auc_score(Y_test, class_probabilities, multi_class='ovo')\n",
        "    print(' AUC value:', format( 100*test_auc_score , '.2f') )\n",
        "    \n",
        "\n",
        "def evaluate_model_sklearn(model, X_train, Y_train, X_test, Y_test):\n",
        "    train_accuracy = model.score(X_train, Y_train)\n",
        "    print('\\nTraining:')\n",
        "    print(' accuracy:',format( 100*train_accuracy , '.2f') ) \n",
        "\n",
        "    # Compute and print accuracy on the test data\n",
        "    print('\\nTesting: ')\n",
        "    test_accuracy = model.score(X_test, Y_test)\n",
        "    print(' accuracy:', format( 100*test_accuracy , '.2f') )\n",
        "\n",
        "    # Compute and print AUC on the test data\n",
        "    class_probabilities = model.predict_proba(X_test)\n",
        "    test_auc_score = metrics.roc_auc_score(Y_test, class_probabilities, multi_class='ovo')\n",
        "    print(' AUC value:', format( 100*test_auc_score , '.2f') )\n",
        "# PHASE 1 END ------------------------------------------------------------------\n",
        "\n",
        "# PHASE 2 START ----------------------------------------------------------------\n",
        "from sklearn.neural_network import MLPClassifier\n",
        "from sklearn.model_selection import GridSearchCV\n",
        "\n",
        "def train_model_mlp(X, Y, solver='lbfgs', **kwargs):\n",
        "    classifier = MLPClassifier(solver=solver, random_state=RANDOM_STATE, **kwargs)\n",
        "    classifier.fit(X, Y)\n",
        "    return classifier\n",
        "    \n",
        "from gensim.models import Word2Vec\n",
        "from gensim.models import KeyedVectors\n",
        "import os\n",
        "\n",
        "def features_word2vec(data):\n",
        "    word_lists = data.str.split()\n",
        "    if not os.path.exists(\"word2vec.wordvectors\"):\n",
        "        print(\"Did not find pre-trained embeddings, training now...\")\n",
        "        model = Word2Vec(sentences=word_lists, vector_size=200, window=5, min_count=1, workers=4)\n",
        "        word_vectors = model.wv\n",
        "        word_vectors.save(\"word2vec.wordvectors\")\n",
        "    else:\n",
        "        print(\"Found pre-trained embeddings, loading now...\")\n",
        "        word_vectors = KeyedVectors.load(\"word2vec.wordvectors\", mmap='r')\n",
        "    print(\"Vectorizing features...\")\n",
        "    res = []\n",
        "    i = 0\n",
        "    for word_list in word_lists:\n",
        "        sub = []\n",
        "        for word in word_list:\n",
        "            if word in word_vectors:\n",
        "                sub.append(word_vectors[word])\n",
        "        res.append(sub)\n",
        "        if i % 1000 == 0:\n",
        "            print(i, \"/\", len(word_lists))\n",
        "        i += 1\n",
        "    return res\n",
        "\n",
        "def clean_vectors(X, Y):\n",
        "    # remove inputs with too few vectors\n",
        "    small_inputs = [i for i, x in enumerate(X) if len(x) < 10]\n",
        "    small_inputs_set = set(small_inputs)\n",
        "    X = [v for i, v in enumerate(X) if i not in small_inputs_set]\n",
        "    Y = np.delete(Y, small_inputs)\n",
        "    return X, Y\n",
        "\n",
        "def train_model_rnn(X, Y):\n",
        "    pass\n",
        "\n",
        "def evaluate_model_rnn(model, X_train, Y_train, X_test, Y_test):\n",
        "    pass\n",
        "\n",
        "# PHASE 2 END ------------------------------------------------------------------"
      ]
    },
    {
      "cell_type": "markdown",
      "metadata": {
        "id": "84GzkOZaa4Xy"
      },
      "source": [
        "## Executing the Pipeline"
      ]
    },
    {
      "cell_type": "code",
      "execution_count": 5,
      "metadata": {
        "id": "E1EmpnTUa4Xy"
      },
      "outputs": [],
      "source": [
        "# Phase 2 pipeline\n",
        "inputs, labels = gather_data()"
      ]
    },
    {
      "cell_type": "code",
      "source": [
        "x = np.array(inputs)\n",
        "y = np.array(labels)\n",
        "x.shape"
      ],
      "metadata": {
        "colab": {
          "base_uri": "https://localhost:8080/"
        },
        "id": "lO5mGIvxi-__",
        "outputId": "492a2b11-d602-469f-9836-a6b8d2fc50bd"
      },
      "execution_count": 6,
      "outputs": [
        {
          "output_type": "execute_result",
          "data": {
            "text/plain": [
              "(295242,)"
            ]
          },
          "metadata": {},
          "execution_count": 6
        }
      ]
    },
    {
      "cell_type": "code",
      "source": [
        "red = [i for i in range(y.shape[0]) if y[i] in ['rock', 'pop']]\n"
      ],
      "metadata": {
        "id": "DAVAU-gNsmGq"
      },
      "execution_count": 7,
      "outputs": []
    },
    {
      "cell_type": "code",
      "source": [
        "new_x = pd.Series(np.delete(x, red))\n",
        "new_y = pd.Series(np.delete(y, red))"
      ],
      "metadata": {
        "id": "vGveZhLUtbYJ"
      },
      "execution_count": 8,
      "outputs": []
    },
    {
      "cell_type": "code",
      "source": [
        "from collections import Counter\n",
        "freq = (dict(Counter(new_y)))\n",
        "s = sum(freq.values())\n",
        "freq = dict(map(lambda x: (x[0],x[1]/s), freq.items()))\n",
        "print(freq)"
      ],
      "metadata": {
        "colab": {
          "base_uri": "https://localhost:8080/"
        },
        "id": "sZo8sE8epBlQ",
        "outputId": "2c8fbc41-ad53-4457-a7dd-8b5824544425"
      },
      "execution_count": 9,
      "outputs": [
        {
          "output_type": "stream",
          "name": "stdout",
          "text": [
            "{'metal': 0.3468684279296656, 'hip-hop': 0.16554461852437188, 'jazz': 0.23502034619644346, 'folk': 0.15760524645652635, 'r&b': 0.09496136089299269}\n"
          ]
        }
      ]
    },
    {
      "cell_type": "code",
      "source": [
        "# convert to classes\n",
        "Y, classes = vectorize_labels(new_y)\n",
        "# convert to features\n",
        "X, vectorizer = features_bow(new_x)"
      ],
      "metadata": {
        "id": "5cQJtae9uYxt"
      },
      "execution_count": 10,
      "outputs": []
    },
    {
      "cell_type": "code",
      "source": [
        "X_bow_train, X_bow_test, Y_bow_train, Y_bow_test = train_test_split(X, Y, test_size=0.3, random_state=RANDOM_STATE)"
      ],
      "metadata": {
        "id": "ge06CYkMuZJZ"
      },
      "execution_count": 11,
      "outputs": []
    },
    {
      "cell_type": "code",
      "source": [
        "logistic = train_model_logistic(X_bow_train,Y_bow_train)"
      ],
      "metadata": {
        "id": "KcZ-4jkJ8DSU",
        "colab": {
          "base_uri": "https://localhost:8080/"
        },
        "outputId": "45a10adb-0861-4f88-895e-24f4d3b22743"
      },
      "execution_count": 12,
      "outputs": [
        {
          "output_type": "stream",
          "name": "stderr",
          "text": [
            "/usr/local/lib/python3.7/dist-packages/sklearn/linear_model/_logistic.py:818: ConvergenceWarning: lbfgs failed to converge (status=1):\n",
            "STOP: TOTAL NO. of ITERATIONS REACHED LIMIT.\n",
            "\n",
            "Increase the number of iterations (max_iter) or scale the data as shown in:\n",
            "    https://scikit-learn.org/stable/modules/preprocessing.html\n",
            "Please also refer to the documentation for alternative solver options:\n",
            "    https://scikit-learn.org/stable/modules/linear_model.html#logistic-regression\n",
            "  extra_warning_msg=_LOGISTIC_SOLVER_CONVERGENCE_MSG,\n"
          ]
        }
      ]
    },
    {
      "cell_type": "code",
      "source": [
        "evaluate_model_sklearn(logistic, X_bow_train, Y_bow_train, X_bow_test, Y_bow_test)"
      ],
      "metadata": {
        "colab": {
          "base_uri": "https://localhost:8080/"
        },
        "id": "2x8CpPvA8x5-",
        "outputId": "f2e67e02-a8c6-47fc-a49a-2d10075a3f08"
      },
      "execution_count": 13,
      "outputs": [
        {
          "output_type": "stream",
          "name": "stdout",
          "text": [
            "\n",
            "Training:\n",
            " accuracy: 72.14\n",
            "\n",
            "Testing: \n",
            " accuracy: 68.45\n",
            " AUC value: 88.42\n"
          ]
        }
      ]
    },
    {
      "cell_type": "code",
      "execution_count": 16,
      "metadata": {
        "colab": {
          "base_uri": "https://localhost:8080/"
        },
        "id": "3GBSgg1Ba4Xz",
        "outputId": "73f663f8-4b7b-40da-f8e1-9a5f7beb25ba"
      },
      "outputs": [
        {
          "output_type": "stream",
          "name": "stderr",
          "text": [
            "/usr/local/lib/python3.7/dist-packages/sklearn/neural_network/_multilayer_perceptron.py:549: ConvergenceWarning: lbfgs failed to converge (status=1):\n",
            "STOP: TOTAL NO. of ITERATIONS REACHED LIMIT.\n",
            "\n",
            "Increase the number of iterations (max_iter) or scale the data as shown in:\n",
            "    https://scikit-learn.org/stable/modules/preprocessing.html\n",
            "  self.n_iter_ = _check_optimize_result(\"lbfgs\", opt_res, self.max_iter)\n"
          ]
        }
      ],
      "source": [
        "mlp = train_model_mlp(X_bow_train, Y_bow_train)\n"
      ]
    },
    {
      "cell_type": "code",
      "execution_count": 17,
      "metadata": {
        "colab": {
          "base_uri": "https://localhost:8080/"
        },
        "id": "kloPbhuza4Xz",
        "outputId": "045db90c-dd4b-4ed7-fc3c-8e90eb3cc4a3"
      },
      "outputs": [
        {
          "output_type": "stream",
          "name": "stdout",
          "text": [
            "\n",
            "Training:\n",
            " accuracy: 98.82\n",
            "\n",
            "Testing: \n",
            " accuracy: 71.33\n",
            " AUC value: 86.95\n"
          ]
        }
      ],
      "source": [
        "evaluate_model_sklearn(mlp, X_bow_train, Y_bow_train, X_bow_test, Y_bow_test)"
      ]
    },
    {
      "cell_type": "code",
      "source": [
        "mlp1 = train_model_mlp(X_bow_train, Y_bow_train, max_iter=500)"
      ],
      "metadata": {
        "id": "M6y1i6dd46hk"
      },
      "execution_count": null,
      "outputs": []
    },
    {
      "cell_type": "code",
      "source": [
        "evaluate_model_sklearn(mlp1, X_bow_train, Y_bow_train, X_bow_test, Y_bow_test)"
      ],
      "metadata": {
        "id": "C92QvEvV5AKZ"
      },
      "execution_count": null,
      "outputs": []
    },
    {
      "cell_type": "code",
      "source": [
        "nn = train_model_mlp(X_bow_train, Y_bow_train, solver='sgd', hidden_layer_sizes=(1000,500))"
      ],
      "metadata": {
        "colab": {
          "base_uri": "https://localhost:8080/"
        },
        "id": "-wK-fZ2kZ5M9",
        "outputId": "1ad2f079-0838-4a3a-83f5-03ca8814e5dd"
      },
      "execution_count": 18,
      "outputs": [
        {
          "output_type": "stream",
          "name": "stderr",
          "text": [
            "/usr/local/lib/python3.7/dist-packages/sklearn/neural_network/_multilayer_perceptron.py:696: ConvergenceWarning: Stochastic Optimizer: Maximum iterations (200) reached and the optimization hasn't converged yet.\n",
            "  ConvergenceWarning,\n"
          ]
        }
      ]
    },
    {
      "cell_type": "code",
      "source": [
        "evaluate_model_sklearn(nn, X_bow_train, Y_bow_train, X_bow_test, Y_bow_test)"
      ],
      "metadata": {
        "colab": {
          "base_uri": "https://localhost:8080/"
        },
        "id": "rXVSX8FVaULU",
        "outputId": "c0185d81-c956-4372-bf17-d3da9b5a971c"
      },
      "execution_count": 19,
      "outputs": [
        {
          "output_type": "stream",
          "name": "stdout",
          "text": [
            "\n",
            "Training:\n",
            " accuracy: 98.53\n",
            "\n",
            "Testing: \n",
            " accuracy: 74.00\n",
            " AUC value: 89.24\n"
          ]
        }
      ]
    },
    {
      "cell_type": "code",
      "execution_count": 20,
      "metadata": {
        "id": "hxFEwSmUa4X0"
      },
      "outputs": [],
      "source": [
        "from sklearn.model_selection import cross_validate\n",
        "import matplotlib.pyplot as plt \n",
        "from sklearn.metrics import classification_report\n",
        "\n"
      ]
    },
    {
      "cell_type": "code",
      "execution_count": 21,
      "metadata": {
        "id": "XjPcoZOQa4X0"
      },
      "outputs": [],
      "source": [
        "def cross_validation(model, _X, _y, folds=5):\n",
        "    '''Function to perform 5 Folds Cross-Validation\n",
        "    Parameters\n",
        "    ----------\n",
        "    model: Python Class, default=None\n",
        "          This is the machine learning algorithm to be used for training.\n",
        "    _X: array\n",
        "       This is the matrix of features.\n",
        "    _y: array\n",
        "       This is the target variable.\n",
        "    folds: int, default=5\n",
        "      Determines the number of folds for cross-validation.\n",
        "    Returns\n",
        "    -------\n",
        "    The function returns a dictionary containing the metrics 'accuracy', 'precision',\n",
        "    'recall', 'f1' for both training set and validation set.\n",
        "    '''\n",
        "    score_method = ['accuracy']\n",
        "    results = cross_validate(estimator=model,\n",
        "                               X=_X,\n",
        "                               y=_y,\n",
        "                               cv=folds,\n",
        "                               scoring=score_method,\n",
        "                               return_train_score=True)\n",
        "    return results\n",
        "    \n",
        "    \n",
        "# Grouped Bar Chart for both training and validation data\n",
        "def plot_result(x_label, y_label, plot_title, train_data, validation_data):\n",
        "    '''Function to plot a grouped bar chart showing the training and validation\n",
        "      results of the ML model in each fold after applying K-fold cross-validation.\n",
        "     Parameters\n",
        "     ----------\n",
        "     x_label: str, \n",
        "        Name of the algorithm used for training e.g 'Decision Tree'\n",
        "\n",
        "     y_label: str, \n",
        "        Name of metric being visualized e.g 'Accuracy'\n",
        "     plot_title: str, \n",
        "        This is the title of the plot e.g 'Accuracy Plot'\n",
        "\n",
        "     train_data: list, array\n",
        "        This is the list containing either training precision, accuracy, or f1 score.\n",
        "\n",
        "     validation_data: list, array\n",
        "        This is the list containing either validation precision, accuracy, or f1 score.\n",
        "     Returns\n",
        "     -------\n",
        "     The function returns a Grouped Barchart showing the training and validation result\n",
        "     in each fold.\n",
        "    '''\n",
        "\n",
        "    # Set size of plot\n",
        "    plt.figure(figsize=(12,6))\n",
        "    labels = [\"1st Fold\", \"2nd Fold\", \"3rd Fold\", \"4th Fold\", \"5th Fold\"]\n",
        "    X_axis = np.arange(len(labels))\n",
        "    ax = plt.gca()\n",
        "    plt.ylim(0.40000, 1)\n",
        "    plt.bar(X_axis-0.2, train_data, 0.4, color='blue', label='Training')\n",
        "    plt.bar(X_axis+0.2, validation_data, 0.4, color='red', label='Validation')\n",
        "    plt.title('5-Fold Accuracy', fontsize=30)\n",
        "    plt.xticks(X_axis, labels)\n",
        "    plt.xlabel('Folds', fontsize=14)\n",
        "    plt.ylabel('Accuracy', fontsize=14)\n",
        "    plt.legend()\n",
        "    plt.grid(True)\n",
        "    plt.show()\n",
        "        \n",
        "def classification_adv_metrics(model, X, Y):\n",
        "    y_pred = model.predict(X)\n",
        "    return classification_report(Y, y_pred, target_names=classes)"
      ]
    },
    {
      "cell_type": "code",
      "execution_count": 22,
      "metadata": {
        "id": "5ZiLNOtKa4X0"
      },
      "outputs": [],
      "source": [
        "# # train model\n",
        "# model = train_model_rnn(X_train, Y_train)"
      ]
    },
    {
      "cell_type": "markdown",
      "metadata": {
        "id": "kZHgPfZQa4X1"
      },
      "source": [
        "## Evaluating the Model"
      ]
    },
    {
      "cell_type": "code",
      "execution_count": 23,
      "metadata": {
        "colab": {
          "base_uri": "https://localhost:8080/",
          "height": 1000
        },
        "id": "z8pgMtuba4X1",
        "outputId": "725a8026-9058-4b35-a75d-6a83b528f171"
      },
      "outputs": [
        {
          "output_type": "stream",
          "name": "stderr",
          "text": [
            "/usr/local/lib/python3.7/dist-packages/sklearn/linear_model/_logistic.py:818: ConvergenceWarning: lbfgs failed to converge (status=1):\n",
            "STOP: TOTAL NO. of ITERATIONS REACHED LIMIT.\n",
            "\n",
            "Increase the number of iterations (max_iter) or scale the data as shown in:\n",
            "    https://scikit-learn.org/stable/modules/preprocessing.html\n",
            "Please also refer to the documentation for alternative solver options:\n",
            "    https://scikit-learn.org/stable/modules/linear_model.html#logistic-regression\n",
            "  extra_warning_msg=_LOGISTIC_SOLVER_CONVERGENCE_MSG,\n",
            "/usr/local/lib/python3.7/dist-packages/sklearn/linear_model/_logistic.py:818: ConvergenceWarning: lbfgs failed to converge (status=1):\n",
            "STOP: TOTAL NO. of ITERATIONS REACHED LIMIT.\n",
            "\n",
            "Increase the number of iterations (max_iter) or scale the data as shown in:\n",
            "    https://scikit-learn.org/stable/modules/preprocessing.html\n",
            "Please also refer to the documentation for alternative solver options:\n",
            "    https://scikit-learn.org/stable/modules/linear_model.html#logistic-regression\n",
            "  extra_warning_msg=_LOGISTIC_SOLVER_CONVERGENCE_MSG,\n",
            "/usr/local/lib/python3.7/dist-packages/sklearn/linear_model/_logistic.py:818: ConvergenceWarning: lbfgs failed to converge (status=1):\n",
            "STOP: TOTAL NO. of ITERATIONS REACHED LIMIT.\n",
            "\n",
            "Increase the number of iterations (max_iter) or scale the data as shown in:\n",
            "    https://scikit-learn.org/stable/modules/preprocessing.html\n",
            "Please also refer to the documentation for alternative solver options:\n",
            "    https://scikit-learn.org/stable/modules/linear_model.html#logistic-regression\n",
            "  extra_warning_msg=_LOGISTIC_SOLVER_CONVERGENCE_MSG,\n",
            "/usr/local/lib/python3.7/dist-packages/sklearn/linear_model/_logistic.py:818: ConvergenceWarning: lbfgs failed to converge (status=1):\n",
            "STOP: TOTAL NO. of ITERATIONS REACHED LIMIT.\n",
            "\n",
            "Increase the number of iterations (max_iter) or scale the data as shown in:\n",
            "    https://scikit-learn.org/stable/modules/preprocessing.html\n",
            "Please also refer to the documentation for alternative solver options:\n",
            "    https://scikit-learn.org/stable/modules/linear_model.html#logistic-regression\n",
            "  extra_warning_msg=_LOGISTIC_SOLVER_CONVERGENCE_MSG,\n",
            "/usr/local/lib/python3.7/dist-packages/sklearn/linear_model/_logistic.py:818: ConvergenceWarning: lbfgs failed to converge (status=1):\n",
            "STOP: TOTAL NO. of ITERATIONS REACHED LIMIT.\n",
            "\n",
            "Increase the number of iterations (max_iter) or scale the data as shown in:\n",
            "    https://scikit-learn.org/stable/modules/preprocessing.html\n",
            "Please also refer to the documentation for alternative solver options:\n",
            "    https://scikit-learn.org/stable/modules/linear_model.html#logistic-regression\n",
            "  extra_warning_msg=_LOGISTIC_SOLVER_CONVERGENCE_MSG,\n"
          ]
        },
        {
          "output_type": "display_data",
          "data": {
            "text/plain": [
              "<Figure size 864x432 with 1 Axes>"
            ],
            "image/png": "[encoded data removed]"
          },
          "metadata": {
            "needs_background": "light"
          }
        }
      ],
      "source": [
        "logistic_res = cross_validation(logistic, X, Y)\n",
        "plot_result('folds', 'accuracy', 'Accuracy 5-fold Train/Test', logistic_res['train_accuracy'], logistic_res['test_accuracy'])"
      ]
    },
    {
      "cell_type": "code",
      "source": [
        "print(np.mean(logistic_res['train_accuracy']))\n",
        "print(np.mean(logistic_res['test_accuracy']))\n",
        "print(np.mean(np.hstack((logistic_res['train_accuracy'], logistic_res['test_accuracy']))))"
      ],
      "metadata": {
        "colab": {
          "base_uri": "https://localhost:8080/"
        },
        "id": "xsVhNMnhI09b",
        "outputId": "c4147f34-92f0-4349-89c1-d577af3e51d1"
      },
      "execution_count": 24,
      "outputs": [
        {
          "output_type": "stream",
          "name": "stdout",
          "text": [
            "0.7216117179785712\n",
            "0.6735395646168063\n",
            "0.6975756412976888\n"
          ]
        }
      ]
    },
    {
      "cell_type": "code",
      "source": [
        "mlp_res = cross_validation(mlp, X, Y)\n",
        "plot_result('folds', 'accuracy', 'Accuracy 5-fold Train/Test', mlp_res['train_accuracy'], mlp_res['test_accuracy'])"
      ],
      "metadata": {
        "colab": {
          "base_uri": "https://localhost:8080/",
          "height": 942
        },
        "id": "1aKrrSZ_oejj",
        "outputId": "ae9b2e87-83ac-4464-e044-f10214e1e0d1"
      },
      "execution_count": 25,
      "outputs": [
        {
          "output_type": "stream",
          "name": "stderr",
          "text": [
            "/usr/local/lib/python3.7/dist-packages/sklearn/neural_network/_multilayer_perceptron.py:549: ConvergenceWarning: lbfgs failed to converge (status=1):\n",
            "STOP: TOTAL NO. of ITERATIONS REACHED LIMIT.\n",
            "\n",
            "Increase the number of iterations (max_iter) or scale the data as shown in:\n",
            "    https://scikit-learn.org/stable/modules/preprocessing.html\n",
            "  self.n_iter_ = _check_optimize_result(\"lbfgs\", opt_res, self.max_iter)\n",
            "/usr/local/lib/python3.7/dist-packages/sklearn/neural_network/_multilayer_perceptron.py:549: ConvergenceWarning: lbfgs failed to converge (status=1):\n",
            "STOP: TOTAL NO. of ITERATIONS REACHED LIMIT.\n",
            "\n",
            "Increase the number of iterations (max_iter) or scale the data as shown in:\n",
            "    https://scikit-learn.org/stable/modules/preprocessing.html\n",
            "  self.n_iter_ = _check_optimize_result(\"lbfgs\", opt_res, self.max_iter)\n",
            "/usr/local/lib/python3.7/dist-packages/sklearn/neural_network/_multilayer_perceptron.py:549: ConvergenceWarning: lbfgs failed to converge (status=1):\n",
            "STOP: TOTAL NO. of ITERATIONS REACHED LIMIT.\n",
            "\n",
            "Increase the number of iterations (max_iter) or scale the data as shown in:\n",
            "    https://scikit-learn.org/stable/modules/preprocessing.html\n",
            "  self.n_iter_ = _check_optimize_result(\"lbfgs\", opt_res, self.max_iter)\n",
            "/usr/local/lib/python3.7/dist-packages/sklearn/neural_network/_multilayer_perceptron.py:549: ConvergenceWarning: lbfgs failed to converge (status=1):\n",
            "STOP: TOTAL NO. of ITERATIONS REACHED LIMIT.\n",
            "\n",
            "Increase the number of iterations (max_iter) or scale the data as shown in:\n",
            "    https://scikit-learn.org/stable/modules/preprocessing.html\n",
            "  self.n_iter_ = _check_optimize_result(\"lbfgs\", opt_res, self.max_iter)\n",
            "/usr/local/lib/python3.7/dist-packages/sklearn/neural_network/_multilayer_perceptron.py:549: ConvergenceWarning: lbfgs failed to converge (status=1):\n",
            "STOP: TOTAL NO. of ITERATIONS REACHED LIMIT.\n",
            "\n",
            "Increase the number of iterations (max_iter) or scale the data as shown in:\n",
            "    https://scikit-learn.org/stable/modules/preprocessing.html\n",
            "  self.n_iter_ = _check_optimize_result(\"lbfgs\", opt_res, self.max_iter)\n"
          ]
        },
        {
          "output_type": "display_data",
          "data": {
            "text/plain": [
              "<Figure size 864x432 with 1 Axes>"
            ],
            "image/png": "[encoded data removed]"
          },
          "metadata": {
            "needs_background": "light"
          }
        }
      ]
    },
    {
      "cell_type": "code",
      "source": [
        "print(np.mean(mlp_res['train_accuracy']))\n",
        "print(np.mean(mlp_res['test_accuracy']))\n",
        "print(np.mean(np.hstack((mlp_res['train_accuracy'], mlp_res['test_accuracy']))))"
      ],
      "metadata": {
        "colab": {
          "base_uri": "https://localhost:8080/"
        },
        "id": "1GKo3TojMsll",
        "outputId": "7cdd768b-3758-4136-e7f4-8bc29f9352ee"
      },
      "execution_count": 26,
      "outputs": [
        {
          "output_type": "stream",
          "name": "stdout",
          "text": [
            "0.9868651971230802\n",
            "0.6915710481663948\n",
            "0.8392181226447375\n"
          ]
        }
      ]
    },
    {
      "cell_type": "code",
      "source": [
        "nn_res = cross_validation(nn, X, Y)\n",
        "plot_result('folds', 'accuracy', 'Accuracy 5-fold Train/Test', nn_res['train_accuracy'], nn_res['test_accuracy'])"
      ],
      "metadata": {
        "colab": {
          "base_uri": "https://localhost:8080/"
        },
        "id": "IaZTN7khohv9",
        "outputId": "cf96409c-aee7-443b-8a96-75de23340994"
      },
      "execution_count": null,
      "outputs": [
        {
          "output_type": "stream",
          "name": "stderr",
          "text": [
            "/usr/local/lib/python3.7/dist-packages/sklearn/neural_network/_multilayer_perceptron.py:696: ConvergenceWarning: Stochastic Optimizer: Maximum iterations (200) reached and the optimization hasn't converged yet.\n",
            "  ConvergenceWarning,\n",
            "/usr/local/lib/python3.7/dist-packages/sklearn/neural_network/_multilayer_perceptron.py:699: UserWarning: Training interrupted by user.\n",
            "  warnings.warn(\"Training interrupted by user.\")\n",
            "/usr/local/lib/python3.7/dist-packages/sklearn/neural_network/_multilayer_perceptron.py:699: UserWarning: Training interrupted by user.\n",
            "  warnings.warn(\"Training interrupted by user.\")\n",
            "/usr/local/lib/python3.7/dist-packages/sklearn/neural_network/_multilayer_perceptron.py:699: UserWarning: Training interrupted by user.\n",
            "  warnings.warn(\"Training interrupted by user.\")\n"
          ]
        }
      ]
    },
    {
      "cell_type": "code",
      "source": [
        "print(np.mean(nn_res['train_accuracy']))\n",
        "print(np.mean(nn_res['test_accuracy']))\n",
        "print(np.mean(np.hstack((nn_res['train_accuracy'], nn_res['test_accuracy']))))"
      ],
      "metadata": {
        "id": "LjsVJpVpM3IC"
      },
      "execution_count": null,
      "outputs": []
    }
  ],
  "metadata": {
    "kernelspec": {
      "display_name": "Python 3 (ipykernel)",
      "language": "python",
      "name": "python3"
    },
    "language_info": {
      "codemirror_mode": {
        "name": "ipython",
        "version": 3
      },
      "file_extension": ".py",
      "mimetype": "text/x-python",
      "name": "python",
      "nbconvert_exporter": "python",
      "pygments_lexer": "ipython3",
      "version": "3.9.7"
    },
    "vscode": {
      "interpreter": {
        "hash": "7b2bee90d55464e0a4d3dee92f2ce936a28fa0d3744538f61c264101b3bf2266"
      }
    },
    "colab": {
      "provenance": []
    }
  },
  "nbformat": 4,
  "nbformat_minor": 0
}