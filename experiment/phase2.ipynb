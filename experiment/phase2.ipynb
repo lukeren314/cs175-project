{
 "cells": [
  {
   "cell_type": "markdown",
   "metadata": {},
   "source": [
    "# CS Project 175 Phase 2"
   ]
  },
  {
   "cell_type": "code",
   "execution_count": 1,
   "metadata": {},
   "outputs": [
    {
     "name": "stdout",
     "output_type": "stream",
     "text": [
      "Collecting gensim\n",
      "  Downloading https://files.pythonhosted.org/packages/02/d7/ca19d4dac1722d0f21ce10e0a8551fc2c2f093263d288639370565445ca6/gensim-4.2.0-cp38-cp38-win_amd64.whl (24.0MB)\n",
      "Requirement already satisfied: scipy>=0.18.1 in c:\\users\\ajiev\\cs175-project\\venv\\lib\\site-packages (from gensim) (1.9.3)\n",
      "Collecting smart-open>=1.8.1 (from gensim)\n",
      "  Downloading https://files.pythonhosted.org/packages/3e/07/36678c6ff0dfa6cf445d0e00bf4f013de3b86ec1a2e8bfd1e5df69b2d91d/smart_open-6.2.0-py3-none-any.whl (58kB)\n",
      "Requirement already satisfied: numpy>=1.17.0 in c:\\users\\ajiev\\cs175-project\\venv\\lib\\site-packages (from gensim) (1.23.4)\n",
      "Collecting Cython==0.29.28 (from gensim)\n",
      "  Downloading https://files.pythonhosted.org/packages/9f/79/311cfbca90332ab37ef8ea08f1af3266f20a9a0e7a1d652842db832226bb/Cython-0.29.28-py2.py3-none-any.whl (983kB)\n",
      "Installing collected packages: smart-open, Cython, gensim\n",
      "Successfully installed Cython-0.29.28 gensim-4.2.0 smart-open-6.2.0\n"
     ]
    },
    {
     "name": "stderr",
     "output_type": "stream",
     "text": [
      "WARNING: You are using pip version 19.2.3, however version 22.3.1 is available.\n",
      "You should consider upgrading via the 'python -m pip install --upgrade pip' command.\n"
     ]
    },
    {
     "name": "stdout",
     "output_type": "stream",
     "text": [
      "Requirement already satisfied: torch in c:\\users\\ajiev\\cs175-project\\venv\\lib\\site-packages (1.12.1)\n",
      "Requirement already satisfied: typing-extensions in c:\\users\\ajiev\\cs175-project\\venv\\lib\\site-packages (from torch) (4.4.0)\n"
     ]
    },
    {
     "name": "stderr",
     "output_type": "stream",
     "text": [
      "WARNING: You are using pip version 19.2.3, however version 22.3.1 is available.\n",
      "You should consider upgrading via the 'python -m pip install --upgrade pip' command.\n"
     ]
    },
    {
     "name": "stdout",
     "output_type": "stream",
     "text": [
      "Collecting torchmetrics\n",
      "  Downloading https://files.pythonhosted.org/packages/08/b7/f1e49be0e076c8ec981f1d4cea1f32da2bd754eaeaf6ed74d5add3f840b4/torchmetrics-0.10.3-py3-none-any.whl (529kB)\n",
      "Requirement already satisfied: torch>=1.3.1 in c:\\users\\ajiev\\cs175-project\\venv\\lib\\site-packages (from torchmetrics) (1.12.1)\n",
      "Requirement already satisfied: packaging in c:\\users\\ajiev\\cs175-project\\venv\\lib\\site-packages (from torchmetrics) (21.3)\n",
      "Requirement already satisfied: numpy>=1.17.2 in c:\\users\\ajiev\\cs175-project\\venv\\lib\\site-packages (from torchmetrics) (1.23.4)\n",
      "Requirement already satisfied: typing-extensions; python_version < \"3.9\" in c:\\users\\ajiev\\cs175-project\\venv\\lib\\site-packages (from torchmetrics) (4.4.0)\n",
      "Requirement already satisfied: pyparsing!=3.0.5,>=2.0.2 in c:\\users\\ajiev\\cs175-project\\venv\\lib\\site-packages (from packaging->torchmetrics) (3.0.9)\n",
      "Installing collected packages: torchmetrics\n",
      "Successfully installed torchmetrics-0.10.3\n"
     ]
    },
    {
     "name": "stderr",
     "output_type": "stream",
     "text": [
      "WARNING: You are using pip version 19.2.3, however version 22.3.1 is available.\n",
      "You should consider upgrading via the 'python -m pip install --upgrade pip' command.\n"
     ]
    }
   ],
   "source": [
    "!pip install gensim\n",
    "!pip install torch\n",
    "!pip install torchmetrics"
   ]
  },
  {
   "cell_type": "code",
   "execution_count": 2,
   "metadata": {},
   "outputs": [],
   "source": [
    "import pandas as pd\n",
    "import numpy as np\n",
    "\n",
    "from sklearn.feature_extraction.text import CountVectorizer\n",
    "from sklearn.model_selection import train_test_split\n",
    "from sklearn import linear_model \n",
    "from sklearn import metrics "
   ]
  },
  {
   "cell_type": "markdown",
   "metadata": {},
   "source": [
    "## Building the Pipeline"
   ]
  },
  {
   "cell_type": "code",
   "execution_count": 3,
   "metadata": {},
   "outputs": [],
   "source": [
    "RANDOM_STATE = 42\n",
    "\n",
    "def gather_data():\n",
    "    data = pd.read_csv('../data/data.csv')\n",
    "    return data['lyrics'], data['genre']\n",
    "\n",
    "def vectorize_labels(labels, classes=None):\n",
    "    '''\n",
    "    Vectorizes the labels.\n",
    "    Returns as (indexes, labels)\n",
    "    '''\n",
    "    if classes is None:\n",
    "        return pd.factorize(labels)\n",
    "    return pd.Categorical(labels, categories=classes).codes, classes\n",
    "\n",
    "\n",
    "# PHASE 1 START ----------------------------------------------------------------\n",
    "def features_bow(data):\n",
    "    vectorizer = CountVectorizer(stop_words='english', min_df=0.01, ngram_range=(1, 2))\n",
    "    text = data.to_list()\n",
    "    X = vectorizer.fit_transform(text)\n",
    "    return X, vectorizer\n",
    "\n",
    "def train_model_logistic(X, Y):\n",
    "    classifier = linear_model.LogisticRegression(penalty='l2', multi_class='multinomial', class_weight='balanced', random_state=RANDOM_STATE, fit_intercept=True)\n",
    "    classifier.fit(X, Y)\n",
    "    return classifier\n",
    "\n",
    "def evaluate_model_sklearn(model, X_train, Y_train, X_test, Y_test):\n",
    "    train_accuracy = model.score(X_train, Y_train)\n",
    "    print('\\nTraining:')\n",
    "    print(' accuracy:',format( 100*train_accuracy , '.2f') ) \n",
    "\n",
    "    # Compute and print accuracy on the test data\n",
    "    print('\\nTesting: ')\n",
    "    test_accuracy = model.score(X_test, Y_test)\n",
    "    print(' accuracy:', format( 100*test_accuracy , '.2f') )\n",
    "\n",
    "    # Compute and print AUC on the test data\n",
    "    class_probabilities = model.predict_proba(X_test)[:, 1]\n",
    "    test_auc_score = metrics.roc_auc_score(Y_test, class_probabilities)\n",
    "    print(' AUC value:', format( 100*test_auc_score , '.2f') )\n",
    "    return train_accuracy, test_accuracy\n",
    "\n",
    "def sample_incorrect_predictions(predictions, probabilities, actuals, classes, titles, lyrics):\n",
    "    np.random.seed(RANDOM_STATE)\n",
    "    NUM_EXAMPLES = 10\n",
    "    for _ in range(NUM_EXAMPLES):\n",
    "        i = np.random.choice(np.where(predictions != actuals)[0])\n",
    "        print(\"Song Title:\", titles[i])\n",
    "        print('Predicted:', classes[predictions[i]], 'Actual:', classes[actuals[i]])\n",
    "        print('Probability:', probabilities[i][predictions[i]])\n",
    "        print(\"Lyrics: \")\n",
    "        print('\"' + lyrics[i][:100] + '...\"')\n",
    "        print()\n",
    "\n",
    "# PHASE 1 END ------------------------------------------------------------------\n",
    "\n",
    "# Phase 2 separted into different blocks"
   ]
  },
  {
   "cell_type": "markdown",
   "metadata": {},
   "source": [
    "## Executing the Pipeline"
   ]
  },
  {
   "cell_type": "markdown",
   "metadata": {},
   "source": [
    "### MLP on BOW\n",
    "\n",
    "Let's start with the MLP classifier on BOW, then we'll try RNN on embeddings"
   ]
  },
  {
   "cell_type": "code",
   "execution_count": 4,
   "metadata": {},
   "outputs": [],
   "source": [
    "# Phase 2 pipeline\n",
    "inputs, labels = gather_data()"
   ]
  },
  {
   "cell_type": "code",
   "execution_count": 5,
   "metadata": {},
   "outputs": [],
   "source": [
    "# convert to classes\n",
    "Y, classes = vectorize_labels(labels)"
   ]
  },
  {
   "cell_type": "code",
   "execution_count": 6,
   "metadata": {},
   "outputs": [],
   "source": [
    "# Let's try MLP on BOW first\n",
    "X_bow, vectorizer = features_bow(inputs)\n",
    "X_bow_train, X_bow_test, Y_bow_train, Y_bow_test = train_test_split(X_bow, Y, test_size=0.2, random_state=RANDOM_STATE)"
   ]
  },
  {
   "cell_type": "code",
   "execution_count": 7,
   "metadata": {},
   "outputs": [],
   "source": [
    "from sklearn.neural_network import MLPClassifier\n",
    "from sklearn.model_selection import GridSearchCV\n",
    "\n",
    "def train_model_mlp(X, Y, solver='lbfgs', **kwargs):\n",
    "    classifier = MLPClassifier(solver=solver, random_state=RANDOM_STATE, **kwargs)\n",
    "    classifier.fit(X, Y)\n",
    "    return classifier\n",
    "    "
   ]
  },
  {
   "cell_type": "code",
   "execution_count": 8,
   "metadata": {},
   "outputs": [],
   "source": [
    "model_nn = train_model_mlp(X_bow_train, Y_bow_train)"
   ]
  },
  {
   "cell_type": "code",
   "execution_count": 9,
   "metadata": {},
   "outputs": [
    {
     "name": "stdout",
     "output_type": "stream",
     "text": [
      "\n",
      "Training:\n",
      " accuracy: 99.89\n",
      "\n",
      "Testing: \n",
      " accuracy: 85.75\n",
      " AUC value: 90.47\n"
     ]
    },
    {
     "data": {
      "text/plain": [
       "(0.9988590107314667, 0.8575481006413419)"
      ]
     },
     "execution_count": 9,
     "metadata": {},
     "output_type": "execute_result"
    }
   ],
   "source": [
    "# evaluate MLP on bow\n",
    "evaluate_model_sklearn(model_nn, X_bow_train, Y_bow_train, X_bow_test, Y_bow_test)"
   ]
  },
  {
   "cell_type": "code",
   "execution_count": 10,
   "metadata": {},
   "outputs": [
    {
     "name": "stdout",
     "output_type": "stream",
     "text": [
      "\n",
      "Training:\n",
      " accuracy: 99.89\n",
      "\n",
      "Testing: \n",
      " accuracy: 85.75\n",
      " AUC value: 90.47\n"
     ]
    },
    {
     "name": "stderr",
     "output_type": "stream",
     "text": [
      "c:\\Users\\ajiev\\cs175-project\\venv\\lib\\site-packages\\sklearn\\neural_network\\_multilayer_perceptron.py:702: ConvergenceWarning: Stochastic Optimizer: Maximum iterations (200) reached and the optimization hasn't converged yet.\n",
      "  warnings.warn(\n"
     ]
    },
    {
     "name": "stdout",
     "output_type": "stream",
     "text": [
      "\n",
      "Training:\n",
      " accuracy: 96.86\n",
      "\n",
      "Testing: \n",
      " accuracy: 86.93\n",
      " AUC value: 92.02\n",
      "\n",
      "Training:\n",
      " accuracy: 99.85\n",
      "\n",
      "Testing: \n",
      " accuracy: 87.36\n",
      " AUC value: 92.64\n"
     ]
    }
   ],
   "source": [
    "# axis search\n",
    "table = {}\n",
    "params = ['lbfgs', 'sgd', 'adam']\n",
    "for param in params:\n",
    "    model = train_model_mlp(X_bow_train, Y_bow_train, solver=param)\n",
    "    train, test = evaluate_model_sklearn(model, X_bow_train, Y_bow_train, X_bow_test, Y_bow_test)\n",
    "    table[param] = (train, test)"
   ]
  },
  {
   "cell_type": "markdown",
   "metadata": {},
   "source": [
    "### DNN on BOW"
   ]
  },
  {
   "cell_type": "code",
   "execution_count": 11,
   "metadata": {},
   "outputs": [
    {
     "name": "stdout",
     "output_type": "stream",
     "text": [
      "\n",
      "Training:\n",
      " accuracy: 99.89\n",
      "\n",
      "Testing: \n",
      " accuracy: 87.09\n",
      " AUC value: 90.95\n"
     ]
    },
    {
     "data": {
      "text/plain": [
       "(0.9988898482792649, 0.8708682782437099)"
      ]
     },
     "execution_count": 11,
     "metadata": {},
     "output_type": "execute_result"
    }
   ],
   "source": [
    "# 60.18 (100, 50, 50, 50, 50) \n",
    "# 60.21 (100, 100, 100, 100, 100) 3x longer to train\n",
    "# 79.61 60.32 (200, 200) 21m 49.5s\n",
    "# 76.09 60.66 (200, 100, 100, 100) 69m 21.4s\n",
    "# 84.28 60.76 (500, 100, 100, 100) 183m 23.2s\n",
    "# 89.32 61 (750, 250) 48m (on 6-core)\n",
    "# 89.76 61.85 82.00 (1000, 500) 57 min (on 6-core)\n",
    "model_dnn = train_model_mlp(X_bow_train, Y_bow_train, hidden_layer_sizes=(500, 100, 100, 100))\n",
    "evaluate_model_sklearn(model_dnn, X_bow_train, Y_bow_train, X_bow_test, Y_bow_test)"
   ]
  },
  {
   "cell_type": "code",
   "execution_count": 12,
   "metadata": {},
   "outputs": [
    {
     "name": "stdout",
     "output_type": "stream",
     "text": [
      "\n",
      "Training:\n",
      " accuracy: 99.82\n",
      "\n",
      "Testing: \n",
      " accuracy: 85.08\n",
      " AUC value: 90.29\n"
     ]
    },
    {
     "name": "stderr",
     "output_type": "stream",
     "text": [
      "c:\\Users\\ajiev\\cs175-project\\venv\\lib\\site-packages\\sklearn\\neural_network\\_multilayer_perceptron.py:702: ConvergenceWarning: Stochastic Optimizer: Maximum iterations (200) reached and the optimization hasn't converged yet.\n",
      "  warnings.warn(\n"
     ]
    },
    {
     "name": "stdout",
     "output_type": "stream",
     "text": [
      "\n",
      "Training:\n",
      " accuracy: 99.82\n",
      "\n",
      "Testing: \n",
      " accuracy: 86.74\n",
      " AUC value: 91.66\n",
      "\n",
      "Training:\n",
      " accuracy: 99.85\n",
      "\n",
      "Testing: \n",
      " accuracy: 85.01\n",
      " AUC value: 89.70\n",
      "\n",
      "Training:\n",
      " accuracy: 99.82\n",
      "\n",
      "Testing: \n",
      " accuracy: 86.27\n",
      " AUC value: 91.03\n"
     ]
    }
   ],
   "source": [
    "table = {}\n",
    "params = [(256, 256, 256), (512, 512), (128, 128, 128, 128), (512, 256, 128)]\n",
    "for param in params:\n",
    "    model = train_model_mlp(X_bow_train, Y_bow_train, solver='sgd', hidden_layer_sizes=param)\n",
    "    train, test = evaluate_model_sklearn(model, X_bow_train, Y_bow_train, X_bow_test, Y_bow_test)\n",
    "    table[param] = (train, test)"
   ]
  },
  {
   "cell_type": "code",
   "execution_count": 13,
   "metadata": {},
   "outputs": [
    {
     "data": {
      "text/plain": [
       "{(256, 256, 256): (0.9982422597755026, 0.8507646768623581),\n",
       " (512, 512): (0.9982114222277044, 0.8674148988653182),\n",
       " (128, 128, 128, 128): (0.9984889601578882, 0.8501480019733596),\n",
       " (512, 256, 128): (0.9982422597755026, 0.8627281697089294)}"
      ]
     },
     "execution_count": 13,
     "metadata": {},
     "output_type": "execute_result"
    }
   ],
   "source": [
    "table"
   ]
  },
  {
   "cell_type": "markdown",
   "metadata": {},
   "source": [
    "### RNN on Embeddings\n",
    "\n",
    "Now we're gonna try RNN on embeddings"
   ]
  },
  {
   "cell_type": "code",
   "execution_count": 14,
   "metadata": {},
   "outputs": [],
   "source": [
    "X_str = inputs.tolist()"
   ]
  },
  {
   "cell_type": "code",
   "execution_count": 15,
   "metadata": {},
   "outputs": [
    {
     "name": "stdout",
     "output_type": "stream",
     "text": [
      "Did not find pre-trained embeddings, training now...\n"
     ]
    }
   ],
   "source": [
    "\n",
    "from gensim.models import Word2Vec\n",
    "from gensim.models import KeyedVectors\n",
    "import os\n",
    "\n",
    "if not os.path.exists(\"word2vec.wordvectors\"):\n",
    "    print(\"Did not find pre-trained embeddings, training now...\")\n",
    "    model = Word2Vec(sentences=inputs.str.split(), vector_size=100, window=5, min_count=1, workers=4)\n",
    "    word_vectors = model.wv\n",
    "    word_vectors.save(\"word2vec.wordvectors\")\n",
    "else:\n",
    "    print(\"Found pre-trained embeddings, loading now...\")\n",
    "    word_vectors = KeyedVectors.load(\"word2vec.wordvectors\", mmap='r')"
   ]
  },
  {
   "cell_type": "code",
   "execution_count": 16,
   "metadata": {},
   "outputs": [],
   "source": [
    "# split into training and test\n",
    "X_vec_train, X_vec_test, Y_vec_train, Y_vec_test = train_test_split(X_str, Y, test_size = 0.2, random_state=RANDOM_STATE)"
   ]
  },
  {
   "cell_type": "code",
   "execution_count": 17,
   "metadata": {},
   "outputs": [
    {
     "name": "stderr",
     "output_type": "stream",
     "text": [
      "c:\\Users\\ajiev\\cs175-project\\venv\\lib\\site-packages\\tqdm\\auto.py:22: TqdmWarning: IProgress not found. Please update jupyter and ipywidgets. See https://ipywidgets.readthedocs.io/en/stable/user_install.html\n",
      "  from .autonotebook import tqdm as notebook_tqdm\n"
     ]
    },
    {
     "name": "stdout",
     "output_type": "stream",
     "text": [
      "1000/100000\n",
      "2000/100000\n",
      "3000/100000\n",
      "4000/100000\n",
      "5000/100000\n",
      "6000/100000\n",
      "7000/100000\n"
     ]
    },
    {
     "ename": "KeyboardInterrupt",
     "evalue": "",
     "output_type": "error",
     "traceback": [
      "\u001b[1;31m---------------------------------------------------------------------------\u001b[0m",
      "\u001b[1;31mKeyboardInterrupt\u001b[0m                         Traceback (most recent call last)",
      "Cell \u001b[1;32mIn [17], line 101\u001b[0m\n\u001b[0;32m     98\u001b[0m     \u001b[39mreturn\u001b[39;00m model\n\u001b[0;32m    100\u001b[0m \u001b[39m# train model\u001b[39;00m\n\u001b[1;32m--> 101\u001b[0m model_rnn \u001b[39m=\u001b[39m train_model_rnn(X_vec_train, Y_vec_train)\n",
      "Cell \u001b[1;32mIn [17], line 94\u001b[0m, in \u001b[0;36mtrain_model_rnn\u001b[1;34m(X, Y)\u001b[0m\n\u001b[0;32m     92\u001b[0m     output, hidden \u001b[39m=\u001b[39m model\u001b[39m.\u001b[39mforward(song_tensor[i], hidden)\n\u001b[0;32m     93\u001b[0m loss \u001b[39m=\u001b[39m criterion(output, genre_tensor)\n\u001b[1;32m---> 94\u001b[0m loss\u001b[39m.\u001b[39;49mbackward()\n\u001b[0;32m     95\u001b[0m optimizer\u001b[39m.\u001b[39mstep()\n\u001b[0;32m     96\u001b[0m \u001b[39mif\u001b[39;00m \u001b[39miter\u001b[39m \u001b[39m%\u001b[39m \u001b[39m1000\u001b[39m \u001b[39m==\u001b[39m \u001b[39m0\u001b[39m:\n",
      "File \u001b[1;32mc:\\Users\\ajiev\\cs175-project\\venv\\lib\\site-packages\\torch\\_tensor.py:396\u001b[0m, in \u001b[0;36mTensor.backward\u001b[1;34m(self, gradient, retain_graph, create_graph, inputs)\u001b[0m\n\u001b[0;32m    387\u001b[0m \u001b[39mif\u001b[39;00m has_torch_function_unary(\u001b[39mself\u001b[39m):\n\u001b[0;32m    388\u001b[0m     \u001b[39mreturn\u001b[39;00m handle_torch_function(\n\u001b[0;32m    389\u001b[0m         Tensor\u001b[39m.\u001b[39mbackward,\n\u001b[0;32m    390\u001b[0m         (\u001b[39mself\u001b[39m,),\n\u001b[1;32m   (...)\u001b[0m\n\u001b[0;32m    394\u001b[0m         create_graph\u001b[39m=\u001b[39mcreate_graph,\n\u001b[0;32m    395\u001b[0m         inputs\u001b[39m=\u001b[39minputs)\n\u001b[1;32m--> 396\u001b[0m torch\u001b[39m.\u001b[39;49mautograd\u001b[39m.\u001b[39;49mbackward(\u001b[39mself\u001b[39;49m, gradient, retain_graph, create_graph, inputs\u001b[39m=\u001b[39;49minputs)\n",
      "File \u001b[1;32mc:\\Users\\ajiev\\cs175-project\\venv\\lib\\site-packages\\torch\\autograd\\__init__.py:173\u001b[0m, in \u001b[0;36mbackward\u001b[1;34m(tensors, grad_tensors, retain_graph, create_graph, grad_variables, inputs)\u001b[0m\n\u001b[0;32m    168\u001b[0m     retain_graph \u001b[39m=\u001b[39m create_graph\n\u001b[0;32m    170\u001b[0m \u001b[39m# The reason we repeat same the comment below is that\u001b[39;00m\n\u001b[0;32m    171\u001b[0m \u001b[39m# some Python versions print out the first line of a multi-line function\u001b[39;00m\n\u001b[0;32m    172\u001b[0m \u001b[39m# calls in the traceback and some print out the last line\u001b[39;00m\n\u001b[1;32m--> 173\u001b[0m Variable\u001b[39m.\u001b[39;49m_execution_engine\u001b[39m.\u001b[39;49mrun_backward(  \u001b[39m# Calls into the C++ engine to run the backward pass\u001b[39;49;00m\n\u001b[0;32m    174\u001b[0m     tensors, grad_tensors_, retain_graph, create_graph, inputs,\n\u001b[0;32m    175\u001b[0m     allow_unreachable\u001b[39m=\u001b[39;49m\u001b[39mTrue\u001b[39;49;00m, accumulate_grad\u001b[39m=\u001b[39;49m\u001b[39mTrue\u001b[39;49;00m)\n",
      "\u001b[1;31mKeyboardInterrupt\u001b[0m: "
     ]
    }
   ],
   "source": [
    "\n",
    "def word2vec(tokens):\n",
    "    return np.array([word_vectors[word] for word in tokens if word in word_vectors])\n",
    "\n",
    "import torch\n",
    "import torch.nn as nn\n",
    "from torchmetrics import R2Score\n",
    "import torch.multiprocessing as mp\n",
    "torch.manual_seed(RANDOM_STATE)\n",
    "import gc\n",
    "\n",
    "# RNN code inspired from HW2\n",
    "class RNN(nn.Module):\n",
    "    def __init__(self, input_size, output_size, hidden_size):\n",
    "        super(RNN, self).__init__()\n",
    "        self.hidden_size = hidden_size\n",
    "\n",
    "        # self.hidden_layers = [nn.Linear(input_size + hidden_size, hidden_size) for _ in range(n_layers)]\n",
    "        self.hidden_layer =  nn.Linear(input_size + hidden_size, hidden_size) # create hidden layer\n",
    "        self.output_layer =  nn.Linear(input_size + hidden_size, output_size)\n",
    "        self.softmax = nn.LogSoftmax(dim=1) # finish with a log softmax\n",
    "\n",
    "    def forward(self, input_, hidden):\n",
    "        # Put the computation for forward pass here\n",
    "        combined = torch.cat((input_, hidden), 1) # concatenate the input and hidden layers\n",
    "        output = self.output_layer(combined) # compute the output\n",
    "        output = self.softmax(output) # apply softmax\n",
    "        hidden = self.hidden_layer(combined) # compute the hidden layer\n",
    "\n",
    "        return output, hidden\n",
    "\n",
    "    def init_hidden(self):\n",
    "        return torch.zeros(1, self.hidden_size)\n",
    "\n",
    "    def score_old(self, X, Y):\n",
    "        self.predictions = torch.zeros((len(Y),), dtype=torch.long)\n",
    "        self.actuals = torch.zeros((len(Y),), dtype=torch.long)\n",
    "        processes = []\n",
    "        for i in range(len(X)):\n",
    "            song = X[i]\n",
    "            genre = Y[i]\n",
    "            p = mp.Process(target=self.score_song, args=(song, genre, i))\n",
    "            p.start()\n",
    "            processes.append(p)\n",
    "            if i % 100 == 0:\n",
    "                print(i, '/', len(X))\n",
    "        i = 0\n",
    "        for p in processes:\n",
    "            p.join()\n",
    "            if i % 1000 == 0:\n",
    "                print(i, '/', len(X))\n",
    "        r2 = R2Score()\n",
    "        return r2(self.predictions, self.actuals)\n",
    "\n",
    "    def predict(self, song):\n",
    "        hidden = self.init_hidden()\n",
    "        song_embedding = word2vec(song.split())\n",
    "        song_tensor = torch.tensor(np.expand_dims(song_embedding, axis=1), dtype=torch.float).detach()\n",
    "        for j in range(song_tensor.size()[0]):\n",
    "            output, hidden = self.forward(song_tensor[j], hidden.detach())\n",
    "        return output.topk(1)[1]\n",
    "\n",
    "    def score(self, X, Y):\n",
    "        total_accuracy = 0\n",
    "        for i in range(len(X)):\n",
    "            song = X[i]\n",
    "            genre = Y[i]\n",
    "            prediction = self.predict(song)\n",
    "            total_accuracy += genre == prediction\n",
    "            if i % 100 == 0:\n",
    "                print(i, '/', len(X))\n",
    "        return total_accuracy / len(X)\n",
    "\n",
    "\n",
    "def train_model_rnn(X, Y):\n",
    "    model = RNN(input_size=100, output_size=7, hidden_size=512)\n",
    "\n",
    "    n_iters = 100000\n",
    "    lr=1e-4\n",
    "    criterion = nn.NLLLoss()\n",
    "    optimizer = torch.optim.Adam(model.parameters(), lr=lr)\n",
    "    # reshape X\n",
    "    for iter in range(1, n_iters + 1):\n",
    "        optimizer.zero_grad()\n",
    "        hidden = model.init_hidden()\n",
    "        r_i = np.random.randint(0, len(X))\n",
    "        song_embedding = word2vec(X[r_i].split())\n",
    "        if len(song_embedding) == 0:\n",
    "            continue\n",
    "        song_tensor = torch.tensor(np.expand_dims(song_embedding, axis=1), dtype=torch.float)\n",
    "        genre_tensor = torch.tensor(np.expand_dims(Y[r_i], axis=0), dtype=torch.long)\n",
    "        for i in range(song_tensor.size()[0]):\n",
    "            output, hidden = model.forward(song_tensor[i], hidden)\n",
    "        loss = criterion(output, genre_tensor)\n",
    "        loss.backward()\n",
    "        optimizer.step()\n",
    "        if iter % 1000 == 0:\n",
    "            print(f'{iter}/{n_iters}')\n",
    "    return model\n",
    "\n",
    "# train model\n",
    "model_rnn = train_model_rnn(X_vec_train, Y_vec_train)"
   ]
  },
  {
   "cell_type": "markdown",
   "metadata": {},
   "source": [
    "## Evaluating the Model"
   ]
  },
  {
   "cell_type": "code",
   "execution_count": null,
   "metadata": {},
   "outputs": [
    {
     "name": "stdout",
     "output_type": "stream",
     "text": [
      "0 / 236193\n",
      "100 / 236193\n",
      "200 / 236193\n",
      "300 / 236193\n"
     ]
    },
    {
     "ename": "KeyboardInterrupt",
     "evalue": "",
     "output_type": "error",
     "traceback": [
      "\u001b[1;31m---------------------------------------------------------------------------\u001b[0m",
      "\u001b[1;31mKeyboardInterrupt\u001b[0m                         Traceback (most recent call last)",
      "\u001b[1;32mc:\\Users\\LR\\Desktop\\cs175-project\\phase2.ipynb Cell 25\u001b[0m in \u001b[0;36m<module>\u001b[1;34m\u001b[0m\n\u001b[0;32m      <a href='vscode-notebook-cell:/c%3A/Users/LR/Desktop/cs175-project/phase2.ipynb#X33sZmlsZQ%3D%3D?line=7'>8</a>\u001b[0m     test_accuracy \u001b[39m=\u001b[39m model\u001b[39m.\u001b[39mscore(X_test, Y_test)\n\u001b[0;32m      <a href='vscode-notebook-cell:/c%3A/Users/LR/Desktop/cs175-project/phase2.ipynb#X33sZmlsZQ%3D%3D?line=8'>9</a>\u001b[0m     \u001b[39mprint\u001b[39m(\u001b[39m'\u001b[39m\u001b[39m accuracy:\u001b[39m\u001b[39m'\u001b[39m, \u001b[39mformat\u001b[39m( \u001b[39m100\u001b[39m\u001b[39m*\u001b[39mtest_accuracy , \u001b[39m'\u001b[39m\u001b[39m.2f\u001b[39m\u001b[39m'\u001b[39m) )\n\u001b[1;32m---> <a href='vscode-notebook-cell:/c%3A/Users/LR/Desktop/cs175-project/phase2.ipynb#X33sZmlsZQ%3D%3D?line=10'>11</a>\u001b[0m evaluate_model_rnn(model_rnn, X_vec_train, Y_vec_train, X_vec_test, Y_vec_test)\n",
      "\u001b[1;32mc:\\Users\\LR\\Desktop\\cs175-project\\phase2.ipynb Cell 25\u001b[0m in \u001b[0;36mevaluate_model_rnn\u001b[1;34m(model, X_train, Y_train, X_test, Y_test)\u001b[0m\n\u001b[0;32m      <a href='vscode-notebook-cell:/c%3A/Users/LR/Desktop/cs175-project/phase2.ipynb#X33sZmlsZQ%3D%3D?line=0'>1</a>\u001b[0m \u001b[39mdef\u001b[39;00m \u001b[39mevaluate_model_rnn\u001b[39m(model, X_train, Y_train, X_test, Y_test):\n\u001b[1;32m----> <a href='vscode-notebook-cell:/c%3A/Users/LR/Desktop/cs175-project/phase2.ipynb#X33sZmlsZQ%3D%3D?line=1'>2</a>\u001b[0m     train_accuracy \u001b[39m=\u001b[39m model\u001b[39m.\u001b[39;49mscore(X_train, Y_train)\n\u001b[0;32m      <a href='vscode-notebook-cell:/c%3A/Users/LR/Desktop/cs175-project/phase2.ipynb#X33sZmlsZQ%3D%3D?line=2'>3</a>\u001b[0m     \u001b[39mprint\u001b[39m(\u001b[39m'\u001b[39m\u001b[39m\\n\u001b[39;00m\u001b[39mTraining:\u001b[39m\u001b[39m'\u001b[39m)\n\u001b[0;32m      <a href='vscode-notebook-cell:/c%3A/Users/LR/Desktop/cs175-project/phase2.ipynb#X33sZmlsZQ%3D%3D?line=3'>4</a>\u001b[0m     \u001b[39mprint\u001b[39m(\u001b[39m'\u001b[39m\u001b[39m accuracy:\u001b[39m\u001b[39m'\u001b[39m,\u001b[39mformat\u001b[39m( \u001b[39m100\u001b[39m\u001b[39m*\u001b[39mtrain_accuracy , \u001b[39m'\u001b[39m\u001b[39m.2f\u001b[39m\u001b[39m'\u001b[39m) ) \n",
      "\u001b[1;32mc:\\Users\\LR\\Desktop\\cs175-project\\phase2.ipynb Cell 25\u001b[0m in \u001b[0;36mRNN.score\u001b[1;34m(self, X, Y)\u001b[0m\n\u001b[0;32m     <a href='vscode-notebook-cell:/c%3A/Users/LR/Desktop/cs175-project/phase2.ipynb#X33sZmlsZQ%3D%3D?line=65'>66</a>\u001b[0m song \u001b[39m=\u001b[39m X[i]\n\u001b[0;32m     <a href='vscode-notebook-cell:/c%3A/Users/LR/Desktop/cs175-project/phase2.ipynb#X33sZmlsZQ%3D%3D?line=66'>67</a>\u001b[0m genre \u001b[39m=\u001b[39m Y[i]\n\u001b[1;32m---> <a href='vscode-notebook-cell:/c%3A/Users/LR/Desktop/cs175-project/phase2.ipynb#X33sZmlsZQ%3D%3D?line=67'>68</a>\u001b[0m prediction \u001b[39m=\u001b[39m \u001b[39mself\u001b[39;49m\u001b[39m.\u001b[39;49mpredict(song)\n\u001b[0;32m     <a href='vscode-notebook-cell:/c%3A/Users/LR/Desktop/cs175-project/phase2.ipynb#X33sZmlsZQ%3D%3D?line=68'>69</a>\u001b[0m total_accuracy \u001b[39m+\u001b[39m\u001b[39m=\u001b[39m genre \u001b[39m==\u001b[39m prediction\n\u001b[0;32m     <a href='vscode-notebook-cell:/c%3A/Users/LR/Desktop/cs175-project/phase2.ipynb#X33sZmlsZQ%3D%3D?line=69'>70</a>\u001b[0m \u001b[39mif\u001b[39;00m i \u001b[39m%\u001b[39m \u001b[39m100\u001b[39m \u001b[39m==\u001b[39m \u001b[39m0\u001b[39m:\n",
      "\u001b[1;32mc:\\Users\\LR\\Desktop\\cs175-project\\phase2.ipynb Cell 25\u001b[0m in \u001b[0;36mRNN.predict\u001b[1;34m(self, song)\u001b[0m\n\u001b[0;32m     <a href='vscode-notebook-cell:/c%3A/Users/LR/Desktop/cs175-project/phase2.ipynb#X33sZmlsZQ%3D%3D?line=57'>58</a>\u001b[0m song_tensor \u001b[39m=\u001b[39m torch\u001b[39m.\u001b[39mtensor(np\u001b[39m.\u001b[39mexpand_dims(song_embedding, axis\u001b[39m=\u001b[39m\u001b[39m1\u001b[39m), dtype\u001b[39m=\u001b[39mtorch\u001b[39m.\u001b[39mfloat)\u001b[39m.\u001b[39mdetach()\n\u001b[0;32m     <a href='vscode-notebook-cell:/c%3A/Users/LR/Desktop/cs175-project/phase2.ipynb#X33sZmlsZQ%3D%3D?line=58'>59</a>\u001b[0m \u001b[39mfor\u001b[39;00m j \u001b[39min\u001b[39;00m \u001b[39mrange\u001b[39m(song_tensor\u001b[39m.\u001b[39msize()[\u001b[39m0\u001b[39m]):\n\u001b[1;32m---> <a href='vscode-notebook-cell:/c%3A/Users/LR/Desktop/cs175-project/phase2.ipynb#X33sZmlsZQ%3D%3D?line=59'>60</a>\u001b[0m     output, hidden \u001b[39m=\u001b[39m \u001b[39mself\u001b[39;49m\u001b[39m.\u001b[39;49mforward(song_tensor[j], hidden\u001b[39m.\u001b[39;49mdetach())\n\u001b[0;32m     <a href='vscode-notebook-cell:/c%3A/Users/LR/Desktop/cs175-project/phase2.ipynb#X33sZmlsZQ%3D%3D?line=60'>61</a>\u001b[0m \u001b[39mreturn\u001b[39;00m output\u001b[39m.\u001b[39mtopk(\u001b[39m1\u001b[39m)[\u001b[39m1\u001b[39m]\n",
      "\u001b[1;32mc:\\Users\\LR\\Desktop\\cs175-project\\phase2.ipynb Cell 25\u001b[0m in \u001b[0;36mRNN.forward\u001b[1;34m(self, input_, hidden)\u001b[0m\n\u001b[0;32m     <a href='vscode-notebook-cell:/c%3A/Users/LR/Desktop/cs175-project/phase2.ipynb#X33sZmlsZQ%3D%3D?line=22'>23</a>\u001b[0m \u001b[39mdef\u001b[39;00m \u001b[39mforward\u001b[39m(\u001b[39mself\u001b[39m, input_, hidden):\n\u001b[0;32m     <a href='vscode-notebook-cell:/c%3A/Users/LR/Desktop/cs175-project/phase2.ipynb#X33sZmlsZQ%3D%3D?line=23'>24</a>\u001b[0m     \u001b[39m# Put the computation for forward pass here\u001b[39;00m\n\u001b[1;32m---> <a href='vscode-notebook-cell:/c%3A/Users/LR/Desktop/cs175-project/phase2.ipynb#X33sZmlsZQ%3D%3D?line=24'>25</a>\u001b[0m     combined \u001b[39m=\u001b[39m torch\u001b[39m.\u001b[39;49mcat((input_, hidden), \u001b[39m1\u001b[39;49m) \u001b[39m# concatenate the input and hidden layers\u001b[39;00m\n\u001b[0;32m     <a href='vscode-notebook-cell:/c%3A/Users/LR/Desktop/cs175-project/phase2.ipynb#X33sZmlsZQ%3D%3D?line=25'>26</a>\u001b[0m     output \u001b[39m=\u001b[39m \u001b[39mself\u001b[39m\u001b[39m.\u001b[39moutput_layer(combined) \u001b[39m# compute the output\u001b[39;00m\n\u001b[0;32m     <a href='vscode-notebook-cell:/c%3A/Users/LR/Desktop/cs175-project/phase2.ipynb#X33sZmlsZQ%3D%3D?line=26'>27</a>\u001b[0m     output \u001b[39m=\u001b[39m \u001b[39mself\u001b[39m\u001b[39m.\u001b[39msoftmax(output) \u001b[39m# apply softmax\u001b[39;00m\n",
      "\u001b[1;31mKeyboardInterrupt\u001b[0m: "
     ]
    }
   ],
   "source": [
    "\n",
    "def evaluate_model_rnn(model, X_train, Y_train, X_test, Y_test):\n",
    "    train_accuracy = model.score(X_train, Y_train)\n",
    "    print('\\nTraining:')\n",
    "    print(' accuracy:',format( 100*train_accuracy , '.2f') ) \n",
    "\n",
    "    # Compute and print accuracy on the test data\n",
    "    print('\\nTesting: ')\n",
    "    test_accuracy = model.score(X_test, Y_test)\n",
    "    print(' accuracy:', format( 100*test_accuracy , '.2f') )\n",
    "\n",
    "evaluate_model_rnn(model_rnn, X_vec_train, Y_vec_train, X_vec_test, Y_vec_test)"
   ]
  },
  {
   "cell_type": "code",
   "execution_count": null,
   "metadata": {},
   "outputs": [
    {
     "data": {
      "text/plain": [
       "tensor(0.1117)"
      ]
     },
     "execution_count": 17,
     "metadata": {},
     "output_type": "execute_result"
    }
   ],
   "source": [
    "torch.sum(model_rnn.predictions == model_rnn.actuals) / len(X_vec_train)"
   ]
  },
  {
   "cell_type": "markdown",
   "metadata": {},
   "source": [
    "# Comparing the Models"
   ]
  },
  {
   "cell_type": "markdown",
   "metadata": {},
   "source": [
    "Comparing the results of Logistic Regression on BOW, Neural Network on BOW, Deep Neural Neural Network on BOW, and RNN on Word Embeddings:"
   ]
  },
  {
   "cell_type": "code",
   "execution_count": null,
   "metadata": {},
   "outputs": [],
   "source": []
  }
 ],
 "metadata": {
  "kernelspec": {
   "display_name": "Python 3.8.1 ('venv': venv)",
   "language": "python",
   "name": "python3"
  },
  "language_info": {
   "codemirror_mode": {
    "name": "ipython",
    "version": 3
   },
   "file_extension": ".py",
   "mimetype": "text/x-python",
   "name": "python",
   "nbconvert_exporter": "python",
   "pygments_lexer": "ipython3",
   "version": "3.8.1"
  },
  "orig_nbformat": 4,
  "vscode": {
   "interpreter": {
    "hash": "2d91680dd8aaf425b34c807ee72880201fd207e48221c2096e3a1303a17dca2b"
   }
  }
 },
 "nbformat": 4,
 "nbformat_minor": 2
}
