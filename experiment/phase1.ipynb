{
 "cells": [
  {
   "cell_type": "markdown",
   "metadata": {},
   "source": [
    "# CS Project 175 Phase 1"
   ]
  },
  {
   "cell_type": "code",
   "execution_count": 1,
   "metadata": {},
   "outputs": [
    {
     "name": "stdout",
     "output_type": "stream",
     "text": [
      "Requirement already satisfied: pandas in c:\\users\\ajiev\\cs175-project\\venv\\lib\\site-packages (1.5.1)"
     ]
    },
    {
     "name": "stderr",
     "output_type": "stream",
     "text": [
      "WARNING: You are using pip version 19.2.3, however version 22.3.1 is available.\n",
      "You should consider upgrading via the 'python -m pip install --upgrade pip' command.\n"
     ]
    },
    {
     "name": "stdout",
     "output_type": "stream",
     "text": [
      "\n",
      "Requirement already satisfied: python-dateutil>=2.8.1 in c:\\users\\ajiev\\cs175-project\\venv\\lib\\site-packages (from pandas) (2.8.2)\n",
      "Requirement already satisfied: numpy>=1.20.3; python_version < \"3.10\" in c:\\users\\ajiev\\cs175-project\\venv\\lib\\site-packages (from pandas) (1.23.4)\n",
      "Requirement already satisfied: pytz>=2020.1 in c:\\users\\ajiev\\cs175-project\\venv\\lib\\site-packages (from pandas) (2022.5)\n",
      "Requirement already satisfied: six>=1.5 in c:\\users\\ajiev\\cs175-project\\venv\\lib\\site-packages (from python-dateutil>=2.8.1->pandas) (1.16.0)\n",
      "Requirement already satisfied: scikit-learn in c:\\users\\ajiev\\cs175-project\\venv\\lib\\site-packages (1.1.2)\n",
      "Requirement already satisfied: joblib>=1.0.0 in c:\\users\\ajiev\\cs175-project\\venv\\lib\\site-packages (from scikit-learn) (1.2.0)\n",
      "Requirement already satisfied: numpy>=1.17.3 in c:\\users\\ajiev\\cs175-project\\venv\\lib\\site-packages (from scikit-learn) (1.23.4)\n",
      "Requirement already satisfied: threadpoolctl>=2.0.0 in c:\\users\\ajiev\\cs175-project\\venv\\lib\\site-packages (from scikit-learn) (3.1.0)\n",
      "Requirement already satisfied: scipy>=1.3.2 in c:\\users\\ajiev\\cs175-project\\venv\\lib\\site-packages (from scikit-learn) (1.9.3)\n"
     ]
    },
    {
     "name": "stderr",
     "output_type": "stream",
     "text": [
      "WARNING: You are using pip version 19.2.3, however version 22.3.1 is available.\n",
      "You should consider upgrading via the 'python -m pip install --upgrade pip' command.\n",
      "WARNING: You are using pip version 19.2.3, however version 22.3.1 is available.\n",
      "You should consider upgrading via the 'python -m pip install --upgrade pip' command.\n"
     ]
    },
    {
     "name": "stdout",
     "output_type": "stream",
     "text": [
      "Requirement already satisfied: matplotlib in c:\\users\\ajiev\\cs175-project\\venv\\lib\\site-packages (3.6.2)\n",
      "Requirement already satisfied: pillow>=6.2.0 in c:\\users\\ajiev\\cs175-project\\venv\\lib\\site-packages (from matplotlib) (9.2.0)\n",
      "Requirement already satisfied: cycler>=0.10 in c:\\users\\ajiev\\cs175-project\\venv\\lib\\site-packages (from matplotlib) (0.11.0)\n",
      "Requirement already satisfied: pyparsing>=2.2.1 in c:\\users\\ajiev\\cs175-project\\venv\\lib\\site-packages (from matplotlib) (3.0.9)\n",
      "Requirement already satisfied: fonttools>=4.22.0 in c:\\users\\ajiev\\cs175-project\\venv\\lib\\site-packages (from matplotlib) (4.37.4)\n",
      "Requirement already satisfied: numpy>=1.19 in c:\\users\\ajiev\\cs175-project\\venv\\lib\\site-packages (from matplotlib) (1.23.4)\n",
      "Requirement already satisfied: packaging>=20.0 in c:\\users\\ajiev\\cs175-project\\venv\\lib\\site-packages (from matplotlib) (21.3)\n",
      "Requirement already satisfied: python-dateutil>=2.7 in c:\\users\\ajiev\\cs175-project\\venv\\lib\\site-packages (from matplotlib) (2.8.2)\n",
      "Requirement already satisfied: kiwisolver>=1.0.1 in c:\\users\\ajiev\\cs175-project\\venv\\lib\\site-packages (from matplotlib) (1.4.4)\n",
      "Requirement already satisfied: contourpy>=1.0.1 in c:\\users\\ajiev\\cs175-project\\venv\\lib\\site-packages (from matplotlib) (1.0.5)\n",
      "Requirement already satisfied: six>=1.5 in c:\\users\\ajiev\\cs175-project\\venv\\lib\\site-packages (from python-dateutil>=2.7->matplotlib) (1.16.0)\n",
      "Requirement already satisfied: seaborn in c:\\users\\ajiev\\cs175-project\\venv\\lib\\site-packages (0.12.1)\n",
      "Requirement already satisfied: numpy>=1.17 in c:\\users\\ajiev\\cs175-project\\venv\\lib\\site-packages (from seaborn) (1.23.4)\n",
      "Requirement already satisfied: pandas>=0.25 in c:\\users\\ajiev\\cs175-project\\venv\\lib\\site-packages (from seaborn) (1.5.1)\n",
      "Requirement already satisfied: matplotlib!=3.6.1,>=3.1 in c:\\users\\ajiev\\cs175-project\\venv\\lib\\site-packages (from seaborn) (3.6.2)\n",
      "Requirement already satisfied: python-dateutil>=2.8.1 in c:\\users\\ajiev\\cs175-project\\venv\\lib\\site-packages (from pandas>=0.25->seaborn) (2.8.2)\n",
      "Requirement already satisfied: pytz>=2020.1 in c:\\users\\ajiev\\cs175-project\\venv\\lib\\site-packages (from pandas>=0.25->seaborn) (2022.5)\n",
      "Requirement already satisfied: pyparsing>=2.2.1 in c:\\users\\ajiev\\cs175-project\\venv\\lib\\site-packages (from matplotlib!=3.6.1,>=3.1->seaborn) (3.0.9)\n",
      "Requirement already satisfied: fonttools>=4.22.0 in c:\\users\\ajiev\\cs175-project\\venv\\lib\\site-packages (from matplotlib!=3.6.1,>=3.1->seaborn) (4.37.4)\n",
      "Requirement already satisfied: contourpy>=1.0.1 in c:\\users\\ajiev\\cs175-project\\venv\\lib\\site-packages (from matplotlib!=3.6.1,>=3.1->seaborn) (1.0.5)\n",
      "Requirement already satisfied: pillow>=6.2.0 in c:\\users\\ajiev\\cs175-project\\venv\\lib\\site-packages (from matplotlib!=3.6.1,>=3.1->seaborn) (9.2.0)\n",
      "Requirement already satisfied: kiwisolver>=1.0.1 in c:\\users\\ajiev\\cs175-project\\venv\\lib\\site-packages (from matplotlib!=3.6.1,>=3.1->seaborn) (1.4.4)\n",
      "Requirement already satisfied: cycler>=0.10 in c:\\users\\ajiev\\cs175-project\\venv\\lib\\site-packages (from matplotlib!=3.6.1,>=3.1->seaborn) (0.11.0)\n",
      "Requirement already satisfied: packaging>=20.0 in c:\\users\\ajiev\\cs175-project\\venv\\lib\\site-packages (from matplotlib!=3.6.1,>=3.1->seaborn) (21.3)\n",
      "Requirement already satisfied: six>=1.5 in c:\\users\\ajiev\\cs175-project\\venv\\lib\\site-packages (from python-dateutil>=2.8.1->pandas>=0.25->seaborn) (1.16.0)\n"
     ]
    },
    {
     "name": "stderr",
     "output_type": "stream",
     "text": [
      "WARNING: You are using pip version 19.2.3, however version 22.3.1 is available.\n",
      "You should consider upgrading via the 'python -m pip install --upgrade pip' command.\n"
     ]
    },
    {
     "name": "stdout",
     "output_type": "stream",
     "text": [
      "Requirement already satisfied: nltk in c:\\users\\ajiev\\cs175-project\\venv\\lib\\site-packages (3.7)\n",
      "Requirement already satisfied: click in c:\\users\\ajiev\\cs175-project\\venv\\lib\\site-packages (from nltk) (8.1.3)\n",
      "Requirement already satisfied: regex>=2021.8.3 in c:\\users\\ajiev\\cs175-project\\venv\\lib\\site-packages (from nltk) (2022.9.13)\n",
      "Requirement already satisfied: joblib in c:\\users\\ajiev\\cs175-project\\venv\\lib\\site-packages (from nltk) (1.2.0)\n",
      "Requirement already satisfied: tqdm in c:\\users\\ajiev\\cs175-project\\venv\\lib\\site-packages (from nltk) (4.64.1)\n",
      "Requirement already satisfied: colorama; platform_system == \"Windows\" in c:\\users\\ajiev\\cs175-project\\venv\\lib\\site-packages (from click->nltk) (0.4.5)\n"
     ]
    },
    {
     "name": "stderr",
     "output_type": "stream",
     "text": [
      "WARNING: You are using pip version 19.2.3, however version 22.3.1 is available.\n",
      "You should consider upgrading via the 'python -m pip install --upgrade pip' command.\n"
     ]
    }
   ],
   "source": [
    "!pip install pandas\n",
    "!pip install scikit-learn\n",
    "!pip install matplotlib\n",
    "!pip install seaborn\n",
    "!pip install nltk"
   ]
  },
  {
   "cell_type": "code",
   "execution_count": 2,
   "metadata": {},
   "outputs": [],
   "source": [
    "import pandas as pd\n",
    "import numpy as np\n",
    "\n",
    "from nltk import word_tokenize\n",
    "from sklearn.feature_extraction.text import CountVectorizer\n",
    "from sklearn.model_selection import train_test_split\n",
    "from sklearn import linear_model \n",
    "from sklearn import metrics \n",
    "from sklearn import preprocessing\n",
    "\n",
    "import seaborn"
   ]
  },
  {
   "cell_type": "markdown",
   "metadata": {},
   "source": [
    "# Analyzing the Data"
   ]
  },
  {
   "cell_type": "code",
   "execution_count": 3,
   "metadata": {},
   "outputs": [
    {
     "data": {
      "text/html": [
       "<div>\n",
       "<style scoped>\n",
       "    .dataframe tbody tr th:only-of-type {\n",
       "        vertical-align: middle;\n",
       "    }\n",
       "\n",
       "    .dataframe tbody tr th {\n",
       "        vertical-align: top;\n",
       "    }\n",
       "\n",
       "    .dataframe thead th {\n",
       "        text-align: right;\n",
       "    }\n",
       "</style>\n",
       "<table border=\"1\" class=\"dataframe\">\n",
       "  <thead>\n",
       "    <tr style=\"text-align: right;\">\n",
       "      <th></th>\n",
       "      <th>title</th>\n",
       "      <th>genre</th>\n",
       "      <th>lyrics</th>\n",
       "    </tr>\n",
       "  </thead>\n",
       "  <tbody>\n",
       "    <tr>\n",
       "      <th>0</th>\n",
       "      <td>the number of the beast</td>\n",
       "      <td>metal</td>\n",
       "      <td>woe to you o'er earth and sea\\r\\nfor the devil...</td>\n",
       "    </tr>\n",
       "    <tr>\n",
       "      <th>1</th>\n",
       "      <td>fear of the dark</td>\n",
       "      <td>metal</td>\n",
       "      <td>i am a man who walks alone\\r\\nand when i'm wal...</td>\n",
       "    </tr>\n",
       "    <tr>\n",
       "      <th>2</th>\n",
       "      <td>the trooper</td>\n",
       "      <td>metal</td>\n",
       "      <td>you'll take my life but i'll take yours too\\r\\...</td>\n",
       "    </tr>\n",
       "    <tr>\n",
       "      <th>3</th>\n",
       "      <td>hallowed be thy name</td>\n",
       "      <td>metal</td>\n",
       "      <td>i'm waiting in my cold cell when the bell begi...</td>\n",
       "    </tr>\n",
       "    <tr>\n",
       "      <th>4</th>\n",
       "      <td>run to the hills</td>\n",
       "      <td>metal</td>\n",
       "      <td>white man came across the sea\\r\\nhe brought us...</td>\n",
       "    </tr>\n",
       "  </tbody>\n",
       "</table>\n",
       "</div>"
      ],
      "text/plain": [
       "                     title  genre  \\\n",
       "0  the number of the beast  metal   \n",
       "1         fear of the dark  metal   \n",
       "2              the trooper  metal   \n",
       "3     hallowed be thy name  metal   \n",
       "4         run to the hills  metal   \n",
       "\n",
       "                                              lyrics  \n",
       "0  woe to you o'er earth and sea\\r\\nfor the devil...  \n",
       "1  i am a man who walks alone\\r\\nand when i'm wal...  \n",
       "2  you'll take my life but i'll take yours too\\r\\...  \n",
       "3  i'm waiting in my cold cell when the bell begi...  \n",
       "4  white man came across the sea\\r\\nhe brought us...  "
      ]
     },
     "execution_count": 3,
     "metadata": {},
     "output_type": "execute_result"
    }
   ],
   "source": [
    "data = pd.read_csv('../data/data.csv')\n",
    "del data['Unnamed: 0']\n",
    "data.head()"
   ]
  },
  {
   "cell_type": "code",
   "execution_count": 4,
   "metadata": {},
   "outputs": [
    {
     "name": "stdout",
     "output_type": "stream",
     "text": [
      "Num of rows 40536\n",
      "biggest class:  27874\n",
      "smallest class:  12662\n"
     ]
    },
    {
     "data": {
      "image/png": "[encoded data removed]",
      "text/plain": [
       "<Figure size 640x480 with 1 Axes>"
      ]
     },
     "metadata": {},
     "output_type": "display_data"
    }
   ],
   "source": [
    "# plot labels\n",
    "print('Num of rows', len(data))\n",
    "seaborn.countplot(data, x='genre')\n",
    "print('biggest class: ', (data['genre'] == data['genre'].value_counts().idxmax()).sum())\n",
    "print('smallest class: ', (data['genre'] == data['genre'].value_counts().idxmin()).sum())\n"
   ]
  },
  {
   "cell_type": "markdown",
   "metadata": {},
   "source": [
    "## Building the Pipeline"
   ]
  },
  {
   "cell_type": "code",
   "execution_count": 13,
   "metadata": {},
   "outputs": [],
   "source": [
    "RANDOM_STATE = 42\n",
    "\n",
    "def gather_data():\n",
    "    data = pd.read_csv('../data/data.csv')\n",
    "    return data['lyrics'], data['genre']\n",
    "\n",
    "def vectorize_labels(labels, classes=None):\n",
    "    '''\n",
    "    Vectorizes the labels.\n",
    "    Returns as (indexes, labels)\n",
    "    '''\n",
    "    if classes is None:\n",
    "        return pd.factorize(labels)\n",
    "    return pd.Categorical(labels, categories=classes).codes, classes\n",
    "\n",
    "def features_bow(data):\n",
    "    vectorizer = CountVectorizer(stop_words='english', min_df=0.01, ngram_range=(1, 2))\n",
    "    text = data.to_list()\n",
    "    X = vectorizer.fit_transform(text)\n",
    "    return X, vectorizer\n",
    "\n",
    "def train_model_logistic(X, Y):\n",
    "    classifier = linear_model.LogisticRegression(penalty='l2', multi_class='multinomial', random_state=RANDOM_STATE, fit_intercept=True)\n",
    "    classifier.fit(X, Y)\n",
    "    return classifier\n",
    "\n",
    "def evaluate_logistic_model(model, X_train, Y_train, X_test, Y_test):\n",
    "    train_accuracy = model.score(X_train, Y_train)\n",
    "    print('\\nTraining:')\n",
    "    print(' accuracy:',format( 100*train_accuracy , '.2f') ) \n",
    "\n",
    "    # Compute and print accuracy on the test data\n",
    "    print('\\nTesting: ')\n",
    "    test_accuracy = model.score(X_test, Y_test)\n",
    "    print(' accuracy:', format( 100*test_accuracy , '.2f') )\n",
    "\n",
    "    # Compute and print AUC on the test data\n",
    "    class_probabilities = model.predict_proba(X_test)[:, 1]\n",
    "    test_auc_score = metrics.roc_auc_score(Y_test, class_probabilities)\n",
    "    print(' AUC value:', format( 100*test_auc_score , '.2f') )"
   ]
  },
  {
   "cell_type": "markdown",
   "metadata": {},
   "source": [
    "## Executing the Pipeline"
   ]
  },
  {
   "cell_type": "code",
   "execution_count": 6,
   "metadata": {},
   "outputs": [],
   "source": [
    "# Phase 1 pipeline\n",
    "inputs, labels = gather_data()\n"
   ]
  },
  {
   "cell_type": "code",
   "execution_count": 7,
   "metadata": {},
   "outputs": [],
   "source": [
    "# convert to features\n",
    "Y, classes = vectorize_labels(labels)\n",
    "X, vectorizer = features_bow(inputs)"
   ]
  },
  {
   "cell_type": "code",
   "execution_count": 8,
   "metadata": {},
   "outputs": [],
   "source": [
    "# split into training and test\n",
    "X_train, X_test, Y_train, Y_test = train_test_split(X, Y, test_size = 0.2, random_state=RANDOM_STATE)"
   ]
  },
  {
   "cell_type": "code",
   "execution_count": 9,
   "metadata": {},
   "outputs": [
    {
     "name": "stderr",
     "output_type": "stream",
     "text": [
      "c:\\Users\\ajiev\\cs175-project\\venv\\lib\\site-packages\\sklearn\\linear_model\\_logistic.py:444: ConvergenceWarning: lbfgs failed to converge (status=1):\n",
      "STOP: TOTAL NO. of ITERATIONS REACHED LIMIT.\n",
      "\n",
      "Increase the number of iterations (max_iter) or scale the data as shown in:\n",
      "    https://scikit-learn.org/stable/modules/preprocessing.html\n",
      "Please also refer to the documentation for alternative solver options:\n",
      "    https://scikit-learn.org/stable/modules/linear_model.html#logistic-regression\n",
      "  n_iter_i = _check_optimize_result(\n"
     ]
    }
   ],
   "source": [
    "# train model\n",
    "model = train_model_logistic(X_train, Y_train)"
   ]
  },
  {
   "cell_type": "markdown",
   "metadata": {},
   "source": [
    "## Evaluating the Model"
   ]
  },
  {
   "cell_type": "code",
   "execution_count": 14,
   "metadata": {},
   "outputs": [
    {
     "name": "stdout",
     "output_type": "stream",
     "text": [
      "\n",
      "Training:\n",
      " accuracy: 85.26\n",
      "\n",
      "Testing: \n",
      " accuracy: 83.73\n",
      " AUC value: 89.91\n"
     ]
    }
   ],
   "source": [
    "evaluate_logistic_model(model, X_train, Y_train, X_test, Y_test)"
   ]
  },
  {
   "cell_type": "code",
   "execution_count": 27,
   "metadata": {},
   "outputs": [],
   "source": [
    "def most_significant_terms(weights, vectorizer, K):\n",
    "    pos_indices = np.argpartition(weights, -K)[-K:] # gather the K most positive indices\n",
    "    pos_indices = pos_indices[np.argsort(-weights[pos_indices])] # sort the indices\n",
    "\n",
    "    neg_indices = np.argpartition(weights, K)[:K] # gather the K most negative indices\n",
    "    neg_indices = neg_indices[np.argsort(weights[neg_indices])] # sort the indices\n",
    "\n",
    "    topK_pos_weights = weights[pos_indices]\n",
    "    topK_neg_weights = weights[neg_indices]\n",
    "\n",
    "    # gather the associated terms\n",
    "    terms = vectorizer.get_feature_names_out()\n",
    "    topK_pos_terms = terms[pos_indices]\n",
    "    topK_neg_terms = terms[neg_indices]\n",
    "        \n",
    "    print('Most Significant Terms for Class: \"folk\"')\n",
    "    for i in range(len(topK_pos_weights)):\n",
    "        print(format(topK_pos_weights[i], '.3f'), topK_pos_terms[i])\n",
    "    \n",
    "    print('Most Significant Terms for Class: \"metal\"')\n",
    "    for i in range(len(topK_neg_weights)):\n",
    "        print(format(topK_neg_weights[i]*-1, '.3f'), topK_neg_terms[i])\n",
    "\n"
   ]
  },
  {
   "cell_type": "code",
   "execution_count": 23,
   "metadata": {},
   "outputs": [
    {
     "data": {
      "text/plain": [
       "Index(['metal', 'folk'], dtype='object')"
      ]
     },
     "execution_count": 23,
     "metadata": {},
     "output_type": "execute_result"
    }
   ],
   "source": [
    "classes"
   ]
  },
  {
   "cell_type": "code",
   "execution_count": 28,
   "metadata": {},
   "outputs": [
    {
     "name": "stdout",
     "output_type": "stream",
     "text": [
      "Most Significant Terms for Class: \"folk\"\n",
      "0.346 soft\n",
      "0.310 wife\n",
      "0.305 grown\n",
      "0.253 clothes\n",
      "0.251 flowers\n",
      "Most Significant Terms for Class: \"metal\"\n",
      "0.667 eternal\n",
      "0.560 fuck\n",
      "0.522 fucking\n",
      "0.487 check\n",
      "0.472 fuckin\n",
      "\n"
     ]
    }
   ],
   "source": [
    "most_significant_terms(model.coef_[0], vectorizer, 5)\n",
    "print()"
   ]
  },
  {
   "cell_type": "code",
   "execution_count": 29,
   "metadata": {},
   "outputs": [
    {
     "name": "stdout",
     "output_type": "stream",
     "text": [
      "Song Title: abuse part 2 confessions\n",
      "Predicted: folk Actual: metal\n",
      "Probability: 0.7118007779966572\n",
      "Lyrics: \n",
      "\" i was babysitting my little cousin and his father has these this little stash of these little women...\"\n",
      "\n",
      "Song Title: house of pain demo\n",
      "Predicted: folk Actual: metal\n",
      "Probability: 0.645859633745129\n",
      "Lyrics: \n",
      "\"say you're gonna leave me\n",
      "'cause i only tie you up\n",
      "i always love you tender\n",
      "but you only like it ...\"\n",
      "\n",
      "Song Title: suffer the little children\n",
      "Predicted: folk Actual: metal\n",
      "Probability: 0.911704300049998\n",
      "Lyrics: \n",
      "\"school bell go ding! dong! ding!\n",
      "the children all line up\n",
      "they do what they are told\n",
      "take a littl...\"\n",
      "\n",
      "Song Title: rock and roll nigger\n",
      "Predicted: metal Actual: folk\n",
      "Probability: 0.691497479798753\n",
      "Lyrics: \n",
      "\"and love spreads its legs\n",
      "and the world spreads its legs\n",
      "for another fuckin' star\n",
      "'cause i am the...\"\n",
      "\n",
      "Song Title: glamorous girls\n",
      "Predicted: metal Actual: folk\n",
      "Probability: 0.5593424265098335\n",
      "Lyrics: \n",
      "\"oh whoa na na na na na na na\n",
      "\n",
      "i want bring these girls backstage\n",
      "and maybe to my house\n",
      "i want to...\"\n",
      "\n",
      "Song Title: something wicked part 1\n",
      "Predicted: folk Actual: metal\n",
      "Probability: 0.6139632313030966\n",
      "Lyrics: \n",
      "\"i can see clearly now\n",
      "a painful vision indeed\n",
      "an attempt at genocide\n",
      "twelve thousand years of pai...\"\n",
      "\n",
      "Song Title: never satisfied\n",
      "Predicted: folk Actual: metal\n",
      "Probability: 0.6950009006412665\n",
      "Lyrics: \n",
      "\"where do we go from here\n",
      "there must be something near\n",
      "changing you changing me forever\n",
      "places cha...\"\n",
      "\n",
      "Song Title: here for you\n",
      "Predicted: metal Actual: folk\n",
      "Probability: 0.5360212245377808\n",
      "Lyrics: \n",
      "\"i remember all the good times\n",
      "sometimes i'd wonder would it last\n",
      "...\"ed to dream about the future\n",
      "\n",
      "Song Title: lavender\n",
      "Predicted: folk Actual: metal\n",
      "Probability: 0.7777607682980866\n",
      "Lyrics: \n",
      "\"they were taking small pains\n",
      "to not make him realize\n",
      "made him feel he's different\n",
      "through and thr...\"\n",
      "\n",
      "Song Title: never wrong\n",
      "Predicted: metal Actual: folk\n",
      "Probability: 0.9394612675120959\n",
      "Lyrics: \n",
      "\"you're never ever wrong no you're never wrong never wrong\n",
      "you're never ever wrong no you're never w...\"\n",
      "\n"
     ]
    }
   ],
   "source": [
    "\n",
    "predictions = model.predict(X_test)\n",
    "probabilities = model.predict_proba(X_test)\n",
    "\n",
    "np.random.seed(RANDOM_STATE)\n",
    "NUM_EXAMPLES = 10\n",
    "for _ in range(NUM_EXAMPLES):\n",
    "    i = np.random.choice(np.where(predictions != Y_test)[0])\n",
    "    print(\"Song Title:\", data['title'][i])\n",
    "    print('Predicted:', classes[predictions[i]], 'Actual:', classes[Y_test[i]])\n",
    "    print('Probability:', probabilities[i][predictions[i]])\n",
    "    print(\"Lyrics: \")\n",
    "    print('\"' + data['lyrics'][i][:100] + '...\"')\n",
    "    print()\n"
   ]
  },
  {
   "cell_type": "code",
   "execution_count": 30,
   "metadata": {},
   "outputs": [
    {
     "data": {
      "text/plain": [
       "<AxesSubplot: xlabel='genre', ylabel='count'>"
      ]
     },
     "execution_count": 30,
     "metadata": {},
     "output_type": "execute_result"
    },
    {
     "data": {
      "image/png": "[encoded data removed]",
      "text/plain": [
       "<Figure size 640x480 with 1 Axes>"
      ]
     },
     "metadata": {},
     "output_type": "display_data"
    }
   ],
   "source": [
    "# Plot predictions to see distribution and if there is bias\n",
    "test_predictions = [classes[i] for i in predictions]\n",
    "test_predictions_df = pd.DataFrame(data=test_predictions, columns=[\"genre\"])\n",
    "seaborn.countplot(test_predictions_df, x=\"genre\")"
   ]
  },
  {
   "cell_type": "code",
   "execution_count": 31,
   "metadata": {},
   "outputs": [
    {
     "data": {
      "text/plain": [
       "<AxesSubplot: xlabel='genre', ylabel='count'>"
      ]
     },
     "execution_count": 31,
     "metadata": {},
     "output_type": "execute_result"
    },
    {
     "data": {
      "image/png": "[encoded data removed]",
      "text/plain": [
       "<Figure size 640x480 with 1 Axes>"
      ]
     },
     "metadata": {},
     "output_type": "display_data"
    }
   ],
   "source": [
    "# Visualize the actual distribution of the test data\n",
    "test_actuals = [classes[i] for i in Y_test]\n",
    "seaborn.countplot(pd.DataFrame(data=test_actuals, columns=[\"genre\"]), x=\"genre\")"
   ]
  },
  {
   "cell_type": "markdown",
   "metadata": {},
   "source": [
    "## Fixing the Skew"
   ]
  },
  {
   "cell_type": "code",
   "execution_count": 32,
   "metadata": {},
   "outputs": [
    {
     "data": {
      "text/plain": [
       "12662"
      ]
     },
     "execution_count": 32,
     "metadata": {},
     "output_type": "execute_result"
    }
   ],
   "source": [
    "min(np.bincount(Y))"
   ]
  },
  {
   "cell_type": "code",
   "execution_count": 33,
   "metadata": {},
   "outputs": [],
   "source": [
    "from sklearn.utils import resample\n",
    "\n",
    "def undersample(X, Y):\n",
    "    return resample(X, Y, n_samples=min(np.bincount(Y)), random_state=RANDOM_STATE)\n",
    "\n",
    "def oversample(X, Y):\n",
    "    return resample(X, Y, n_samples=max(np.bincount(Y)), random_state=RANDOM_STATE)\n",
    "\n",
    "def midsample(X, Y):\n",
    "    return resample(X, Y, n_samples=(min(np.bincount(Y)) + max(np.bincount(Y))) // 2, random_state=RANDOM_STATE)"
   ]
  },
  {
   "cell_type": "code",
   "execution_count": 34,
   "metadata": {},
   "outputs": [
    {
     "name": "stdout",
     "output_type": "stream",
     "text": [
      "\n",
      "Training:\n",
      " accuracy: 88.94\n",
      "\n",
      "Testing: \n",
      " accuracy: 81.29\n",
      " AUC value: 87.13\n"
     ]
    },
    {
     "name": "stderr",
     "output_type": "stream",
     "text": [
      "c:\\Users\\ajiev\\cs175-project\\venv\\lib\\site-packages\\sklearn\\linear_model\\_logistic.py:444: ConvergenceWarning: lbfgs failed to converge (status=1):\n",
      "STOP: TOTAL NO. of ITERATIONS REACHED LIMIT.\n",
      "\n",
      "Increase the number of iterations (max_iter) or scale the data as shown in:\n",
      "    https://scikit-learn.org/stable/modules/preprocessing.html\n",
      "Please also refer to the documentation for alternative solver options:\n",
      "    https://scikit-learn.org/stable/modules/linear_model.html#logistic-regression\n",
      "  n_iter_i = _check_optimize_result(\n"
     ]
    }
   ],
   "source": [
    "undersampled_X_train, undersampled_Y_train = undersample(X_train, Y_train)\n",
    "# train model\n",
    "model = train_model_logistic(undersampled_X_train, undersampled_Y_train)\n",
    "## Evaluating the Model\n",
    "evaluate_logistic_model(model, undersampled_X_train, undersampled_Y_train, X_test, Y_test)"
   ]
  },
  {
   "cell_type": "code",
   "execution_count": 35,
   "metadata": {},
   "outputs": [
    {
     "name": "stdout",
     "output_type": "stream",
     "text": [
      "\n",
      "Training:\n",
      " accuracy: 86.79\n",
      "\n",
      "Testing: \n",
      " accuracy: 82.51\n",
      " AUC value: 88.39\n"
     ]
    },
    {
     "name": "stderr",
     "output_type": "stream",
     "text": [
      "c:\\Users\\ajiev\\cs175-project\\venv\\lib\\site-packages\\sklearn\\linear_model\\_logistic.py:444: ConvergenceWarning: lbfgs failed to converge (status=1):\n",
      "STOP: TOTAL NO. of ITERATIONS REACHED LIMIT.\n",
      "\n",
      "Increase the number of iterations (max_iter) or scale the data as shown in:\n",
      "    https://scikit-learn.org/stable/modules/preprocessing.html\n",
      "Please also refer to the documentation for alternative solver options:\n",
      "    https://scikit-learn.org/stable/modules/linear_model.html#logistic-regression\n",
      "  n_iter_i = _check_optimize_result(\n"
     ]
    }
   ],
   "source": [
    "oversampled_X_train, oversampled_Y_train = oversample(X_train, Y_train)\n",
    "# train model\n",
    "model = train_model_logistic(oversampled_X_train, oversampled_Y_train)\n",
    "## Evaluating the Model\n",
    "evaluate_logistic_model(model, oversampled_X_train, oversampled_Y_train, X_test, Y_test)"
   ]
  },
  {
   "cell_type": "code",
   "execution_count": 36,
   "metadata": {},
   "outputs": [
    {
     "name": "stdout",
     "output_type": "stream",
     "text": [
      "\n",
      "Training:\n",
      " accuracy: 87.39\n",
      "\n",
      "Testing: \n",
      " accuracy: 82.65\n",
      " AUC value: 88.25\n"
     ]
    },
    {
     "name": "stderr",
     "output_type": "stream",
     "text": [
      "c:\\Users\\ajiev\\cs175-project\\venv\\lib\\site-packages\\sklearn\\linear_model\\_logistic.py:444: ConvergenceWarning: lbfgs failed to converge (status=1):\n",
      "STOP: TOTAL NO. of ITERATIONS REACHED LIMIT.\n",
      "\n",
      "Increase the number of iterations (max_iter) or scale the data as shown in:\n",
      "    https://scikit-learn.org/stable/modules/preprocessing.html\n",
      "Please also refer to the documentation for alternative solver options:\n",
      "    https://scikit-learn.org/stable/modules/linear_model.html#logistic-regression\n",
      "  n_iter_i = _check_optimize_result(\n"
     ]
    }
   ],
   "source": [
    "midsampled_X_train, midsampled_Y_train = midsample(X_train, Y_train)\n",
    "# train model\n",
    "model = train_model_logistic(midsampled_X_train, midsampled_Y_train)\n",
    "## Evaluating the Model\n",
    "evaluate_logistic_model(model, midsampled_X_train, midsampled_Y_train, X_test, Y_test)"
   ]
  },
  {
   "cell_type": "code",
   "execution_count": null,
   "metadata": {},
   "outputs": [],
   "source": []
  }
 ],
 "metadata": {
  "kernelspec": {
   "display_name": "Python 3.8.1 ('venv': venv)",
   "language": "python",
   "name": "python3"
  },
  "language_info": {
   "codemirror_mode": {
    "name": "ipython",
    "version": 3
   },
   "file_extension": ".py",
   "mimetype": "text/x-python",
   "name": "python",
   "nbconvert_exporter": "python",
   "pygments_lexer": "ipython3",
   "version": "3.8.1"
  },
  "vscode": {
   "interpreter": {
    "hash": "2d91680dd8aaf425b34c807ee72880201fd207e48221c2096e3a1303a17dca2b"
   }
  }
 },
 "nbformat": 4,
 "nbformat_minor": 4
}
