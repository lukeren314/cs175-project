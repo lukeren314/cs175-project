{
 "cells": [
  {
   "cell_type": "markdown",
   "metadata": {},
   "source": [
    "# CS Project 175 Phase 2"
   ]
  },
  {
   "cell_type": "code",
   "execution_count": 16,
   "metadata": {},
   "outputs": [
    {
     "name": "stdout",
     "output_type": "stream",
     "text": [
      "Requirement already satisfied: gensim in c:\\users\\lr\\appdata\\local\\programs\\python\\python38\\lib\\site-packages (4.2.0)\n",
      "Requirement already satisfied: numpy>=1.17.0 in c:\\users\\lr\\appdata\\local\\programs\\python\\python38\\lib\\site-packages (from gensim) (1.23.4)\n",
      "Requirement already satisfied: Cython==0.29.28 in c:\\users\\lr\\appdata\\local\\programs\\python\\python38\\lib\\site-packages (from gensim) (0.29.28)\n",
      "Requirement already satisfied: scipy>=0.18.1 in c:\\users\\lr\\appdata\\local\\programs\\python\\python38\\lib\\site-packages (from gensim) (1.9.3)\n",
      "Requirement already satisfied: smart-open>=1.8.1 in c:\\users\\lr\\appdata\\local\\programs\\python\\python38\\lib\\site-packages (from gensim) (6.2.0)\n"
     ]
    },
    {
     "name": "stderr",
     "output_type": "stream",
     "text": [
      "WARNING: You are using pip version 20.2.1; however, version 22.3.1 is available.\n",
      "You should consider upgrading via the 'c:\\users\\lr\\appdata\\local\\programs\\python\\python38\\python.exe -m pip install --upgrade pip' command.\n"
     ]
    },
    {
     "name": "stdout",
     "output_type": "stream",
     "text": [
      "^C\n",
      "Requirement already satisfied: torch in c:\\users\\lr\\appdata\\local\\programs\\python\\python38\\lib\\site-packages (1.13.0)\n",
      "Requirement already satisfied: typing-extensions in c:\\users\\lr\\appdata\\local\\programs\\python\\python38\\lib\\site-packages (from torch) (4.0.1)\n"
     ]
    },
    {
     "name": "stderr",
     "output_type": "stream",
     "text": [
      "WARNING: You are using pip version 20.2.1; however, version 22.3.1 is available.\n",
      "You should consider upgrading via the 'c:\\users\\lr\\appdata\\local\\programs\\python\\python38\\python.exe -m pip install --upgrade pip' command.\n"
     ]
    },
    {
     "name": "stdout",
     "output_type": "stream",
     "text": [
      "Requirement already satisfied: torchmetrics in c:\\users\\lr\\appdata\\local\\programs\\python\\python38\\lib\\site-packages (0.10.2)\n",
      "Requirement already satisfied: typing-extensions; python_version < \"3.9\" in c:\\users\\lr\\appdata\\local\\programs\\python\\python38\\lib\\site-packages (from torchmetrics) (4.0.1)\n",
      "Requirement already satisfied: numpy>=1.17.2 in c:\\users\\lr\\appdata\\local\\programs\\python\\python38\\lib\\site-packages (from torchmetrics) (1.23.4)\n",
      "Requirement already satisfied: packaging in c:\\users\\lr\\appdata\\local\\programs\\python\\python38\\lib\\site-packages (from torchmetrics) (21.3)\n",
      "Requirement already satisfied: torch>=1.3.1 in c:\\users\\lr\\appdata\\local\\programs\\python\\python38\\lib\\site-packages (from torchmetrics) (1.13.0)\n",
      "Requirement already satisfied: pyparsing!=3.0.5,>=2.0.2 in c:\\users\\lr\\appdata\\local\\programs\\python\\python38\\lib\\site-packages (from packaging->torchmetrics) (3.0.6)\n"
     ]
    },
    {
     "name": "stderr",
     "output_type": "stream",
     "text": [
      "WARNING: You are using pip version 20.2.1; however, version 22.3.1 is available.\n",
      "You should consider upgrading via the 'c:\\users\\lr\\appdata\\local\\programs\\python\\python38\\python.exe -m pip install --upgrade pip' command.\n"
     ]
    }
   ],
   "source": [
    "!pip install gensim\n",
    "!pip install torch\n",
    "!pip install torchmetrics"
   ]
  },
  {
   "cell_type": "code",
   "execution_count": 1,
   "metadata": {},
   "outputs": [],
   "source": [
    "import pandas as pd\n",
    "import numpy as np\n",
    "\n",
    "from sklearn.feature_extraction.text import CountVectorizer\n",
    "from sklearn.model_selection import train_test_split\n",
    "from sklearn import linear_model \n",
    "from sklearn import metrics "
   ]
  },
  {
   "cell_type": "markdown",
   "metadata": {},
   "source": [
    "## Building the Pipeline"
   ]
  },
  {
   "cell_type": "code",
   "execution_count": 2,
   "metadata": {},
   "outputs": [],
   "source": [
    "RANDOM_STATE = 42\n",
    "\n",
    "def gather_data():\n",
    "    data = pd.read_csv('./data/data.csv')\n",
    "    return data['lyrics'], data['genre']\n",
    "\n",
    "def vectorize_labels(labels, classes=None):\n",
    "    '''\n",
    "    Vectorizes the labels.\n",
    "    Returns as (indexes, labels)\n",
    "    '''\n",
    "    if classes is None:\n",
    "        return pd.factorize(labels)\n",
    "    return pd.Categorical(labels, categories=classes).codes, classes\n",
    "\n",
    "\n",
    "# PHASE 1 START ----------------------------------------------------------------\n",
    "def features_bow(data):\n",
    "    vectorizer = CountVectorizer(stop_words='english', min_df=0.01, ngram_range=(1, 2))\n",
    "    text = data.to_list()\n",
    "    X = vectorizer.fit_transform(text)\n",
    "    return X, vectorizer\n",
    "\n",
    "def train_model_logistic(X, Y):\n",
    "    classifier = linear_model.LogisticRegression(penalty='l2', multi_class='multinomial', class_weight='balanced', random_state=RANDOM_STATE, fit_intercept=True)\n",
    "    classifier.fit(X, Y)\n",
    "    return classifier\n",
    "\n",
    "def evaluate_model_sklearn(model, X_train, Y_train, X_test, Y_test):\n",
    "    train_accuracy = model.score(X_train, Y_train)\n",
    "    print('\\nTraining:')\n",
    "    print(' accuracy:',format( 100*train_accuracy , '.2f') ) \n",
    "\n",
    "    # Compute and print accuracy on the test data\n",
    "    print('\\nTesting: ')\n",
    "    test_accuracy = model.score(X_test, Y_test)\n",
    "    print(' accuracy:', format( 100*test_accuracy , '.2f') )\n",
    "\n",
    "    # Compute and print AUC on the test data\n",
    "    class_probabilities = model.predict_proba(X_test)\n",
    "    test_auc_score = metrics.roc_auc_score(Y_test, class_probabilities, multi_class='ovo')\n",
    "    print(' AUC value:', format( 100*test_auc_score , '.2f') )\n",
    "\n",
    "def sample_incorrect_predictions(predictions, probabilities, actuals, classes, titles, lyrics):\n",
    "    np.random.seed(RANDOM_STATE)\n",
    "    NUM_EXAMPLES = 10\n",
    "    for _ in range(NUM_EXAMPLES):\n",
    "        i = np.random.choice(np.where(predictions != actuals)[0])\n",
    "        print(\"Song Title:\", titles[i])\n",
    "        print('Predicted:', classes[predictions[i]], 'Actual:', classes[actuals[i]])\n",
    "        print('Probability:', probabilities[i][predictions[i]])\n",
    "        print(\"Lyrics: \")\n",
    "        print('\"' + lyrics[i][:100] + '...\"')\n",
    "        print()\n",
    "\n",
    "# PHASE 1 END ------------------------------------------------------------------\n",
    "\n",
    "# Phase 2 separted into different blocks"
   ]
  },
  {
   "cell_type": "markdown",
   "metadata": {},
   "source": [
    "## Executing the Pipeline"
   ]
  },
  {
   "cell_type": "markdown",
   "metadata": {},
   "source": [
    "### MLP on BOW\n",
    "\n",
    "Let's start with the MLP classifier on BOW, then we'll try RNN on embeddings"
   ]
  },
  {
   "cell_type": "code",
   "execution_count": 3,
   "metadata": {},
   "outputs": [],
   "source": [
    "# Phase 2 pipeline\n",
    "inputs, labels = gather_data()"
   ]
  },
  {
   "cell_type": "code",
   "execution_count": 4,
   "metadata": {},
   "outputs": [],
   "source": [
    "# convert to classes\n",
    "Y, classes = vectorize_labels(labels)"
   ]
  },
  {
   "cell_type": "code",
   "execution_count": null,
   "metadata": {},
   "outputs": [],
   "source": [
    "# Let's try MLP on BOW first\n",
    "X_bow, vectorizer = features_bow(inputs)\n",
    "X_bow_train, X_bow_test, Y_bow_train, Y_bow_test = train_test_split(X_bow, Y, test_size=0.2, random_state=RANDOM_STATE)"
   ]
  },
  {
   "cell_type": "code",
   "execution_count": null,
   "metadata": {},
   "outputs": [],
   "source": [
    "\n",
    "from sklearn.neural_network import MLPClassifier\n",
    "from sklearn.model_selection import GridSearchCV\n",
    "\n",
    "def train_model_mlp(X, Y, hidden_layer_sizes=(100,), max_iter=200):\n",
    "    classifier = MLPClassifier(solver='lbfgs', hidden_layer_sizes=hidden_layer_sizes, max_iter=max_iter, random_state=RANDOM_STATE)\n",
    "    classifier.fit(X, Y)\n",
    "    return classifier\n",
    "    \n",
    "model_nn = train_model_mlp(X_bow_train, Y_bow_train)"
   ]
  },
  {
   "cell_type": "code",
   "execution_count": null,
   "metadata": {},
   "outputs": [],
   "source": [
    "# evaluate MLP on bow\n",
    "evaluate_model_sklearn(model_nn, X_bow_train, Y_bow_train, X_bow_test, Y_bow_test)"
   ]
  },
  {
   "cell_type": "markdown",
   "metadata": {},
   "source": [
    "### DNN on BOW"
   ]
  },
  {
   "cell_type": "code",
   "execution_count": null,
   "metadata": {},
   "outputs": [],
   "source": [
    "# 60.18 (100, 50, 50, 50, 50) \n",
    "# 60.21 (100, 100, 100, 100, 100) 3x longer to train\n",
    "# 79.61 60.32 (200, 200) 21m 49.5s\n",
    "# 76.09 60.66 (200, 100, 100, 100) 69m 21.4s\n",
    "# 84.28 60.76 (500, 100, 100, 100) 183m 23.2s\n",
    "# 89.32 61 (750, 250) 48m (on 6-core)\n",
    "# 89.76 61.85 82.00 (1000, 500) 57 min (on 6-core)\n",
    "model_dnn = train_model_mlp(X_bow_train, Y_bow_train, hidden_layer_sizes=(500, 100, 100, 100))\n",
    "evaluate_model_sklearn(model_dnn, X_bow_train, Y_bow_train, X_bow_test, Y_bow_test)"
   ]
  },
  {
   "cell_type": "code",
   "execution_count": null,
   "metadata": {},
   "outputs": [],
   "source": [
    "# Grid Search\n",
    "from sklearn.model_selection import GridSearchCV\n",
    "\n",
    "parameters = {\n",
    "    'hidden_layer_sizes':[(500, 500), (500, 250, 250)]\n",
    "}\n",
    "mlp = MLPClassifier(solver='lbfgs', random_state=RANDOM_STATE)\n",
    "clf = GridSearchCV(mlp, parameters, n_jobs=4)\n",
    "clf.fit(X_bow, Y)"
   ]
  },
  {
   "cell_type": "code",
   "execution_count": null,
   "metadata": {},
   "outputs": [],
   "source": [
    "print(clf.best_params_)\n",
    "print(clf.best_score_)"
   ]
  },
  {
   "cell_type": "markdown",
   "metadata": {},
   "source": [
    "### RNN on Embeddings\n",
    "\n",
    "Now we're gonna try RNN on embeddings"
   ]
  },
  {
   "cell_type": "code",
   "execution_count": 5,
   "metadata": {},
   "outputs": [],
   "source": [
    "X_str = inputs.tolist()"
   ]
  },
  {
   "cell_type": "code",
   "execution_count": 6,
   "metadata": {},
   "outputs": [
    {
     "name": "stdout",
     "output_type": "stream",
     "text": [
      "Found pre-trained embeddings, loading now...\n"
     ]
    }
   ],
   "source": [
    "\n",
    "from gensim.models import Word2Vec\n",
    "from gensim.models import KeyedVectors\n",
    "import os\n",
    "\n",
    "if not os.path.exists(\"word2vec.wordvectors\"):\n",
    "    print(\"Did not find pre-trained embeddings, training now...\")\n",
    "    model = Word2Vec(sentences=inputs.str.split(), vector_size=100, window=5, min_count=1, workers=4)\n",
    "    word_vectors = model.wv\n",
    "    word_vectors.save(\"word2vec.wordvectors\")\n",
    "else:\n",
    "    print(\"Found pre-trained embeddings, loading now...\")\n",
    "    word_vectors = KeyedVectors.load(\"word2vec.wordvectors\", mmap='r')"
   ]
  },
  {
   "cell_type": "code",
   "execution_count": 7,
   "metadata": {},
   "outputs": [],
   "source": [
    "# split into training and test\n",
    "X_vec_train, X_vec_test, Y_vec_train, Y_vec_test = train_test_split(X_str, Y, test_size = 0.2, random_state=RANDOM_STATE)"
   ]
  },
  {
   "cell_type": "code",
   "execution_count": 10,
   "metadata": {},
   "outputs": [],
   "source": [
    "\n",
    "def word2vec(tokens):\n",
    "    return np.array([word_vectors[word] for word in tokens if word in word_vectors])\n",
    "\n",
    "import torch\n",
    "import torch.nn as nn\n",
    "from torchmetrics import R2Score\n",
    "import torch.multiprocessing as mp\n",
    "torch.manual_seed(RANDOM_STATE)\n",
    "import gc\n",
    "\n",
    "# RNN code inspired from HW2\n",
    "class RNN(nn.Module):\n",
    "    def __init__(self, input_size, output_size, hidden_size, n_layers):\n",
    "        super(RNN, self).__init__()\n",
    "        self.hidden_size = hidden_size\n",
    "        self.n_layers = n_layers\n",
    "\n",
    "        # self.hidden_layers = [nn.Linear(input_size + hidden_size, hidden_size) for _ in range(n_layers)]\n",
    "        self.hidden_layer =  nn.Linear(input_size + hidden_size, hidden_size) # create hidden layer\n",
    "        self.output_layer =  nn.Linear(input_size + hidden_size, output_size)\n",
    "        self.softmax = nn.LogSoftmax(dim=1) # finish with a log softmax\n",
    "\n",
    "    def forward(self, input_, hidden):\n",
    "        # Put the computation for forward pass here\n",
    "        combined = torch.cat((input_, hidden), 1) # concatenate the input and hidden layers\n",
    "        output = self.output_layer(combined) # compute the output\n",
    "        output = self.softmax(output) # apply softmax\n",
    "        hidden = self.hidden_layer(combined) # compute the hidden layer\n",
    "\n",
    "        return output, hidden\n",
    "\n",
    "    def init_hidden(self):\n",
    "        return torch.zeros(1, self.hidden_size)\n",
    "\n",
    "    def score_old(self, X, Y):\n",
    "        self.predictions = torch.zeros((len(Y),), dtype=torch.long)\n",
    "        self.actuals = torch.zeros((len(Y),), dtype=torch.long)\n",
    "        processes = []\n",
    "        for i in range(len(X)):\n",
    "            song = X[i]\n",
    "            genre = Y[i]\n",
    "            p = mp.Process(target=self.score_song, args=(song, genre, i))\n",
    "            p.start()\n",
    "            processes.append(p)\n",
    "            if i % 100 == 0:\n",
    "                print(i, '/', len(X))\n",
    "        i = 0\n",
    "        for p in processes:\n",
    "            p.join()\n",
    "            if i % 1000 == 0:\n",
    "                print(i, '/', len(X))\n",
    "        r2 = R2Score()\n",
    "        return r2(self.predictions, self.actuals)\n",
    "\n",
    "    def score_song(self, song, genre, i):\n",
    "        hidden = self.init_hidden()\n",
    "        song_embedding = word2vec(song.split())\n",
    "        song_tensor = torch.tensor(np.expand_dims(song_embedding, axis=1), dtype=torch.float).detach()\n",
    "        for j in range(song_tensor.size()[0]):\n",
    "            output, hidden = self.forward(song_tensor[j], hidden.detach())\n",
    "        self.predictions[i] = output.topk(1)[1]\n",
    "        self.actuals[i] = genre\n",
    "\n",
    "    def score(self, X, Y):\n",
    "        self.predictions = torch.zeros((len(Y)))\n",
    "        self.actuals = torch.zeros((len(Y)))\n",
    "        for i in range(len(X)):\n",
    "            song = X[i]\n",
    "            genre = Y[i]\n",
    "            self.score_song(song, genre, i)\n",
    "            if i % 100 == 0:\n",
    "                print(i, '/', len(X))\n",
    "        r2 = R2Score()\n",
    "        return r2(self.predictions, self.actuals)\n",
    "\n",
    "\n",
    "def train_model_rnn(X, Y):\n",
    "    model = RNN(input_size=100, output_size=7, hidden_size=100, n_layers=2)\n",
    "\n",
    "    n_iters = 2\n",
    "    lr=1e-4\n",
    "    criterion = nn.NLLLoss()\n",
    "    optimizer = torch.optim.Adam(model.parameters(), lr=lr)\n",
    "    # reshape X\n",
    "    for iter in range(1, n_iters + 1):\n",
    "        optimizer.zero_grad()\n",
    "        hidden = model.init_hidden()\n",
    "        r_i = np.random.randint(0, len(X))\n",
    "        song_embedding = word2vec(X[r_i].split())\n",
    "        if len(song_embedding) == 0:\n",
    "            continue\n",
    "        song_tensor = torch.tensor(np.expand_dims(song_embedding, axis=1), dtype=torch.float)\n",
    "        genre_tensor = torch.tensor(np.expand_dims(Y[r_i], axis=0), dtype=torch.long)\n",
    "        for i in range(song_tensor.size()[0]):\n",
    "            output, hidden = model.forward(song_tensor[i], hidden)\n",
    "        loss = criterion(output, genre_tensor)\n",
    "        loss.backward()\n",
    "        optimizer.step()\n",
    "        if iter % 1000 == 0:\n",
    "            print(f'{iter}/{n_iters}')\n",
    "    return model\n",
    "\n",
    "# train model\n",
    "model_rnn = train_model_rnn(X_vec_train, Y_vec_train)"
   ]
  },
  {
   "cell_type": "markdown",
   "metadata": {},
   "source": [
    "## Evaluating the Model"
   ]
  },
  {
   "cell_type": "code",
   "execution_count": 11,
   "metadata": {},
   "outputs": [
    {
     "name": "stdout",
     "output_type": "stream",
     "text": [
      "0 / 236193\n",
      "100 / 236193\n",
      "200 / 236193\n",
      "300 / 236193\n",
      "400 / 236193\n",
      "500 / 236193\n",
      "600 / 236193\n"
     ]
    }
   ],
   "source": [
    "\n",
    "def evaluate_model_rnn(model, X_train, Y_train, X_test, Y_test):\n",
    "    train_accuracy = model.score(X_train, Y_train)\n",
    "    print('\\nTraining:')\n",
    "    print(' accuracy:',format( 100*train_accuracy , '.2f') ) \n",
    "\n",
    "    # Compute and print accuracy on the test data\n",
    "    print('\\nTesting: ')\n",
    "    test_accuracy = model.score(X_test, Y_test)\n",
    "    print(' accuracy:', format( 100*test_accuracy , '.2f') )\n",
    "\n",
    "evaluate_model_rnn(model_rnn, X_vec_train, Y_vec_train, X_vec_test, Y_vec_test)"
   ]
  },
  {
   "cell_type": "markdown",
   "metadata": {},
   "source": [
    "# Comparing the Models"
   ]
  },
  {
   "cell_type": "markdown",
   "metadata": {},
   "source": [
    "Comparing the results of Logistic Regression on BOW, Neural Network on BOW, Deep Neural Neural Network on BOW, and RNN on Word Embeddings:"
   ]
  },
  {
   "cell_type": "code",
   "execution_count": null,
   "metadata": {},
   "outputs": [],
   "source": []
  }
 ],
 "metadata": {
  "kernelspec": {
   "display_name": "Python 3.8.6 64-bit",
   "language": "python",
   "name": "python3"
  },
  "language_info": {
   "codemirror_mode": {
    "name": "ipython",
    "version": 3
   },
   "file_extension": ".py",
   "mimetype": "text/x-python",
   "name": "python",
   "nbconvert_exporter": "python",
   "pygments_lexer": "ipython3",
   "version": "3.8.6"
  },
  "orig_nbformat": 4,
  "vscode": {
   "interpreter": {
    "hash": "42882c6df7bbab75554bca0716bce55d5aed073351b42d738d29bd30decd2e04"
   }
  }
 },
 "nbformat": 4,
 "nbformat_minor": 2
}
