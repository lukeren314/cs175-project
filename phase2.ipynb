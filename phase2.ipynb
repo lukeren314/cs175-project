{
 "cells": [
  {
   "cell_type": "markdown",
   "metadata": {},
   "source": [
    "# CS Project 175 Phase 2"
   ]
  },
  {
   "cell_type": "code",
   "execution_count": null,
   "metadata": {},
   "outputs": [],
   "source": [
    "!pip install gensim"
   ]
  },
  {
   "cell_type": "code",
   "execution_count": 1,
   "metadata": {},
   "outputs": [],
   "source": [
    "import pandas as pd\n",
    "import numpy as np\n",
    "\n",
    "from nltk import word_tokenize\n",
    "from sklearn.feature_extraction.text import CountVectorizer\n",
    "from sklearn.model_selection import train_test_split\n",
    "from sklearn import linear_model \n",
    "from sklearn import metrics \n",
    "from sklearn import preprocessing\n",
    "\n",
    "import seaborn"
   ]
  },
  {
   "cell_type": "markdown",
   "metadata": {},
   "source": [
    "## Building the Pipeline"
   ]
  },
  {
   "cell_type": "code",
   "execution_count": 5,
   "metadata": {},
   "outputs": [],
   "source": [
    "RANDOM_STATE = 42\n",
    "\n",
    "def gather_data():\n",
    "    data = pd.read_csv('./data/data.csv')\n",
    "    return data['lyrics'], data['genre']\n",
    "\n",
    "def vectorize_labels(labels, classes=None):\n",
    "    '''\n",
    "    Vectorizes the labels.\n",
    "    Returns as (indexes, labels)\n",
    "    '''\n",
    "    if classes is None:\n",
    "        return pd.factorize(labels)\n",
    "    return pd.Categorical(labels, categories=classes).codes, classes\n",
    "\n",
    "\n",
    "# PHASE 1 START ----------------------------------------------------------------\n",
    "def features_bow(data):\n",
    "    vectorizer = CountVectorizer(stop_words='english', min_df=0.01, ngram_range=(1, 2))\n",
    "    text = data.to_list()\n",
    "    X = vectorizer.fit_transform(text)\n",
    "    return X, vectorizer\n",
    "\n",
    "def train_model_logistic(X, Y):\n",
    "    classifier = linear_model.LogisticRegression(penalty='l2', multi_class='multinomial', class_weight='balanced', random_state=RANDOM_STATE, fit_intercept=True)\n",
    "    classifier.fit(X, Y)\n",
    "    return classifier\n",
    "\n",
    "def evaluate_model_logistic(model, X_train, Y_train, X_test, Y_test):\n",
    "    train_accuracy = model.score(X_train, Y_train)\n",
    "    print('\\nTraining:')\n",
    "    print(' accuracy:',format( 100*train_accuracy , '.2f') ) \n",
    "\n",
    "    # Compute and print accuracy on the test data\n",
    "    print('\\nTesting: ')\n",
    "    test_accuracy = model.score(X_test, Y_test)\n",
    "    print(' accuracy:', format( 100*test_accuracy , '.2f') )\n",
    "\n",
    "    # Compute and print AUC on the test data\n",
    "    class_probabilities = model.predict_proba(X_test)\n",
    "    test_auc_score = metrics.roc_auc_score(Y_test, class_probabilities, multi_class='ovo')\n",
    "    print(' AUC value:', format( 100*test_auc_score , '.2f') )\n",
    "# PHASE 1 END ------------------------------------------------------------------\n",
    "\n",
    "# PHASE 2 START ----------------------------------------------------------------\n",
    "from gensim.models import Word2Vec\n",
    "from gensim.models import KeyedVectors\n",
    "import os\n",
    "\n",
    "def features_word2vec(data):\n",
    "    word_lists = data.str.split()\n",
    "    if not os.path.exists(\"word2vec.wordvectors\"):\n",
    "        print(\"Did not find pre-trained embeddings, training now...\")\n",
    "        model = Word2Vec(sentences=word_lists, vector_size=200, window=5, min_count=1, workers=4)\n",
    "        word_vectors = model.wv\n",
    "        word_vectors.save(\"word2vec.wordvectors\")\n",
    "    else:\n",
    "        print(\"Found pre-trained embeddings, loading now...\")\n",
    "        word_vectors = KeyedVectors.load(\"word2vec.wordvectors\", mmap='r')\n",
    "    print(\"Vectorizing features...\")\n",
    "    res = []\n",
    "    i = 0\n",
    "    for word_list in word_lists:\n",
    "        sub = []\n",
    "        for word in word_list:\n",
    "            if word in word_vectors:\n",
    "                sub.append(word_vectors[word])\n",
    "        res.append(sub)\n",
    "        if i % 1000 == 0:\n",
    "            print(i, \"/\", len(word_lists))\n",
    "        i += 1\n",
    "    return res\n",
    "\n",
    "def train_model_rnn(X, Y):\n",
    "    pass\n",
    "\n",
    "def evaluate_model_rnn(model, X_train, Y_train, X_test, Y_test):\n",
    "    pass\n",
    "\n",
    "# PHASE 2 END ------------------------------------------------------------------"
   ]
  },
  {
   "cell_type": "markdown",
   "metadata": {},
   "source": [
    "## Executing the Pipeline"
   ]
  },
  {
   "cell_type": "code",
   "execution_count": 6,
   "metadata": {},
   "outputs": [],
   "source": [
    "# Phase 2 pipeline\n",
    "inputs, labels = gather_data()"
   ]
  },
  {
   "cell_type": "code",
   "execution_count": 7,
   "metadata": {},
   "outputs": [
    {
     "name": "stdout",
     "output_type": "stream",
     "text": [
      "0 / 295288\n",
      "1000 / 295288\n"
     ]
    }
   ],
   "source": [
    "# convert to features\n",
    "Y_raw, classes = vectorize_labels(labels)\n",
    "# takes a long time to run!\n",
    "X_raw = features_word2vec(inputs)"
   ]
  },
  {
   "cell_type": "code",
   "execution_count": 3,
   "metadata": {},
   "outputs": [
    {
     "ename": "NameError",
     "evalue": "name 'X_raw' is not defined",
     "output_type": "error",
     "traceback": [
      "\u001b[1;31m---------------------------------------------------------------------------\u001b[0m",
      "\u001b[1;31mNameError\u001b[0m                                 Traceback (most recent call last)",
      "\u001b[1;32mc:\\Users\\luker\\Documents\\School\\2022-2023\\fall2022\\CS175\\cs175-project\\phase2.ipynb Cell 9\u001b[0m in \u001b[0;36m<cell line: 2>\u001b[1;34m()\u001b[0m\n\u001b[0;32m      <a href='vscode-notebook-cell:/c%3A/Users/luker/Documents/School/2022-2023/fall2022/CS175/cs175-project/phase2.ipynb#X66sZmlsZQ%3D%3D?line=0'>1</a>\u001b[0m \u001b[39m# remove songs with too few lyrics\u001b[39;00m\n\u001b[1;32m----> <a href='vscode-notebook-cell:/c%3A/Users/luker/Documents/School/2022-2023/fall2022/CS175/cs175-project/phase2.ipynb#X66sZmlsZQ%3D%3D?line=1'>2</a>\u001b[0m empty_vectors \u001b[39m=\u001b[39m [i \u001b[39mfor\u001b[39;00m i, x \u001b[39min\u001b[39;00m \u001b[39menumerate\u001b[39m(X_raw) \u001b[39mif\u001b[39;00m \u001b[39mlen\u001b[39m(x) \u001b[39m<\u001b[39m \u001b[39m10\u001b[39m]\n\u001b[0;32m      <a href='vscode-notebook-cell:/c%3A/Users/luker/Documents/School/2022-2023/fall2022/CS175/cs175-project/phase2.ipynb#X66sZmlsZQ%3D%3D?line=2'>3</a>\u001b[0m empty_vectors_set \u001b[39m=\u001b[39m \u001b[39mset\u001b[39m(empty_vectors)\n\u001b[0;32m      <a href='vscode-notebook-cell:/c%3A/Users/luker/Documents/School/2022-2023/fall2022/CS175/cs175-project/phase2.ipynb#X66sZmlsZQ%3D%3D?line=3'>4</a>\u001b[0m X \u001b[39m=\u001b[39m [v \u001b[39mfor\u001b[39;00m i, v \u001b[39min\u001b[39;00m \u001b[39menumerate\u001b[39m(X_raw) \u001b[39mif\u001b[39;00m i \u001b[39mnot\u001b[39;00m \u001b[39min\u001b[39;00m empty_vectors_set]\n",
      "\u001b[1;31mNameError\u001b[0m: name 'X_raw' is not defined"
     ]
    }
   ],
   "source": [
    "# remove inputs with too few vectors\n",
    "small_inputs = [i for i, x in enumerate(X_raw) if len(x) < 10]\n",
    "small_inputs_set = set(small_inputs)\n",
    "X = [v for i, v in enumerate(X_raw) if i not in small_inputs_set]\n",
    "Y = np.delete(Y_raw, small_inputs)"
   ]
  },
  {
   "cell_type": "code",
   "execution_count": null,
   "metadata": {},
   "outputs": [],
   "source": [
    "# split into training and test\n",
    "X_train, X_test, Y_train, Y_test = train_test_split(X, Y, test_size = 0.2, random_state=RANDOM_STATE)"
   ]
  },
  {
   "cell_type": "code",
   "execution_count": null,
   "metadata": {},
   "outputs": [],
   "source": [
    "# train model\n",
    "model = train_model_rnn(X_train, Y_train)"
   ]
  },
  {
   "cell_type": "markdown",
   "metadata": {},
   "source": [
    "## Evaluating the Model"
   ]
  },
  {
   "cell_type": "code",
   "execution_count": null,
   "metadata": {},
   "outputs": [],
   "source": [
    "evaluate_model_rnn(model, X_train, Y_train, X_test, Y_test)"
   ]
  },
  {
   "cell_type": "markdown",
   "metadata": {},
   "source": [
    "# Comparing the 2 Models"
   ]
  },
  {
   "cell_type": "code",
   "execution_count": null,
   "metadata": {},
   "outputs": [],
   "source": []
  }
 ],
 "metadata": {
  "kernelspec": {
   "display_name": "Python 3.10.6 64-bit",
   "language": "python",
   "name": "python3"
  },
  "language_info": {
   "codemirror_mode": {
    "name": "ipython",
    "version": 3
   },
   "file_extension": ".py",
   "mimetype": "text/x-python",
   "name": "python",
   "nbconvert_exporter": "python",
   "pygments_lexer": "ipython3",
   "version": "3.10.6"
  },
  "orig_nbformat": 4,
  "vscode": {
   "interpreter": {
    "hash": "7b2bee90d55464e0a4d3dee92f2ce936a28fa0d3744538f61c264101b3bf2266"
   }
  }
 },
 "nbformat": 4,
 "nbformat_minor": 2
}
